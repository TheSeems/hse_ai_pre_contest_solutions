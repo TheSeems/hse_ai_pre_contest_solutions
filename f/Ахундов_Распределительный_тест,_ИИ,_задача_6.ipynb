{
  "cells": [
    {
      "cell_type": "markdown",
      "metadata": {
        "id": "xrIiJuhjj2lX"
      },
      "source": [
        "## Часть 1. Парсинг (10 баллов)\n",
        "\n",
        "Мы предлагаем вам распарсить часть данных litres.ru — а именно часть про книги, имеющие отношение к программированию.\n",
        "\n",
        "Они находятся в этом каталоге: https://www.litres.ru/genre/programmirovanie-5272/\n",
        "\n",
        "Вам нужно собрать датасет о книгах с первых 40-ти страниц каталога (около 960 книг.)\n",
        "*Подсказка.* Можете начать с исследования html кода этой страницы.\n",
        "\n",
        "Вам необходимо собрать датасет, содержащий следующие данные:\n",
        "* name: название книги\n",
        "* author: автор\n",
        "* link: ссылка на книгу\n",
        "* rating: рейтинг по 5-балльной шкале\n",
        "* rating_count: количество оценок\n",
        "* review_count: количество отзывов\n",
        "* pages_count: объем (число страниц)\n",
        "* price: цена\n",
        "* text_reviews: тексты отзывов: список строк\n",
        "* age: возрастное ограничение\n",
        "* year: год написания\n",
        "\n",
        "В дальнейшем вам нужно будет анализировать полученный у вас датасет.\n",
        "\n",
        "Если у вас не получилось спарсить датасет, воспользуйтесь для последующих пунктов готовым датасетом: https://disk.yandex.ru/d/2UZet2-qxRxF6Q\n",
        "\n",
        " Так вы сможете получить баллы за вторую часть.\n",
        "\n",
        "(Датасет неидеален, с ним придется поработать!)\n",
        "\n",
        "**Парсите \"вежливо\": используйте time.sleep() не меньше 1-2 секунд между запросами к сайту!**"
      ]
    },
    {
      "cell_type": "code",
      "execution_count": 2,
      "metadata": {
        "id": "WyPQ5iSd72jg"
      },
      "outputs": [],
      "source": [
        "from bs4 import BeautifulSoup\n",
        "from unicodedata import normalize\n",
        "import requests\n",
        "import time\n",
        "import csv\n",
        "import tqdm"
      ]
    },
    {
      "cell_type": "code",
      "execution_count": 3,
      "metadata": {
        "id": "ikMAHU0-8BEZ"
      },
      "outputs": [],
      "source": [
        "URL_TEMPLATE = \"https://www.litres.ru/genre/programmirovanie-5272/?page={}\"\n",
        "BASE_URL = \"https://www.litres.ru\"\n",
        "PAGE_RANGE = range(1, 40)\n",
        "\n",
        "CARD_CLASS_NAME = \"ArtDefault_wrapper__VmWpW ArtDefault_wrapper__adaptive__VW5z0\"\n",
        "CONTAINER_CLASS_NAME = \"ArtDefault_container__0yjZl\"\n",
        "PAGINATOR_CLASS_NAME = \"Paginator_container__XXcz8\"\n",
        "COMMENT_CLASS_NAME = \"Comment_reviewText__PEkHn\"\n",
        "BOOK_TITLE_CLASS_NAME = \"BookCard_book__mainInfo__title___nFS4\"\n",
        "BOOK_REVIEW_CLASS_NAME = \"BookFactoids_primary__TVFhL\"\n",
        "AUTHOR_NAME_CLASS_NAME = \"BookAuthor_author__name__ORVlE\""
      ]
    },
    {
      "cell_type": "code",
      "execution_count": 4,
      "metadata": {
        "id": "FkbnySKT732l"
      },
      "outputs": [],
      "source": [
        "def parse_everything():\n",
        "    for page in tqdm.tqdm(PAGE_RANGE):\n",
        "        yield from parse_page(page)\n",
        "\n",
        "\n",
        "def parse_page(number: int):\n",
        "    page_content = requests.get(URL_TEMPLATE.format(number)).text\n",
        "    return parse_gallery(BeautifulSoup(page_content, \"html.parser\"))\n",
        "\n",
        "\n",
        "def parse_gallery(soup: BeautifulSoup):\n",
        "    for card in soup.findAll(\"div\", class_=CARD_CLASS_NAME):\n",
        "        try:\n",
        "            link = (\n",
        "                BASE_URL\n",
        "                + card.find(\"div\", attrs={\"data-testid\": \"art__cover\"}).a.attrs[\"href\"]\n",
        "            )\n",
        "            print(\"Parsing\", link, \"...\")\n",
        "            if \"audiobook\" in link:\n",
        "                print(\"Skipping audiobook\")\n",
        "                continue\n",
        "            full_page_text = requests.get(link).text\n",
        "            review_page_text = requests.get(link + f\"otzivi\").text\n",
        "            yield *parse_full_page(\n",
        "                BeautifulSoup(full_page_text, \"html.parser\")\n",
        "            ), link, [\n",
        "                *parse_reviews(link, BeautifulSoup(review_page_text, \"html.parser\"))\n",
        "            ]\n",
        "            time.sleep(1.5)\n",
        "        except Exception as e:\n",
        "            print(\"Failure to parse. Continue\", e)\n",
        "\n",
        "\n",
        "def parse_count_review_pages(soup: BeautifulSoup):\n",
        "    paginator = soup.find(\"div\", PAGINATOR_CLASS_NAME)\n",
        "    if paginator is None:\n",
        "        return 1\n",
        "    paginator_children = [*paginator.children]\n",
        "    return paginator_children[-1].a.text\n",
        "\n",
        "\n",
        "def parse_review_page(soup: BeautifulSoup):\n",
        "    for comment in soup.findAll(\"div\", class_=COMMENT_CLASS_NAME):\n",
        "        yield \"\".join(comment.findAll(string=True))\n",
        "\n",
        "\n",
        "def parse_reviews(base_url: str, soup: BeautifulSoup):\n",
        "    pages_count = parse_count_review_pages(soup)\n",
        "    for page in range(pages_count):\n",
        "        review_page_text = requests.get(base_url + f\"otzivi/?page={page + 1}\").text\n",
        "        time.sleep(1.5)\n",
        "        yield from parse_review_page(BeautifulSoup(review_page_text, \"html.parser\"))\n",
        "\n",
        "\n",
        "def parse_full_page(soup: BeautifulSoup):\n",
        "    def by_testid(testid: str, element: str = None):\n",
        "        return soup.find(attrs={\"data-testid\": testid})\n",
        "\n",
        "    name = soup.find(\"h1\", class_=BOOK_TITLE_CLASS_NAME).text\n",
        "    price = float(\n",
        "        normalize(\n",
        "            \"NFKD\", by_testid(\"book-sale-block__discount--art--price\").text[:-1]\n",
        "        ).replace(\" \", \"\").replace(\",\", \".\")\n",
        "    )\n",
        "\n",
        "    rating_root = by_testid(\"book-factoids__rating\")\n",
        "    rating_count = int(\n",
        "        rating_root.find(attrs={\"itemprop\": \"ratingCount\"}).attrs[\"content\"]\n",
        "    )\n",
        "    rating = float(rating_root.find(attrs={\"itemprop\": \"ratingValue\"}).attrs[\"content\"])\n",
        "\n",
        "    review_count = int(\n",
        "        by_testid(\"book-factoids__reviews\")\n",
        "        .find(\"div\", class_=BOOK_REVIEW_CLASS_NAME)\n",
        "        .span.text\n",
        "    )\n",
        "\n",
        "    volume_root = by_testid(\"book-volume__wrapper\")\n",
        "    volume_root_children = [*volume_root.children]\n",
        "    pages_count = int(volume_root_children[0].text.split()[1])\n",
        "    age = volume_root_children[-1].text\n",
        "\n",
        "    characteristics_wrapper = by_testid(\"book-characteristics__wrapper\")\n",
        "    year = None\n",
        "    for child in characteristics_wrapper.children:\n",
        "        if \"Дата написания\" in child.div.span.text:\n",
        "            year = int([*child.children][-1].text)\n",
        "    if soup.find(\"a\", class_=AUTHOR_NAME_CLASS_NAME):\n",
        "        author = soup.find(\"a\", class_=AUTHOR_NAME_CLASS_NAME).div.div.span.text\n",
        "    else:\n",
        "        author = None\n",
        "    return (\n",
        "        name,\n",
        "        price,\n",
        "        rating_count,\n",
        "        rating,\n",
        "        review_count,\n",
        "        pages_count,\n",
        "        age,\n",
        "        author,\n",
        "        year,\n",
        "    )\n"
      ]
    },
    {
      "cell_type": "code",
      "execution_count": 5,
      "metadata": {
        "colab": {
          "base_uri": "https://localhost:8080/",
          "height": 1000
        },
        "id": "_1Z0oMN5X_bt",
        "outputId": "9c4c8af0-ffd2-4452-bed3-924fc1181ed8"
      },
      "outputs": [
        {
          "name": "stderr",
          "output_type": "stream",
          "text": [
            "  0%|          | 0/39 [00:00<?, ?it/s]"
          ]
        },
        {
          "name": "stdout",
          "output_type": "stream",
          "text": [
            "Parsing https://www.litres.ru/book/toni-geddis-32491161/nachinaem-programmirovat-na-python-68998912/ ...\n",
            "Parsing https://www.litres.ru/book/vlad-hononov/izuchaem-ddd-predmetno-orientirovannoe-proektirovanie-70920895/ ...\n",
            "Parsing https://www.litres.ru/book/aleks-suy/system-design-podgotovka-k-slozhnomu-intervu-67193183/ ...\n",
            "Parsing https://www.litres.ru/book/martin-kleppman-1733/vysokonagruzhennye-prilozheniya-programmirovanie-mass-39100996/ ...\n",
            "Parsing https://www.litres.ru/book/dzheyd-karter/python-biblioteki-70323379/ ...\n",
            "Parsing https://www.litres.ru/book/dzheyd-karter/neyroseti-nachalo-69188950/ ...\n",
            "Parsing https://www.litres.ru/book/anna-bosova/informatika-7-klass-68294027/ ...\n",
            "Parsing https://www.litres.ru/book/endru-tanenbaum/arhitektura-komputera-66738078/ ...\n",
            "Parsing https://www.litres.ru/book/dzhon-bodner/go-idiomy-i-patterny-proektirovaniya-pdf-epub-67893687/ ...\n",
            "Parsing https://www.litres.ru/book/robert-s-martin/chistyy-kod-sozdanie-analiz-i-refaktoring-pdf-epub-6444478/ ...\n",
            "Parsing https://www.litres.ru/book/e-u-hrustaleva/razrabotka-slozhnyh-otchetov-v-1s-predpriyatii-8-sistema-ko-70927897/ ...\n",
            "Parsing https://www.litres.ru/book/e-u-hrustaleva/1s-predpriyatie-8-3-prakticheskoe-posobie-razrabotchika-pri-40932461/ ...\n",
            "Parsing https://www.litres.ru/book/nikita-zaycev-aka-wi/put-1s-razrabotki-ne-spesha-effektivno-i-pravilno-pdf-70415749/ ...\n",
            "Parsing https://www.litres.ru/book/pol-deytel/c-20-dlya-programmistov-pdf-epub-70870268/ ...\n",
            "Parsing https://www.litres.ru/book/dzheyd-karter/sozday-svoy-vpn-bezopasnoe-ispolzovanie-interneta-70388320/ ...\n",
            "Parsing https://www.litres.ru/book/kris-richardson-2184/mikroservisy-patterny-razrabotki-i-refaktoringa-pdf-e-50445630/ ...\n",
            "Parsing https://www.litres.ru/book/uliy-vasilev/python-dlya-data-science-pdf-epub-69434380/ ...\n",
            "Parsing https://www.litres.ru/book/robert-lafore/obektno-orientirovannoe-programmirovanie-v-c-66737838/ ...\n",
            "Parsing https://www.litres.ru/book/erik-chou/python-dlya-setevyh-inzhenerov-avtomatizaciya-seti-programmirova-68332360/ ...\n",
            "Parsing https://www.litres.ru/book/aleksey-nikolaevich-vasil/programmirovanie-na-python-v-primerah-i-zadachah-63455717/ ...\n",
            "Parsing https://www.litres.ru/book/a-v-ostroverh/razrabotka-interfeysa-prikladnyh-resheniy-na-platforme-1s-pr-69965059/ ...\n",
            "Parsing https://www.litres.ru/book/dzheyd-karter/120-prakticheskih-zadach-70808326/ ...\n",
            "Parsing https://www.litres.ru/book/e-u-hrustaleva/tehnologii-integracii-1s-predpriyatiya-8-3-56246183/ ...\n",
            "Parsing https://www.litres.ru/book/martin-fauler/shablony-korporativnyh-prilozheniy-48637483/ ...\n"
          ]
        },
        {
          "name": "stderr",
          "output_type": "stream",
          "text": [
            "  3%|▎         | 1/39 [01:40<1:03:33, 100.34s/it]"
          ]
        },
        {
          "name": "stdout",
          "output_type": "stream",
          "text": [
            "Parsing https://www.litres.ru/book/mark-richards-326443/fundamentalnyy-podhod-k-programmnoy-arhitekture-patte-69434368/ ...\n",
            "Parsing https://www.litres.ru/book/vladimir-horikov/principy-unit-testirovaniya-pdf-epub-64083637/ ...\n",
            "Parsing https://www.litres.ru/book/slava-gris/sdelay-videoigru-odin-i-ne-svihnis-68745309/ ...\n",
            "Parsing https://www.litres.ru/book/dzhon-vlissides/patterny-obektno-orientirovannogo-proektirovaniya-64073196/ ...\n",
            "Parsing https://www.litres.ru/book/don-griffits/head-first-programmirovanie-dlya-android-na-kotlin-69932284/ ...\n",
            "Parsing https://www.litres.ru/book/bendzhamin-dzh-evans/java-dlya-opytnyh-razrabotchikov-pdf-epub-70870265/ ...\n",
            "Parsing https://www.litres.ru/book/patrisha-foster/programmirovanie-na-python-s-nulya-uchimsya-dumat-kak-prog-68459110/ ...\n",
            "Parsing https://www.litres.ru/book/teyva-harshani/100-oshibok-go-i-kak-ih-izbezhat-epub-69932935/ ...\n",
            "Parsing https://www.litres.ru/book/anna-bosova/informatika-7-9-klassy-komputernyy-praktikum-66644798/ ...\n",
            "Parsing https://www.litres.ru/book/endru-park/python-za-7-dney-kratkiy-kurs-dlya-nachinauschih-pdf-epub-69434344/ ...\n",
            "Parsing https://www.litres.ru/book/dzheyd-karter/iskusstvennyy-intellekt-osnovnye-ponyatiya-70369546/ ...\n",
            "Parsing https://www.litres.ru/book/anirad-koul/iskusstvennyy-intellekt-i-komputernoe-zrenie-realnye-proekty-n-68677498/ ...\n",
            "Parsing https://www.litres.ru/audiobook/bruce-schneier/vzlomat-vse-kak-silnye-mira-sego-ispolzuut-uyazvimosti-sist-69415144/ ...\n",
            "Skipping audiobook\n",
            "Parsing https://www.litres.ru/book/igor-simdyanov/php-8-69845233/ ...\n",
            "Parsing https://www.litres.ru/book/anna-bosova/informatika-9-klass-68294054/ ...\n",
            "Parsing https://www.litres.ru/book/tatyana-aleksandrovn/c-c-programmirovanie-na-yazyke-vysokogo-urovnya-ucheb-66828878/ ...\n",
            "Parsing https://www.litres.ru/book/anna-bosova/informatika-8-klass-68294039/ ...\n",
            "Parsing https://www.litres.ru/book/byarne-straustrup/programmirovanie-principy-i-praktika-ispolzovaniya-c-8910007/ ...\n",
            "Parsing https://www.litres.ru/book/kirupa-chinnathambi/javascript-s-nulya-65486971/ ...\n",
            "Parsing https://www.litres.ru/book/raznoe-4340152/android-polnoe-rukovodstvo-po-razrabotke-prilozheniy-ot-soo-70447249/ ...\n",
            "Parsing https://www.litres.ru/book/nina-komolova/programmirovanie-na-vba-v-excel-samouchitel-70980223/ ...\n",
            "Parsing https://www.litres.ru/book/d-e-turchin/programmirovanie-obrabotki-na-stankah-s-chpu-67864908/ ...\n",
            "Parsing https://www.litres.ru/book/inna-evgenevna-kolos/osnovy-programmirovaniya-dlya-stankov-s-chpu-v-sam-si-67889297/ ...\n",
            "Parsing https://www.litres.ru/book/s-prata/yazyk-programmirovaniya-s-lekcii-i-uprazhneniya-8910003/ ...\n"
          ]
        },
        {
          "name": "stderr",
          "output_type": "stream",
          "text": [
            "  5%|▌         | 2/39 [03:17<1:00:43, 98.48s/it] "
          ]
        },
        {
          "name": "stdout",
          "output_type": "stream",
          "text": [
            "Parsing https://www.litres.ru/book/klarens-ho/spring-5-dlya-professionalov-48613790/ ...\n",
            "Parsing https://www.litres.ru/book/e-u-hrustaleva/rasshireniya-konfiguraciy-adaptaciya-prikladnyh-resheniy-s-40911721/ ...\n",
            "Parsing https://www.litres.ru/book/zhamak-dehgani/sovremennyy-podhod-k-programmnoy-arhitekture-slozhnye-kompr-69932209/ ...\n",
            "Parsing https://www.litres.ru/book/ueyn-vinston/biznes-modelirovanie-i-analiz-dannyh-reshenie-aktualnyh-zadac-64069201/ ...\n",
            "Parsing https://www.litres.ru/book/mareyn-haverbeke/vyrazitelnyy-javascript-sovremennoe-veb-programmirovanie-50447564/ ...\n",
            "Parsing https://www.litres.ru/book/dzheyd-karter/neyroseti-obrabotka-audiodannyh-69858871/ ...\n",
            "Parsing https://www.litres.ru/book/olga-nazina/test-dizayn-prakticheskoe-rukovodstvo-dlya-nachinauschih-69842647/ ...\n",
            "Parsing https://www.litres.ru/book/dzhordzh-hayneman/algoritmy-s-primerami-na-python-pdf-epub-69598561/ ...\n",
            "Parsing https://www.litres.ru/book/vladimir-dronov/python-3-i-pyqt-6-razrabotka-prilozheniy-68995387/ ...\n",
            "Parsing https://www.litres.ru/book/dasti-fillips/obektno-orientirovannyy-python-epub-70504741/ ...\n",
            "Parsing https://www.litres.ru/book/dzheyd-karter/neyroseti-generaciya-izobrazheniy-69532666/ ...\n",
            "Parsing https://www.litres.ru/book/d-g-koposov/tehnologiya-3d-modelirovanie-i-prototipirovanie-8-klass-68297141/ ...\n",
            "Parsing https://www.litres.ru/book/robert-s-martin/chistyy-kod-sozdanie-analiz-i-refaktoring-pdf-epub-70729888/ ...\n",
            "Parsing https://www.litres.ru/book/dzhon-horton-21544363/razrabotka-android-prilozheniy-s-nulya-69842353/ ...\n",
            "Parsing https://www.litres.ru/book/bleyk-mik/programmirovanie-na-kotlin-dlya-android-70920856/ ...\n",
            "Parsing https://www.litres.ru/book/dmitriy-zhemerov/kotlin-v-deystvii-27069061/ ...\n",
            "Parsing https://www.litres.ru/book/dzhozef-richards/mashinnoe-obuchenie-pdf-epub-25740052/ ...\n",
            "Parsing https://www.litres.ru/book/m-g-radchenko/1s-programmirovanie-dlya-nachinauschih-detyam-i-roditelyam-m-40932762/ ...\n",
            "Parsing https://www.litres.ru/book/dzheyd-karter/iskusstvennyy-intellekt-mashinnoe-obuchenie-70475146/ ...\n",
            "Parsing https://www.litres.ru/book/leyn-hobson-27650502/obrabotka-estestvennogo-yazyka-v-deystvii-64064936/ ...\n",
            "Parsing https://www.litres.ru/book/dzhosh-skin/kotlin-programmirovanie-dlya-professionalov-66738298/ ...\n",
            "Parsing https://www.litres.ru/book/e-u-hrustaleva/yazyk-zaprosov-1s-predpriyatiya-8-epub-40909721/ ...\n",
            "Parsing https://www.litres.ru/book/garri-persival-21051344/python-razrabotka-na-osnove-testirovaniya-48411143/ ...\n",
            "Parsing https://www.litres.ru/book/mark-siman/vnedrenie-zavisimostey-na-platforme-net-epub-66738278/ ...\n"
          ]
        },
        {
          "name": "stderr",
          "output_type": "stream",
          "text": [
            "  8%|▊         | 3/39 [05:02<1:00:55, 101.54s/it]"
          ]
        },
        {
          "name": "stdout",
          "output_type": "stream",
          "text": [
            "Parsing https://www.litres.ru/book/anna-bosova/informatika-bazovyy-uroven-10-11-klassy-komputernyy-praktikum-66644828/ ...\n",
            "Parsing https://www.litres.ru/book/andreas-m-antonopulos/osvaivaem-bitkoin-programmirovanie-blokcheyna-44867821/ ...\n",
            "Parsing https://www.litres.ru/book/kent-bek/ekstremalnoe-programmirovanie-razrabotka-cherez-testirovanie-164068/ ...\n",
            "Parsing https://www.litres.ru/book/mark-vinteringem/testirovanie-veb-api-epub-70504714/ ...\n",
            "Parsing https://www.litres.ru/book/mattias-nobak/obekty-stilnoe-oop-pdf-epub-69166270/ ...\n",
            "Parsing https://www.litres.ru/book/dag-tarnbull-1976644/relevantnyy-poisk-s-ispolzovaniem-elasticsearch-i-sol-45670040/ ...\n",
            "Parsing https://www.litres.ru/audiobook/dzhon-sonmez/karera-v-it-kak-nayti-rabotu-prokachat-navyki-i-stat-krutym-r-69436486/ ...\n",
            "Skipping audiobook\n",
            "Parsing https://www.litres.ru/book/aleks-suy/system-design-mashinnoe-obuchenie-podgotovka-k-slozhnomu-intervu-70415851/ ...\n",
            "Parsing https://www.litres.ru/book/raznoe-4340152/algoritmy-v-zadachah-i-primerah-samye-effektivnye-sposoby-i-70363786/ ...\n",
            "Parsing https://www.litres.ru/book/e-u-hrustaleva/1s-predpriyatie-8-3-prakticheskoe-posobie-razrabotchika-isp-68938089/ ...\n",
            "Parsing https://www.litres.ru/book/felin-hermans/um-programmista-kak-ponyat-i-osmyslit-luboy-kod-69283279/ ...\n",
            "Parsing https://www.litres.ru/book/dzhon-yablonski/zakony-ux-dizayna-68994901/ ...\n",
            "Parsing https://www.litres.ru/book/nikita-igorevich-ves/programmirovanie-v-unreal-engine-5-dlya-nachinauscheg-68655653/ ...\n",
            "Parsing https://www.litres.ru/book/alan-beaulieu/izuchaem-sql-24500342/ ...\n",
            "Parsing https://www.litres.ru/book/dzhey-dzhey-givaks/patterny-proektirovaniya-api-pdf-epub-69280438/ ...\n",
            "Parsing https://www.litres.ru/book/dzhenifer-tidvell-32/razrabotka-interfeysov-patterny-proektirovaniya-pdf-e-68332339/ ...\n",
            "Parsing https://www.litres.ru/book/boris-pashaver/pandas-v-deystvii-pdf-epub-69154057/ ...\n",
            "Parsing https://www.litres.ru/book/aleksandr-torgovkin/testirovanie-videoigr-ili-legkiy-sposob-popast-v-geymd-70895029/ ...\n",
            "Parsing https://www.litres.ru/book/entoni-uilyams/c-praktika-mnogopotochnogo-programmirovaniya-pdf-epub-64086907/ ...\n",
            "Parsing https://www.litres.ru/book/dzheffri-rihter/clr-via-c-programmirovanie-na-platforme-microsoft-net-fram-11643433/ ...\n",
            "Parsing https://www.litres.ru/book/e-u-hrustaleva/101-sovet-nachinauschim-razrabotchikam-v-sisteme-1s-predpri-70759390/ ...\n",
            "Parsing https://www.litres.ru/book/bredford-takfild/algoritmy-neformalno-instrukciya-dlya-nachinauschih-piton-68332388/ ...\n",
            "Parsing https://www.litres.ru/book/sem-numen/sozdanie-mikroservisov-pdf-epub-18307468/ ...\n",
            "Parsing https://www.litres.ru/book/a-benks-piter/react-sovremennye-shablony-dlya-razrabotki-prilozheniy-pdf-e-66655834/ ...\n"
          ]
        },
        {
          "name": "stderr",
          "output_type": "stream",
          "text": [
            " 10%|█         | 4/39 [06:48<1:00:14, 103.28s/it]"
          ]
        },
        {
          "name": "stdout",
          "output_type": "stream",
          "text": [
            "Parsing https://www.litres.ru/book/dzhoanna-yablonski/znakomstvo-s-python-epub-68677476/ ...\n",
            "Parsing https://www.litres.ru/book/hit-haskins/rukovodstvo-po-sozdaniu-igrovyh-mirov-roblox-ischerpyvauschiy-67974270/ ...\n",
            "Parsing https://www.litres.ru/book/mihalis-cukalos-2771/golang-dlya-profi-sozdaem-professionalnye-utility-par-69932944/ ...\n",
            "Parsing https://www.litres.ru/book/dzhey-vengrou/prikladnye-struktury-dannyh-i-algoritmy-prokachivaem-navyki-69932068/ ...\n",
            "Parsing https://www.litres.ru/book/stanislav-chernyshev/osnovy-dart-pdf-epub-70870241/ ...\n",
            "Parsing https://www.litres.ru/book/dzheyd-karter/svertochnye-neyroseti-70965715/ ...\n",
            "Parsing https://www.litres.ru/book/anatoliy-postolit/python-django-i-bootstrap-dlya-nachinauschih-70920859/ ...\n",
            "Parsing https://www.litres.ru/book/tim-maknamara/rust-v-deystvii-69842617/ ...\n",
            "Parsing https://www.litres.ru/book/kennedi-berman/osnovy-python-dlya-data-science-pdf-epub-69154048/ ...\n",
            "Parsing https://www.litres.ru/book/dmitriy-ryaboy/readme-surovye-realii-razrabotchikov-pdf-epub-69434365/ ...\n",
            "Parsing https://www.litres.ru/book/e-eremin/informatika-8-klass-68294042/ ...\n",
            "Parsing https://www.litres.ru/book/dzheymi-chan/python-bystryy-start-pdf-epub-64821132/ ...\n",
            "Parsing https://www.litres.ru/book/imran-ahmad-32550217/40-algoritmov-kotorye-dolzhen-znat-kazhdyy-programmis-69166264/ ...\n",
            "Parsing https://www.litres.ru/book/b-lubanovich/fastapi-veb-razrabotka-na-python-pdf-epub-70870316/ ...\n",
            "Parsing https://www.litres.ru/book/firma-1s-24817412/sbornik-zadach-dlya-podgotovki-k-ekzamenu-1s-specialist-68054173/ ...\n",
            "Parsing https://www.litres.ru/book/dzheyd-karter/neyroseti-obrabotka-estestvennogo-yazyka-69735148/ ...\n",
            "Parsing https://www.litres.ru/book/vladimir-dronov/javascript-i-node-js-dlya-veb-razrabotchikov-68995402/ ...\n",
            "Parsing https://www.litres.ru/book/dzhon-sharp-32913136/igry-dizayn-i-igrovoy-opyt-vse-ob-iterativnoy-razrabo-70291573/ ...\n",
            "Parsing https://www.litres.ru/book/maksim-ivanov-327709/algoritmicheskiy-trening-resheniya-prakticheskih-zada-69845677/ ...\n",
            "Parsing https://www.litres.ru/book/elizabet-robson/head-first-patterny-proektirovaniya-39123671/ ...\n",
            "Parsing https://www.litres.ru/book/d-uittaker/kak-testiruut-v-google-6701651/ ...\n",
            "Parsing https://www.litres.ru/book/olga-nazina/chto-takoe-testirovanie-kurs-molodogo-boyca-68998117/ ...\n",
            "Parsing https://www.litres.ru/book/hoffman-e/bezopasnost-veb-prilozheniy-razvedka-zaschita-napadenie-66414406/ ...\n",
            "Parsing https://www.litres.ru/book/mihail-flenov/bibliya-c-4575419/ ...\n"
          ]
        },
        {
          "name": "stderr",
          "output_type": "stream",
          "text": [
            " 13%|█▎        | 5/39 [08:36<59:28, 104.95s/it]  "
          ]
        },
        {
          "name": "stdout",
          "output_type": "stream",
          "text": [
            "Parsing https://www.litres.ru/book/raznoe-4340152/algoritmy-s-nulya-pdf-epub-70870256/ ...\n",
            "Parsing https://www.litres.ru/book/a-a-salahova/arduino-r-polnyy-uchebnyy-kurs-ot-igry-k-inzhenernomu-proektu-56509900/ ...\n",
            "Parsing https://www.litres.ru/book/vladston-ferreyra-fi/teoreticheskiy-minimum-po-computer-science-vse-chto-n-34946144/ ...\n",
            "Parsing https://www.litres.ru/book/dzh-hank-reynvoter/kak-pasti-kotov-nastavlenie-dlya-programmistov-rukovody-167876/ ...\n",
            "Parsing https://www.litres.ru/book/kayl-simpson/vy-poka-esche-ne-znaete-js-poznakomtes-javascript-pdf-epub-66658092/ ...\n",
            "Parsing https://www.litres.ru/book/alan-kuper/psihbolnica-v-rukah-pacientov-alan-kuper-ob-interfeysah-31736385/ ...\n",
            "Parsing https://www.litres.ru/book/martin-fauler/uml-osnovy-3-e-izdanie-24500318/ ...\n",
            "Parsing https://www.litres.ru/book/dmitriy-kolesnichenko/razrabotka-veb-prilozheniy-na-php-8-70980292/ ...\n",
            "Parsing https://www.litres.ru/book/dzhozef-u/yadro-cortex-m3-kompanii-arm-polnoe-rukovodstvo-48411055/ ...\n",
            "Parsing https://www.litres.ru/book/bruce-schneier/vzlomat-vse-kak-silnye-mira-sego-ispolzuut-uyazvimosti-sist-69316771/ ...\n",
            "Parsing https://www.litres.ru/book/vladimir-dronov/react-17-razrabotka-veb-prilozheniy-na-javascript-68998897/ ...\n",
            "Parsing https://www.litres.ru/book/aleksey-mihnin/realizaciya-proekta-mashinnogo-obucheniya-ot-a-do-ya-na-pri-69563596/ ...\n",
            "Parsing https://www.litres.ru/book/n-prohorenok/qt-6-razrabotka-okonnyh-prilozheniy-na-c-68995504/ ...\n",
            "Parsing https://www.litres.ru/book/natalya-andrianova/sozdaem-interaktivnye-istorii-tvorcheskiy-process-na-pr-70567234/ ...\n",
            "Parsing https://www.litres.ru/book/pol-orland/matematicheskie-algoritmy-dlya-programmistov-3d-grafika-mashinn-69154042/ ...\n",
            "Parsing https://www.litres.ru/book/liz-rays/bezopasnost-konteynerov-fundamentalnyy-podhod-k-zaschite-konteyne-66657872/ ...\n",
            "Parsing https://www.litres.ru/book/a-s-stepashkina/chislennye-metody-i-mashinnoe-obuchenie-v-metrologii-70883221/ ...\n",
            "Parsing https://www.litres.ru/book/vilyam-springer/gid-po-computer-science-rasshirennoe-izdanie-64082076/ ...\n",
            "Parsing https://www.litres.ru/book/aleks-dzh-gatman/razberis-v-data-science-kak-osvoit-nauku-o-dannyh-i-nauch-69106330/ ...\n",
            "Parsing https://www.litres.ru/book/anatoliy-postolit/python-django-i-pycharm-dlya-nachinauschih-67727943/ ...\n",
            "Parsing https://www.litres.ru/book/antti-laaksonen/olimpiadnoe-programmirovanie-44867813/ ...\n",
            "Parsing https://www.litres.ru/book/rod-haggarti/diskretnaya-matematika-dlya-programmistov-2785815/ ...\n",
            "Parsing https://www.litres.ru/book/raznoe-4340152/python-samoe-polnoe-rukovodstvo-po-razrabotke-v-primerah-ot-70338082/ ...\n",
            "Parsing https://www.litres.ru/book/raznoe-4340152/python-osnovy-programmirovaniya-70957852/ ...\n"
          ]
        },
        {
          "name": "stderr",
          "output_type": "stream",
          "text": [
            " 15%|█▌        | 6/39 [10:34<1:00:07, 109.32s/it]"
          ]
        },
        {
          "name": "stdout",
          "output_type": "stream",
          "text": [
            "Parsing https://www.litres.ru/book/yan-poynter-27650377/programmiruem-s-pytorch-sozdanie-prilozheniy-glubokog-64082211/ ...\n",
            "Parsing https://www.litres.ru/book/ues-makkinni-10688670/python-i-analiz-dannyh-22805830/ ...\n",
            "Parsing https://www.litres.ru/book/timur-mashnin-301845/tehnologiya-hraneniya-i-obrabotki-bolshih-dannyh-hado-65077172/ ...\n",
            "Parsing https://www.litres.ru/book/timur-mashnin-30184546/osnovy-programmirovaniya-s-java-67715945/ ...\n",
            "Parsing https://www.litres.ru/book/tom-long/horoshiy-kod-plohoy-kod-patterny-i-antipatterny-masterstva-70297336/ ...\n",
            "Parsing https://www.litres.ru/book/robertu-ieruzalimski/programmirovanie-na-yazyke-lua-9998731/ ...\n",
            "Parsing https://www.litres.ru/book/kori-althoff/sam-sebe-programmist-kak-nauchitsya-programmirovat-i-ustroits-33397888/ ...\n",
            "Parsing https://www.litres.ru/book/dzherard-mesarosh/shablony-testirovaniya-xunit-refaktoring-koda-testov-48637685/ ...\n",
            "Parsing https://www.litres.ru/book/ched-fauler/programmist-fanatik-9535814/ ...\n",
            "Parsing https://www.litres.ru/book/oleg-cilurik/rasshireniya-yadra-linux-drayvery-i-moduli-70297339/ ...\n",
            "Parsing https://www.litres.ru/book/aleksandr-grigorev-17431327/robototehnika-v-shkole-i-doma-kniga-proektov-67726632/ ...\n",
            "Parsing https://www.litres.ru/book/lukas-da-kosta/testirovanie-javascript-68677386/ ...\n",
            "Parsing https://www.litres.ru/book/manuel-rubio-sanches/vvedenie-v-rekursivnoe-programmirovanie-43643419/ ...\n",
            "Parsing https://www.litres.ru/book/raymond-restenburg-21050895/akka-v-deystvii-48411239/ ...\n",
            "Parsing https://www.litres.ru/book/dzhulen-vehen-218451/bezopasnyy-devops-effektivnaya-ekspluataciya-sistem-p-50447731/ ...\n",
            "Parsing https://www.litres.ru/book/n-prohorenok/osnovy-java-39288481/ ...\n",
            "Parsing https://www.litres.ru/book/dzheyd-karter/iskusstvennyy-intellekt-v-prikladnyh-naukah-transport-i-logi-70531261/ ...\n",
            "Parsing https://www.litres.ru/book/aleksey-nikolaevich-vasilev/programmirovanie-na-c-v-primerah-i-zadachah-22054458/ ...\n",
            "Parsing https://www.litres.ru/book/dzheff-patton/polzovatelskie-istorii-iskusstvo-gibkoy-razrabotki-po-24396028/ ...\n",
            "Parsing https://www.litres.ru/book/a-v-grinshkun/tehnologiya-3d-modelirovanie-prototipirovanie-i-maketirovani-68297144/ ...\n",
            "Parsing https://www.litres.ru/book/irv-kalb/obektno-orientirovannoe-programmirovanie-s-pomoschu-python-70281793/ ...\n",
            "Parsing https://www.litres.ru/book/czike-chong/kak-byt-uspeshnym-v-data-science-effektivnoe-upravlenie-proekt-70499026/ ...\n",
            "Parsing https://www.litres.ru/book/alan-kuper/alan-kuper-ob-interfeyse-osnovy-proektirovaniya-vzaimodeystviya-24499430/ ...\n",
            "Parsing https://www.litres.ru/book/dzheyson-orendorf-19727107/programmirovanie-na-yazyke-rust-45670192/ ...\n"
          ]
        },
        {
          "name": "stderr",
          "output_type": "stream",
          "text": [
            " 18%|█▊        | 7/39 [12:37<1:00:37, 113.68s/it]"
          ]
        },
        {
          "name": "stdout",
          "output_type": "stream",
          "text": [
            "Parsing https://www.litres.ru/book/timur-kazancev/iskusstvennyy-intellekt-i-mashinnoe-obuchenie-osnovy-progra-59162107/ ...\n",
            "Parsing https://www.litres.ru/audiobook/aleksandr-torgovkin/testirovanie-videoigr-ili-legkiy-sposob-popast-v-geymd-70918156/ ...\n",
            "Skipping audiobook\n",
            "Parsing https://www.litres.ru/audiobook/nikita-zaycev-aka-wildha/put-1s-razrabotki-ne-spesha-effektivno-i-pravilno-70789105/ ...\n",
            "Skipping audiobook\n",
            "Parsing https://www.litres.ru/book/dzheremi-gibson-bond/unity-i-s-geymdev-ot-idei-do-realizacii-pdf-epub-64085991/ ...\n",
            "Parsing https://www.litres.ru/book/dzhosh-lospinozo/c-dlya-profi-64821742/ ...\n",
            "Parsing https://www.litres.ru/book/ilya-leonidovich-hohlov/samouchitel-kurs-sql-bazy-dannyh-oracle-69188986/ ...\n",
            "Parsing https://www.litres.ru/book/el-sveygart/python-chistyy-kod-dlya-prodolzhauschih-67781789/ ...\n",
            "Parsing https://www.litres.ru/book/endru-trask-21142618/grokaem-glubokoe-obuchenie-pdf-epub-48613333/ ...\n",
            "Parsing https://www.litres.ru/book/uill-kurt-30699932/bayesovskaya-statistika-star-wars-lego-rezinovye-utochk-65486692/ ...\n",
            "Parsing https://www.litres.ru/book/daniel-zingaro-32366/algoritmy-na-praktike-reshenie-realnyh-zadach-pdf-epu-69166267/ ...\n",
            "Parsing https://www.litres.ru/book/bassens-aglae/glubokoe-obuchenie-v-kartinkah-vizualnyy-gid-po-iskusstvenno-64070316/ ...\n",
            "Parsing https://www.litres.ru/book/mitch-seymur/kafka-streams-i-ksqldb-dannye-v-realnom-vremeni-pdf-epub-69166225/ ...\n",
            "Parsing https://www.litres.ru/book/naomi-seder-18777952/python-ekspress-kurs-pdf-epub-43123781/ ...\n",
            "Parsing https://www.litres.ru/book/bill-bedzhek-2763012/kafka-streams-v-deystvii-prilozheniya-i-mikroservisy-64085361/ ...\n",
            "Parsing https://www.litres.ru/book/mark-hekler/spring-boot-po-bystromu-sozdaem-oblachnye-prilozheniya-na-java-67749222/ ...\n",
            "Parsing https://www.litres.ru/book/akash-tandon-3291427/rasshirennaya-analitika-s-pyspark-prakticheskie-prime-70297333/ ...\n",
            "Parsing https://www.litres.ru/book/mihail-flenov/php-glazami-hakera-4986825/ ...\n",
            "Parsing https://www.litres.ru/book/d-v-myakishev/razrabotka-programmnogo-obespecheniya-asu-tp-na-osnove-obekt-43703754/ ...\n",
            "Parsing https://www.litres.ru/book/devid-rid-33100549/neyroseti-osnovy-70891537/ ...\n",
            "Parsing https://www.litres.ru/book/dzheyms-rambo/uml-2-0-obektno-orientirovannoe-modelirovanie-i-razrabotka-11814149/ ...\n",
            "Parsing https://www.litres.ru/book/slava-gris/oshibki-razrabotchikov-videoigr-ot-idei-do-provala-69611302/ ...\n",
            "Parsing https://www.litres.ru/book/a-f-zadorozhnyy/osnovy-vychisleniy-i-programmirovaniya-v-pakete-mathcad-pr-65997754/ ...\n",
            "Parsing https://www.litres.ru/book/robert-zubek/elementy-geym-dizayna-kak-sozdavat-igry-ot-kotoryh-nevozmozhn-67823346/ ...\n",
            "Parsing https://www.litres.ru/book/kris-simmonds/vstraivaemye-sistemy-na-osnove-linux-27071892/ ...\n"
          ]
        },
        {
          "name": "stderr",
          "output_type": "stream",
          "text": [
            " 21%|██        | 8/39 [14:21<57:11, 110.70s/it]  "
          ]
        },
        {
          "name": "stdout",
          "output_type": "stream",
          "text": [
            "Parsing https://www.litres.ru/book/gevin-king-21051037/java-persistence-api-i-hibernate-48411103/ ...\n",
            "Parsing https://www.litres.ru/book/lorens-lars-svekis/javascript-s-nulya-do-profi-pdf-epub-69434440/ ...\n",
            "Parsing https://www.litres.ru/book/dzhordzh-maunt/pogruzhenie-v-analitiku-dannyh-ot-excel-k-python-i-r-70297342/ ...\n",
            "Parsing https://www.litres.ru/book/denis-vladimirovich-golikov/python-dlya-unyh-programmistov-68999056/ ...\n",
            "Parsing https://www.litres.ru/book/r-mitchell/sovremennyy-skraping-veb-saytov-s-pomoschu-python-pdf-epub-64822502/ ...\n",
            "Parsing https://www.litres.ru/book/aleksey-mihaylovich-gubernatorov/ekonomika-na-python-66911154/ ...\n",
            "Parsing https://www.litres.ru/book/deyv-teylor/scenarii-komandnoy-obolochki-linux-os-x-i-unix-pdf-epub-25740100/ ...\n",
            "Parsing https://www.litres.ru/book/geyl-makdauell/karera-programmista-8343620/ ...\n",
            "Parsing https://www.litres.ru/book/vasiliy-sabirov-3241/igra-v-cifry-kak-analitika-pozvolyaet-videoigram-zhit-55523374/ ...\n",
            "Parsing https://www.litres.ru/book/duglas-krokford/kak-ustroen-javascript-pdf-epub-48613309/ ...\n",
            "Parsing https://www.litres.ru/book/nishant-shakla-18777941/mashinnoe-obuchenie-i-tensorflow-pdf-epub-43123739/ ...\n",
            "Parsing https://www.litres.ru/book/sergey-fomin/kurs-programmirovaniya-na-yazyke-si-uchebnik-6573320/ ...\n",
            "Parsing https://www.litres.ru/book/igor-oschenko/1s-upravlenie-torgovley-8-3-s-nulya-50-urokov-dlya-nachinaus-19223355/ ...\n",
            "Parsing https://www.litres.ru/audiobook/aleksandra-turabova/geymdizayn-na-praktike-kak-nachat-zarabatyvat-70586371/ ...\n",
            "Skipping audiobook\n",
            "Parsing https://www.litres.ru/book/arkadiy-polyakov/yazyki-vhdl-i-verilog-v-proektirovanii-cifrovoy-apparatur-8333316/ ...\n",
            "Parsing https://www.litres.ru/book/viktor-shitov/avtomatizaciya-rutiny-v-excel-vba-layfhaki-dlya-oblegcheniya-69230242/ ...\n",
            "Parsing https://www.litres.ru/book/alina-malginova/sbornik-laboratornyh-rabot-dlya-studentov-uchebnyh-zaveden-63799417/ ...\n",
            "Parsing https://www.litres.ru/book/vitaliy-hazan/qbasic-pervyy-shag-k-poznaniu-programmirovaniya-komputernyy-70883482/ ...\n",
            "Parsing https://www.litres.ru/book/fransua-sholle-17338303/glubokoe-obuchenie-na-python-pdf-epub-39113884/ ...\n",
            "Parsing https://www.litres.ru/book/brayan-uord/vnutrennee-ustroystvo-linux-pdf-epub-21589583/ ...\n",
            "Parsing https://www.litres.ru/book/dzhanet-gregori/gibkoe-testirovanie-prakticheskoe-rukovodstvo-dlya-testiro-48613742/ ...\n",
            "Parsing https://www.litres.ru/book/luka-antiga/pytorch-osveschaya-glubokoe-obuchenie-epub-68677464/ ...\n",
            "Parsing https://www.litres.ru/book/piter-gudlif/remeslo-programmista-praktika-napisaniya-horoshego-koda-24500782/ ...\n",
            "Parsing https://www.litres.ru/book/felipe-guterres/spring-boot-2-luchshie-praktiki-dlya-professionalov-64070357/ ...\n"
          ]
        },
        {
          "name": "stderr",
          "output_type": "stream",
          "text": [
            " 23%|██▎       | 9/39 [16:28<57:57, 115.90s/it]"
          ]
        },
        {
          "name": "stdout",
          "output_type": "stream",
          "text": [
            "Parsing https://www.litres.ru/book/kristi-uilson/grokaem-continuous-delivery-70504576/ ...\n",
            "Parsing https://www.litres.ru/book/mark-siman/kod-kotoryy-umeschaetsya-v-golove-evristiki-dlya-razrabotchikov-69434188/ ...\n",
            "Parsing https://www.litres.ru/book/entoni-uilyams/parallelnoe-programmirovanie-na-c-v-deystvii-praktika-razra-6110986/ ...\n",
            "Parsing https://www.litres.ru/book/dzh-vander-plas/python-dlya-slozhnyh-zadach-nauka-o-dannyh-i-mashinnoe-obu-27612904/ ...\n",
            "Parsing https://www.litres.ru/book/b-karvin/antipatterny-sql-kak-izbezhat-lovushek-pri-rabote-s-bazami-dannyh-70870280/ ...\n",
            "Parsing https://www.litres.ru/book/aleksey-nikolaevich-vasilev/programmirovanie-na-java-dlya-nachinauschih-48793435/ ...\n",
            "Parsing https://www.litres.ru/book/elena-krylova-320902/python-dlya-detey-kotorye-poka-ne-programmiruut-v-zad-68998459/ ...\n",
            "Parsing https://www.litres.ru/book/vladimir-dronov/django-3-0-praktika-sozdaniya-veb-saytov-na-python-68998900/ ...\n",
            "Parsing https://www.litres.ru/book/aleksandr-kazanskiy-8931/razrabotka-prilozheniy-na-swift-i-swiftui-s-nulya-67726731/ ...\n",
            "Parsing https://www.litres.ru/book/s-v-borzunov/zadachi-po-diskretnoy-matematike-s-algoritmami-na-python-23878157/ ...\n",
            "Parsing https://www.litres.ru/book/andrey-akinshin-3191/professionalnyy-benchmark-iskusstvo-izmereniya-proizv-67195021/ ...\n",
            "Parsing https://www.litres.ru/audiobook/natalya-andrianova/sozdaem-interaktivnye-istorii-tvorcheskiy-process-na-pr-70564108/ ...\n",
            "Skipping audiobook\n",
            "Parsing https://www.litres.ru/book/entoni-shou/vnutri-cpython-gid-po-interpretatoru-python-pdf-epub-69166258/ ...\n",
            "Parsing https://www.litres.ru/audiobook/slava-gris/sdelay-videoigru-odin-i-ne-svihnis-68885115/ ...\n",
            "Skipping audiobook\n",
            "Parsing https://www.litres.ru/audiobook/slava-gris/oshibki-razrabotchikov-videoigr-ot-idei-do-provala-70021345/ ...\n",
            "Skipping audiobook\n",
            "Parsing https://www.litres.ru/book/nishit-patak/iskusstvennyy-intellekt-dlya-net-rech-yazyk-i-poisk-44336391/ ...\n",
            "Parsing https://www.litres.ru/book/daniel-zingaro-32366/python-bez-problem-reshaem-realnye-zadachi-i-pishem-p-68677490/ ...\n",
            "Parsing https://www.litres.ru/book/vadim-nikitin-32700223/julia-yazyk-programmirovaniya-bystryy-start-69596290/ ...\n",
            "Parsing https://www.litres.ru/book/chak-lem/hadoop-v-deystvii-6655625/ ...\n",
            "Parsing https://www.litres.ru/book/ben-klemens-2/yazyk-s-v-xxi-veke-10001740/ ...\n",
            "Parsing https://www.litres.ru/book/s-ingersoll-grant/obrabotka-nestrukturirovannyh-tekstov-poisk-organizaciya-22861090/ ...\n",
            "Parsing https://www.litres.ru/audiobook/aleksandra-zhuravlev/kratkoe-izlozhenie-knigi-geymdizayn-kak-sozdat-igru-v-70621144/ ...\n",
            "Skipping audiobook\n",
            "Parsing https://www.litres.ru/book/kirill-gusev-3310315/razrabotka-mobilnyh-prilozheniy-na-yazyke-kotlin-uche-70898572/ ...\n",
            "Parsing https://www.litres.ru/book/mett-batcher/go-na-praktike-27072032/ ...\n"
          ]
        },
        {
          "name": "stderr",
          "output_type": "stream",
          "text": [
            " 26%|██▌       | 10/39 [18:02<52:46, 109.20s/it]"
          ]
        },
        {
          "name": "stdout",
          "output_type": "stream",
          "text": [
            "Parsing https://www.litres.ru/book/kirill-gusev-3310315/razrabotka-mobilnyh-prilozheniy-na-yazyke-kotlin-uche-70898572/ ...\n",
            "Parsing https://www.litres.ru/book/mett-batcher/go-na-praktike-27072032/ ...\n",
            "Parsing https://www.litres.ru/book/matthew-ball/metavselennaya-kak-ona-menyaet-nash-mir-68817987/ ...\n",
            "Parsing https://www.litres.ru/book/a-v-koryagin/roblox-v-deystvii-iskusstvo-razrabotki-igr-pdf-epub-70765225/ ...\n",
            "Parsing https://www.litres.ru/book/dmitriy-kagan/reshenie-osnovnyh-zadach-lineynoy-algebry-na-yazyke-r-i-exce-69900631/ ...\n",
            "Parsing https://www.litres.ru/book/erik-metiz/izuchaem-python-programmirovanie-igr-vizualizaciya-dannyh-veb-p-64070132/ ...\n",
            "Parsing https://www.litres.ru/book/uriy-revich/azbuka-elektroniki-izuchaem-arduino-9244986/ ...\n",
            "Parsing https://www.litres.ru/book/gebriel-gambetta/komputernaya-grafika-reytreysing-i-rasterizaciya-pdf-epub-67321527/ ...\n",
            "Parsing https://www.litres.ru/book/boris-chernyy-276503/professionalnyy-typescript-razrabotka-masshtabiruemyh-64081906/ ...\n",
            "Parsing https://www.litres.ru/book/mihal-yavorski/python-luchshie-praktiki-i-instrumenty-65486627/ ...\n",
            "Parsing https://www.litres.ru/book/mihal-plahta/grokaem-funkcionalnoe-programmirovanie-69932608/ ...\n",
            "Parsing https://www.litres.ru/audiobook/dzheyd-karter/neyroseti-nachalo-69246082/ ...\n",
            "Skipping audiobook\n",
            "Parsing https://www.litres.ru/book/el-sveygart/rekursivnaya-kniga-o-rekursii-pdf-epub-69434434/ ...\n",
            "Parsing https://www.litres.ru/book/kalle-rozenbaum/grokaem-tehnologiu-bitkoin-51797872/ ...\n",
            "Parsing https://www.litres.ru/book/dzhon-skit/software-oshibki-i-kompromissy-pri-razrabotke-po-pdf-epub-69280267/ ...\n",
            "Parsing https://www.litres.ru/book/dzheyd-karter/oblachnye-tehnologii-prakticheskoe-rukovodstvo-po-sozdaniu-i-70273999/ ...\n",
            "Parsing https://www.litres.ru/book/dzhon-sonmez/gibkie-navyki-ischerpyvauschee-rukovodstvo-po-prokachke-sebya-69792499/ ...\n",
            "Parsing https://www.litres.ru/audiobook/dzheyd-karter/python-biblioteki-70356406/ ...\n",
            "Skipping audiobook\n",
            "Parsing https://www.litres.ru/book/iv-hilpish/python-dlya-finansistov-bazovye-koncepcii-pdf-epub-69280429/ ...\n",
            "Parsing https://www.litres.ru/book/metu-makdonald/javascript-recepty-dlya-razrabotchikov-epub-69932422/ ...\n",
            "Parsing https://www.litres.ru/book/key-horstmann/scala-dlya-neterpelivyh-6089833/ ...\n",
            "Parsing https://www.litres.ru/book/roman-viktorovich-dushkin/funkcionalnoe-programmirovanie-na-yazyke-haskell-434225/ ...\n",
            "Parsing https://www.litres.ru/book/anil-madhavapeddi/programmirovanie-na-yazyke-ocaml-10002028/ ...\n",
            "Parsing https://www.litres.ru/book/d-a-hramov/sbor-dannyh-v-internete-na-yazyke-r-22968330/ ...\n"
          ]
        },
        {
          "name": "stderr",
          "output_type": "stream",
          "text": [
            " 28%|██▊       | 11/39 [19:53<51:12, 109.73s/it]"
          ]
        },
        {
          "name": "stdout",
          "output_type": "stream",
          "text": [
            "Parsing https://www.litres.ru/book/aleksey-nikolaevich-vasilev/javascript-v-primerah-i-zadachah-26336630/ ...\n",
            "Parsing https://www.litres.ru/book/dzhon-beyktal/konstruiruem-robotov-ot-a-do-ya-polnoe-rukovodstvo-dlya-nach-35232935/ ...\n",
            "Parsing https://www.litres.ru/book/keyt-gregori/krasivyy-c-30-glavnyh-pravil-chistogo-bezopasnogo-i-bystrogo-69166243/ ...\n",
            "Parsing https://www.litres.ru/book/hose-aro-peralta/mikroservisy-i-api-pdf-epub-70870307/ ...\n",
            "Parsing https://www.litres.ru/book/a-v-koryagin/python-velikoe-programmirovanie-v-minecraft-65989169/ ...\n",
            "Parsing https://www.litres.ru/book/sem-numen/ot-monolita-k-mikroservisam-67727850/ ...\n",
            "Parsing https://www.litres.ru/book/vladimir-dronov/php-i-mysql-25-urokov-dlya-nachinauschih-66338142/ ...\n",
            "Parsing https://www.litres.ru/book/lubov-zalogova/informatika-7-klass-68294030/ ...\n",
            "Parsing https://www.litres.ru/book/kim-bentli/upravlenie-elektronnymi-ustroystvami-na-c-22988275/ ...\n",
            "Parsing https://www.litres.ru/book/charlz-petcold/chitaem-turinga-puteshestvie-po-istoricheskoy-state-turinga-22998586/ ...\n",
            "Parsing https://www.litres.ru/book/a-v-dikov/klientskie-tehnologii-veb-dizayna-html5-i-css3-66003090/ ...\n",
            "Parsing https://www.litres.ru/book/adam-bellemar/sozdanie-sobytiyno-upravlyaemyh-mikroservisov-masshtabirovan-68999167/ ...\n",
            "Parsing https://www.litres.ru/book/evgeniy-pavlov-32814604/znakomtes-python-sekrety-professii-69960799/ ...\n",
            "Parsing https://www.litres.ru/book/aleksandr-grigorev-1/scratch-i-arduino-dlya-unyh-programmistov-i-konstrukt-39285673/ ...\n",
            "Parsing https://www.litres.ru/book/aleksey-goloschapov/google-android-sozdanie-prilozheniy-dlya-smartfonov-i-11838662/ ...\n",
            "Parsing https://www.litres.ru/book/brayan-makmahan-2763/znakomstvo-s-pytorch-glubokoe-obuchenie-pri-obrabotke-64086751/ ...\n",
            "Parsing https://www.litres.ru/book/reyna-berditt/programmirovanie-na-scratch-s-nulya-sozdaem-veselye-igry-oho-69190843/ ...\n",
            "Parsing https://www.litres.ru/book/nina-pushkina/microsoft-access-2013-7068431/ ...\n",
            "Parsing https://www.litres.ru/book/mark-sammerfild-2/python-na-praktike-sozdanie-kachestvennyh-programm-s-isp-22677289/ ...\n",
            "Parsing https://www.litres.ru/book/lloyd-brombah/prakticheskaya-robototehnika-c-i-raspberry-pi-70297363/ ...\n",
            "Parsing https://www.litres.ru/book/dzhon-dakett/php-i-mysql-servernaya-veb-razrabotka-69530218/ ...\n",
            "Parsing https://www.litres.ru/book/dzhon-dakett/html-i-css-razrabotka-i-dizayn-veb-saytov-38272898/ ...\n",
            "Parsing https://www.litres.ru/book/b-lubanovich/prostoy-python-sovremennyy-stil-programmirovaniya-64073626/ ...\n",
            "Parsing https://www.litres.ru/book/shilds-u/sql-bystroe-pogruzhenie-pdf-epub-67891383/ ...\n"
          ]
        },
        {
          "name": "stderr",
          "output_type": "stream",
          "text": [
            " 31%|███       | 12/39 [21:45<49:38, 110.31s/it]"
          ]
        },
        {
          "name": "stdout",
          "output_type": "stream",
          "text": [
            "Parsing https://www.litres.ru/book/li-vogan/python-dlya-hakerov-netrivialnye-zadachi-i-proekty-pdf-epub-69280240/ ...\n",
            "Parsing https://www.litres.ru/book/dzhosh-fisher/grokaem-striming-obrabotka-sobytiy-v-realnom-vremeni-68677454/ ...\n",
            "Parsing https://www.litres.ru/book/uriy-revich/prakticheskoe-programmirovanie-mikrokontrollerov-atmel-avr-na-11838168/ ...\n",
            "Parsing https://www.litres.ru/book/skott-ouks/effektivnyy-java-tuning-koda-na-java-8-11-i-dalshe-pdf-epub-64482657/ ...\n",
            "Parsing https://www.litres.ru/book/dzheyd-karter/iskusstvennyy-intellekt-v-prikladnyh-naukah-medicina-70509361/ ...\n",
            "Parsing https://www.litres.ru/book/brayson-peyn/python-dlya-detey-i-roditeley-2-e-izdanie-23307721/ ...\n",
            "Parsing https://www.litres.ru/book/grigoriy-radovilskiy/kak-sozdautsya-igry-osnovy-razrabotki-dlya-nachinausc-69595954/ ...\n",
            "Parsing https://www.litres.ru/book/slava-gris/nastolnaya-kniga-igrodela-70504264/ ...\n",
            "Parsing https://www.litres.ru/book/anatoliy-enin/lokalnaya-subd-svoimi-rukami-uchimsya-na-primerah-8339282/ ...\n",
            "Parsing https://www.litres.ru/book/reuven-m-lerner/python-intensiv-50-bystryh-uprazhneniy-70295242/ ...\n",
            "Parsing https://www.litres.ru/book/k-u-polyakov/programmirovanie-python-c-chast-2-uchebnoe-posobie-66645398/ ...\n",
            "Parsing https://www.litres.ru/book/maykl-killik/geym-dizayn-kak-sozdautsya-igry-70403311/ ...\n",
            "Parsing https://www.litres.ru/book/t-gracianova/informatika-programmirovanie-v-primerah-i-zadachah-11278926/ ...\n",
            "Parsing https://www.litres.ru/book/dzheyd-karter/iot-internet-veschey-70850635/ ...\n",
            "Parsing https://www.litres.ru/audiobook/timur-kazancev/iskusstvennyy-intellekt-i-mashinnoe-obuchenie-osnovy-progra-68018912/ ...\n",
            "Skipping audiobook\n",
            "Parsing https://www.litres.ru/book/panos-luridas-13218705/algoritmy-samyy-kratkiy-i-ponyatnyy-kurs-67586637/ ...\n",
            "Parsing https://www.litres.ru/book/stoyan-stefanov-2/javascript-shablony-24500294/ ...\n",
            "Parsing https://www.litres.ru/book/k-dikinson/optimizaciya-igr-v-unity-5-sovety-i-metody-optimizacii-igrovyh-22861122/ ...\n",
            "Parsing https://www.litres.ru/book/r-l-leybov/prikladnye-metody-teorii-upravleniya-17187080/ ...\n",
            "Parsing https://www.litres.ru/book/valiappa-lakshmanan/mashinnoe-obuchenie-patterny-proektirovaniya-podgotovk-68998432/ ...\n",
            "Parsing https://www.litres.ru/book/patrik-viafore/nadezhnyy-python-pishem-chistyy-kod-kotoryy-udobno-podderzh-70297360/ ...\n",
            "Parsing https://www.litres.ru/book/igor-lazarevskiy/mama-ne-otvlekay-ya-python-uchu-70920910/ ...\n",
            "Parsing https://www.litres.ru/book/k-u-polyakov/programmirovanie-python-c-chast-3-uchebnoe-posobie-66645404/ ...\n",
            "Parsing https://www.litres.ru/book/vyacheslav-utochkin/hochu-v-geymdev-osnovy-igrovoy-razrabotki-dlya-nachina-67098924/ ...\n"
          ]
        },
        {
          "name": "stderr",
          "output_type": "stream",
          "text": [
            " 33%|███▎      | 13/39 [23:30<47:05, 108.67s/it]"
          ]
        },
        {
          "name": "stdout",
          "output_type": "stream",
          "text": [
            "Parsing https://www.litres.ru/book/aleksey-alekseevich/intellij-idea-professionalnoe-programmirovanie-na-jav-647725/ ...\n",
            "Parsing https://www.litres.ru/book/svetlin-nakov/s-osnovy-programmirovaniya-70881667/ ...\n",
            "Parsing https://www.litres.ru/book/irina-nikulina-32315/kurs-obucheniya-razrabotka-sayta-na-konstruktore-s-vi-70460005/ ...\n",
            "Parsing https://www.litres.ru/book/kristian-mayer/iskusstvo-chistogo-koda-pdf-epub-69598552/ ...\n",
            "Parsing https://www.litres.ru/book/galina-sablina/programmirovanie-yazyk-si-70019818/ ...\n",
            "Parsing https://www.litres.ru/book/vladimir-dronov/javascript-20-urokov-dlya-nachinauschih-66338206/ ...\n",
            "Parsing https://www.litres.ru/book/vladimir-dronov/html-i-css-25-urokov-dlya-nachinauschih-66338066/ ...\n",
            "Parsing https://www.litres.ru/book/fred-hebert/izuchay-erlang-vo-imya-dobra-dlya-nachinauschih-22848251/ ...\n",
            "Parsing https://www.litres.ru/book/timur-mashnin-30184546/vvedenie-v-veb-razrabotku-s-html-css-javascript-70112947/ ...\n",
            "Parsing https://www.litres.ru/book/aleksandr-bankrashkov/programmirovanie-dlya-detey-na-yazyke-python-28059456/ ...\n",
            "Parsing https://www.litres.ru/book/mihail-momot/mobilnye-roboty-na-baze-arduino-23878269/ ...\n",
            "Parsing https://www.litres.ru/book/aleksandr-frolov-198/sozdanie-smart-kontraktov-solidity-dlya-blokcheyna-et-45279075/ ...\n",
            "Parsing https://www.litres.ru/book/anna-bosova/informatika-6-klass-68294021/ ...\n",
            "Parsing https://www.litres.ru/audiobook/dzheyd-karter/neyroseti-obrabotka-estestvennogo-yazyka-69797437/ ...\n",
            "Skipping audiobook\n",
            "Parsing https://www.litres.ru/book/dzheyms-denis/programmirovanie-dlya-dopolnitelnoy-i-virtualnoy-realnosti-70641874/ ...\n",
            "Parsing https://www.litres.ru/book/grigoriy-makeev/obektno-orientirovannoe-programmirovanie-s-nulya-k-solid-i-70980220/ ...\n",
            "Parsing https://www.litres.ru/audiobook/dzheyd-karter/sozday-svoy-vpn-bezopasnoe-ispolzovanie-interneta-70425325/ ...\n",
            "Skipping audiobook\n",
            "Parsing https://www.litres.ru/audiobook/ilya-kyrchumaru/it-kompas-kak-pravilno-programmirovat-it-kareru-70953118/ ...\n",
            "Skipping audiobook\n",
            "Parsing https://www.litres.ru/book/leonid-mylnikov/statisticheskie-metody-intellektualnogo-analiza-dannyh-67727342/ ...\n",
            "Parsing https://www.litres.ru/book/artem-demidenko/volshebnyy-python-skazka-dlya-detey-i-novichkov-s-naglyadn-71013385/ ...\n",
            "Parsing https://www.litres.ru/book/igor-petrov-2/programmiruemye-kontrollery-standartnye-yazyki-i-priemy-prik-8336941/ ...\n",
            "Parsing https://www.litres.ru/book/n-u-boklag/osnovy-programmirovaniya-na-yazyke-python-17004921/ ...\n",
            "Parsing https://www.litres.ru/book/d-g-koposov/robototehnika-konstruktor-spike-5-8-klassy-uchebnoe-posobie-66645350/ ...\n",
            "Parsing https://www.litres.ru/book/devid-pog/mac-os-x-snow-leopard-osnovnoe-rukovodstvo-24499630/ ...\n"
          ]
        },
        {
          "name": "stderr",
          "output_type": "stream",
          "text": [
            " 36%|███▌      | 14/39 [25:08<43:55, 105.40s/it]"
          ]
        },
        {
          "name": "stdout",
          "output_type": "stream",
          "text": [
            "Parsing https://www.litres.ru/audiobook/goyko-adzhich/impact-mapping-kak-povysit-effektivnost-programmnyh-produkto-51242157/ ...\n",
            "Skipping audiobook\n",
            "Parsing https://www.litres.ru/book/denis-kolisnichenko/programmirovanie-dlya-android-5582097/ ...\n",
            "Parsing https://www.litres.ru/book/fin-dert/s-nulya-do-pitonista-68753790/ ...\n",
            "Parsing https://www.litres.ru/book/n-komlev/samouchitel-igry-na-paskale-abc-i-nemnogo-turbo-8342572/ ...\n",
            "Parsing https://www.litres.ru/audiobook/konstantin-konstantinovich-berlinskiy/osnovy-neyrosetey-68485798/ ...\n",
            "Skipping audiobook\n",
            "Parsing https://www.litres.ru/book/eduard-danisovich-shakiryanov/komputernoe-zrenie-na-python-pervye-shagi-63606057/ ...\n",
            "Parsing https://www.litres.ru/book/dmitriy-osipov/delphi-professionalnoe-programmirovanie-24500182/ ...\n",
            "Parsing https://www.litres.ru/book/brett-mclaughlin/java-i-xml-2-e-izdanie-24500198/ ...\n",
            "Parsing https://www.litres.ru/book/andrey-kurov/vvedenie-v-informacionnye-tehnologii-i-programmirovanie-na-ya-70399681/ ...\n",
            "Parsing https://www.litres.ru/book/e-u-hrustaleva/znakomstvo-s-razrabotkoy-mobilnyh-prilozheniy-na-platforme-40928675/ ...\n",
            "Parsing https://www.litres.ru/book/viktor-tarapata/uchimsya-vmeste-so-scratch-programmirovanie-igry-robototeh-39829280/ ...\n",
            "Parsing https://www.litres.ru/book/k-i-astahova/sozdaem-igry-s-kodu-game-lab-39829273/ ...\n",
            "Parsing https://www.litres.ru/book/dzheyson-sanders/tehnologiya-cuda-v-primerah-vvedenie-v-programmirovanie-g-22075050/ ...\n",
            "Parsing https://www.litres.ru/book/devid-eyzenberg/vvedenie-v-elixir-vvedenie-v-funkcionalnoe-programmirovani-27068717/ ...\n",
            "Parsing https://www.litres.ru/audiobook/dzheyd-karter/iskusstvennyy-intellekt-mashinnoe-obuchenie-70494385/ ...\n",
            "Skipping audiobook\n",
            "Parsing https://www.litres.ru/book/robert-s-martin/idealnyy-programmist-kak-stat-professionalom-razrabotki-po-11961798/ ...\n",
            "Parsing https://www.litres.ru/book/stiven-levitan/regulyarnye-vyrazheniya-sbornik-receptov-24499942/ ...\n",
            "Parsing https://www.litres.ru/book/dzhust-visser/razrabotka-obsluzhivaemyh-programm-na-yazyke-s-22873450/ ...\n",
            "Parsing https://www.litres.ru/book/dmitriy-fedoseev-298/programmirovanie-na-yazyke-mql5-ot-osnov-do-indikator-64831712/ ...\n",
            "Parsing https://www.litres.ru/book/e-u-hrustaleva/101-sovet-nachinauschim-razrabotchikam-v-sisteme-1s-predpri-40932103/ ...\n",
            "Parsing https://www.litres.ru/book/d-g-koposov/robototehnika-upravlenie-kvadrokopterom-8-11-klassy-uchebnoe-p-66645348/ ...\n",
            "Parsing https://www.litres.ru/book/aygul-sultanova/1s-schetchik-voron-master-klass-po-mobilnoy-razrabotke-v-s-68298742/ ...\n",
            "Parsing https://www.litres.ru/book/vladimir-dronov/javascript-i-ajax-v-web-dizayne-6991132/ ...\n"
          ]
        },
        {
          "name": "stderr",
          "output_type": "stream",
          "text": [
            " 38%|███▊      | 15/39 [26:40<40:36, 101.53s/it]"
          ]
        },
        {
          "name": "stdout",
          "output_type": "stream",
          "text": [
            "Parsing https://www.litres.ru/audiobook/matthew-ball/metavselennaya-kak-ona-menyaet-nash-mir-68949237/ ...\n",
            "Skipping audiobook\n",
            "Parsing https://www.litres.ru/book/ya-a-hetagurov/proektirovanie-avtomatizirovannyh-sistem-obrabotki-informac-6602170/ ...\n",
            "Parsing https://www.litres.ru/book/p-n-bibilo/sintez-logicheskih-shem-s-ispolzovaniem-yazyka-vhdl-8333227/ ...\n",
            "Parsing https://www.litres.ru/book/devid-leblank/uyazvimosti-v-programmnom-kode-i-borba-s-nimi-45706999/ ...\n",
            "Failure to parse. Continue ('Connection aborted.', RemoteDisconnected('Remote end closed connection without response'))\n",
            "Parsing https://www.litres.ru/book/d-i-goncharov/osnovy-operativno-proizvodstvennogo-planirovaniya-s-ispolzov-64890552/ ...\n",
            "Parsing https://www.litres.ru/book/igor-oschenko/azbuka-programmirovaniya-v-1s-predpriyatie-8-3-19223419/ ...\n",
            "Parsing https://www.litres.ru/book/dzhon-vlissides/priemy-obektno-orientirovannogo-proektirovaniya-patterny-p-16419747/ ...\n",
            "Parsing https://www.litres.ru/book/g-revunkov/vvedenie-v-proektirovanie-i-razrabotku-prilozheniy-na-yazyke-pr-70334086/ ...\n",
            "Parsing https://www.litres.ru/book/pavel-agurov/asp-net-sbornik-receptov-2901275/ ...\n",
            "Parsing https://www.litres.ru/book/nulls/laravel-gayd-po-vyzhivaniu-69850618/ ...\n",
            "Failure to parse. Continue could not convert string to float: '89,90'\n",
            "Parsing https://www.litres.ru/book/timur-mashnin-301845/eclipse-razrabotka-rcp-web-ajax-i-android-prilozheniy-7061647/ ...\n",
            "Parsing https://www.litres.ru/book/aleksandr-pobegaylo/sistemnoe-programmirovanie-v-windows-6654118/ ...\n",
            "Parsing https://www.litres.ru/book/piter-seybel/kodery-za-rabotoy-razmyshleniya-o-remesle-programmista-24499454/ ...\n",
            "Parsing https://www.litres.ru/book/a-s-potapov/raspoznavanie-obrazov-i-mashinnoe-vospriyatie-27351864/ ...\n",
            "Parsing https://www.litres.ru/book/aleksandr-frolov-198/robototehnika-prakticheskoe-vvedenie-dlya-detey-i-vzr-55547238/ ...\n",
            "Parsing https://www.litres.ru/book/vadim-glagolev/razrabotka-tehnicheskoy-dokumentacii-rukovodstvo-dlya-tehni-583215/ ...\n",
            "Parsing https://www.litres.ru/book/artem-demidenko/telegram-bot-rukovodstvo-po-sozdaniu-bota-v-messendzhere-t-69163303/ ...\n",
            "Parsing https://www.litres.ru/book/sergey-babin/instrumentariy-hakera-11838226/ ...\n",
            "Parsing https://www.litres.ru/book/artem-demidenko/vse-ob-ii-chat-bote-chatgpt-69144952/ ...\n",
            "Parsing https://www.litres.ru/book/aleksey-pavlovich-borisov/programmirovanie-na-scratchjr-dlya-detey-5-7-let-63551401/ ...\n",
            "Parsing https://www.litres.ru/book/vitaliy-aleksandrovi/sekrety-datasetov-prakticheskoe-rukovodstvo-po-analiz-69217987/ ...\n",
            "Parsing https://www.litres.ru/book/aleksandra-zhuravlev/kratkoe-izlozhenie-knigi-geymdizayn-kak-sozdat-igru-v-69446119/ ...\n",
            "Parsing https://www.litres.ru/book/viktor-tarapata/podgotovka-k-oge-po-informatike-9-klass-66644944/ ...\n",
            "Parsing https://www.litres.ru/book/oleg-cilurik/linux-i-go-effektivnoe-nizkourovnevoe-programmirovanie-69842341/ ...\n",
            "Parsing https://www.litres.ru/book/erik-rey/izuchaem-xml-24500686/ ...\n"
          ]
        },
        {
          "name": "stderr",
          "output_type": "stream",
          "text": [
            " 41%|████      | 16/39 [28:33<40:15, 105.01s/it]"
          ]
        },
        {
          "name": "stdout",
          "output_type": "stream",
          "text": [
            "Parsing https://www.litres.ru/book/alan-beaulieu/sekrety-oracle-sql-24500158/ ...\n",
            "Parsing https://www.litres.ru/book/niklaus-virt/algoritmy-i-struktury-dannyh-22072427/ ...\n",
            "Parsing https://www.litres.ru/book/nikolay-sekunov/programmirovanie-na-c-v-linux-642295/ ...\n",
            "Parsing https://www.litres.ru/book/aleksandr-leonenkov/samouchitel-uml-2-2914325/ ...\n",
            "Parsing https://www.litres.ru/book/denis-kolisnichenko/komandnaya-stroka-linux-i-avtomatizaciya-rutinnyh-zada-8370530/ ...\n",
            "Parsing https://www.litres.ru/book/maksim-strukov/putevoditel-v-mir-ruchnogo-testirovaniya-otkrytie-dveri-v-t-69489553/ ...\n",
            "Failure to parse. Continue 'NoneType' object has no attribute 'text'\n",
            "Parsing https://www.litres.ru/book/e-u-hrustaleva/oblachnye-tehnologii-1s-predpriyatiya-2epub-40927980/ ...\n",
            "Parsing https://www.litres.ru/book/artem-demidenko/smart-kontrakty-chto-takoe-smart-kontrakt-i-kak-ego-sozdat-69557629/ ...\n",
            "Parsing https://www.litres.ru/book/marina-polubenceva/c-c-procedurnoe-programmirovanie-2898215/ ...\n",
            "Parsing https://www.litres.ru/book/robert-s-martin/97-etudov-dlya-programmistov-opyt-veduschih-ekspertov-24499790/ ...\n",
            "Parsing https://www.litres.ru/book/robert-glass/kreativnoe-programmirovanie-2-0-24500702/ ...\n",
            "Parsing https://www.litres.ru/book/s-s-devyatov/proektirovanie-programmnogo-obespecheniya-s-ispolzovaniem-sta-5616293/ ...\n",
            "Parsing https://www.litres.ru/book/o-v-ratanova/metody-sozdaniya-avtomatizirovannyh-sredstv-obucheniya-progra-64310917/ ...\n",
            "Parsing https://www.litres.ru/book/denis-kolisnichenko/komandnaya-stroka-linux-i-avtomatizaciya-rutinnyh-zada-11838273/ ...\n",
            "Parsing https://www.litres.ru/book/artem-demidenko/ponyatnyy-python-s-naglyadnym-kodom-dlya-detey-i-nachinaus-69576925/ ...\n",
            "Parsing https://www.litres.ru/book/sergey-nikolaevich-talipov/lekcii-po-c-dlya-nachinauschih-65450676/ ...\n",
            "Parsing https://www.litres.ru/book/u-skott-mins/xml-spravochnik-24500414/ ...\n",
            "Parsing https://www.litres.ru/book/skott-mayers/effektivnoe-ispolzovanie-c-55-vernyh-sposobov-uluchshit-struk-436575/ ...\n",
            "Parsing https://www.litres.ru/book/mihail-flenov/programmirovanie-na-s-glazami-hakera-4575395/ ...\n",
            "Parsing https://www.litres.ru/book/mark-lutc/izuchaem-python-3-e-izdanie-24500438/ ...\n",
            "Parsing https://www.litres.ru/book/aleks-devis/asinhronnoe-programmirovanie-v-c-5-0-6090304/ ...\n",
            "Parsing https://www.litres.ru/book/n-n-ivanov/programmirovanie-v-linux-samouchitel-5326706/ ...\n",
            "Parsing https://www.litres.ru/book/dmitriy-soshnikov/funkcionalnoe-programmirovanie-na-f-22075394/ ...\n",
            "Parsing https://www.litres.ru/book/leen-ammeraal/stl-dlya-programmistov-na-c-632425/ ...\n"
          ]
        },
        {
          "name": "stderr",
          "output_type": "stream",
          "text": [
            " 44%|████▎     | 17/39 [30:31<39:55, 108.89s/it]"
          ]
        },
        {
          "name": "stdout",
          "output_type": "stream",
          "text": [
            "Parsing https://www.litres.ru/book/uilyam-robison/s-bez-lishnih-slov-22780734/ ...\n",
            "Parsing https://www.litres.ru/book/uriy-magda/programmirovanie-i-otladka-c-c-prilozheniy-dlya-mikrokontroller-6572492/ ...\n",
            "Parsing https://www.litres.ru/book/kris-smit-11752319/programmirovanie-na-f-24500110/ ...\n",
            "Parsing https://www.litres.ru/book/d-i-goncharov/reshenie-specialnyh-prikladnyh-zadach-v-1s-predpriyatii-70570555/ ...\n",
            "Parsing https://www.litres.ru/book/oleg-kalashnikov/assembler-eto-prosto-uchimsya-programmirovat-648605/ ...\n",
            "Parsing https://www.litres.ru/book/daniil-lisicin/programmirovanie-na-yazyke-assemblera-48433271/ ...\n",
            "Parsing https://www.litres.ru/book/galina-ivanova-59945/laboratornyy-praktikum-po-programmirovaniu-na-assembl-69375232/ ...\n",
            "Parsing https://www.litres.ru/book/nataliya-vihor/programmirovanie-na-yazyke-assembler-64459267/ ...\n",
            "Parsing https://www.litres.ru/book/evgeniy-nikulin/komputernaya-geometriya-i-algoritmy-mashinnoy-grafiki-641765/ ...\n",
            "Parsing https://www.litres.ru/book/igor-safronov/visual-basic-v-zadachah-i-primerah-2-e-izdanie-11837981/ ...\n",
            "Parsing https://www.litres.ru/audiobook/irina-nikulina-32315/kurs-obucheniya-razrabotka-sayta-na-konstruktore-s-vi-70474018/ ...\n",
            "Skipping audiobook\n",
            "Parsing https://www.litres.ru/book/aleksandr-chirtik/html-populyarnyy-samouchitel-183576/ ...\n",
            "Parsing https://www.litres.ru/book/robert-glass/programmirovanie-i-konflikty-2-0-teoriya-i-praktika-programmn-24499358/ ...\n",
            "Parsing https://www.litres.ru/book/u-rubin/modelirovanie-turistskih-klasterov-destinacii-5000695/ ...\n",
            "Parsing https://www.litres.ru/book/dzhoel-spolski/dzhoel-o-programmirovanii-24500086/ ...\n",
            "Parsing https://www.litres.ru/book/egor-goroshko/qnx-unix-anatomiya-parallelizma-24499878/ ...\n",
            "Parsing https://www.litres.ru/book/rostislav-miheev/vba-i-programmirovanie-v-ms-office-dlya-polzovateley-2932665/ ...\n",
            "Parsing https://www.litres.ru/book/robert-glass/fakty-i-zabluzhdeniya-professionalnogo-programmirovaniya-24500806/ ...\n",
            "Parsing https://www.litres.ru/book/a-v-tolok/avtomatizaciya-graficheskogo-sposoba-resheniya-nekotoryh-matemat-4970922/ ...\n",
            "Parsing https://www.litres.ru/book/mihail-zaycev-19031959/modulnoe-testirovanie-68891055/ ...\n",
            "Parsing https://www.litres.ru/book/dmitriy-vadimovich-deniso/razrabotka-igry-na-unity-s-nulya-i-do-realizacii-66554918/ ...\n",
            "Parsing https://www.litres.ru/book/pavel-chistov/sbornik-zadach-pro-razrabotke-na-platforme-1s-predpriyatie-51840352/ ...\n",
            "Parsing https://www.litres.ru/book/luis-rozenfeld/informacionnaya-arhitektura-v-internete-2-e-izdanie-24499910/ ...\n",
            "Parsing https://www.litres.ru/book/igor-oschenko/1c-predpriyatie-torgovlya-i-sklad-dlya-nachinauschih-7063217/ ...\n"
          ]
        },
        {
          "name": "stderr",
          "output_type": "stream",
          "text": [
            " 46%|████▌     | 18/39 [32:23<38:23, 109.68s/it]"
          ]
        },
        {
          "name": "stdout",
          "output_type": "stream",
          "text": [
            "Parsing https://www.litres.ru/book/dmitriy-ryazancev/1s-torgovlya-i-sklad-7-7-6661971/ ...\n",
            "Parsing https://www.litres.ru/book/vadim-budilov/internet-programmirovanie-na-java-641775/ ...\n",
            "Parsing https://www.litres.ru/book/nina-lygina-14813191/razrabotka-trebovaniy-k-programmnomu-produktu-69995950/ ...\n",
            "Parsing https://www.litres.ru/book/aleksandr-leonenkov/nechetkoe-modelirovanie-v-srede-matlab-i-fuzzytech-2914335/ ...\n",
            "Parsing https://www.litres.ru/book/a-a-drobyshev/osnovy-matematicheskogo-modelirovaniya-i-optimizacii-na-yazy-70187536/ ...\n",
            "Parsing https://www.litres.ru/book/georgiy-rapakov/programmirovanie-na-yazyke-pascal-643065/ ...\n",
            "Parsing https://www.litres.ru/audiobook/nulls/laravel-gayd-po-vyzhivaniu-69899122/ ...\n",
            "Skipping audiobook\n",
            "Parsing https://www.litres.ru/book/vitaliy-potopahin/yazyk-c-osvoy-na-primerah-2901305/ ...\n",
            "Parsing https://www.litres.ru/book/denis-kolisnichenko/rukovodstvo-po-komandam-i-shell-programmirovaniu-v-lin-5005358/ ...\n",
            "Parsing https://www.litres.ru/book/sergey-svet/cifrovaya-skazka-zahvatyvauschee-puteshestvie-v-volshebnuu-str-70232341/ ...\n",
            "Failure to parse. Continue could not convert string to float: '99,90'\n",
            "Parsing https://www.litres.ru/book/a-a-volkov/modelirovanie-inzhenernyh-sistem-i-tehnologicheskih-processov-42135423/ ...\n",
            "Parsing https://www.litres.ru/book/t-a-astashova/osnovy-programmirovaniya-70005622/ ...\n",
            "Parsing https://www.litres.ru/book/galina-mihalchenko/matematicheskaya-logika-i-teoriya-algoritmov-65761134/ ...\n",
            "Parsing https://www.litres.ru/book/evgeniy-kornilov-2/programmirovanie-shahmat-i-drugih-logicheskih-igr-6653091/ ...\n",
            "Parsing https://www.litres.ru/book/v-v-rybalka/hello-1c-primer-bystroy-razrabotki-prilozheniy-na-1s-predpriya-40497838/ ...\n",
            "Parsing https://www.litres.ru/audiobook/maksim-strukov/putevoditel-v-mir-ruchnogo-testirovaniya-otkrytie-dveri-v-t-69522040/ ...\n",
            "Skipping audiobook\n",
            "Parsing https://www.litres.ru/book/uriy-schupak/win32-api-razrabotka-prilozheniy-dlya-windows-583875/ ...\n",
            "Parsing https://www.litres.ru/book/a-s-kopyrin/programmirovanie-na-python-66495918/ ...\n",
            "Parsing https://www.litres.ru/book/v-g-kulikov/teoriya-algoritmov-67929624/ ...\n",
            "Parsing https://www.litres.ru/book/igor-shaposhnikov/web-sayt-svoimi-rukami-640825/ ...\n",
            "Parsing https://www.litres.ru/book/a-cvetkova/informatika-i-informacionnye-tehnologii-konspekt-lekciy-179645/ ...\n",
            "Failure to parse. Continue could not convert string to float: '44,95'\n",
            "Parsing https://www.litres.ru/book/vadim-ohapkin/bazovye-znaniya-testirovschika-veb-prilozheniy-12954782/ ...\n",
            "Failure to parse. Continue 'NoneType' object has no attribute 'text'\n",
            "Parsing https://www.litres.ru/book/viktor-rabinovich/python-dlya-detey-animaciya-s-cherepashey-grafikoy-57284673/ ...\n",
            "Failure to parse. Continue 'NoneType' object has no attribute 'text'\n",
            "Parsing https://www.litres.ru/book/e-u-hrustaleva/1s-predpriyatie-element-vozmozhnosti-vstroennogo-yazyka-2ep-68442934/ ...\n"
          ]
        },
        {
          "name": "stderr",
          "output_type": "stream",
          "text": [
            " 49%|████▊     | 19/39 [33:52<34:31, 103.59s/it]"
          ]
        },
        {
          "name": "stdout",
          "output_type": "stream",
          "text": [
            "Parsing https://www.litres.ru/book/maksim-kononenko-32575672/programmirovanie-na-python-s-nulya-69219976/ ...\n",
            "Failure to parse. Continue 'NoneType' object has no attribute 'text'\n",
            "Parsing https://www.litres.ru/book/a-s-kislov/1s-akademiya-erp-organizaciya-remontov-i-tehnicheskogo-obsluzhi-68484254/ ...\n",
            "Parsing https://www.litres.ru/book/nikf/zanimatelnyy-piton-67597845/ ...\n",
            "Failure to parse. Continue 'NoneType' object has no attribute 'text'\n",
            "Parsing https://www.litres.ru/book/roman-gurbanov/python-handbook-for-beginners-65147951/ ...\n",
            "Failure to parse. Continue could not convert string to float: '99,90'\n",
            "Parsing https://www.litres.ru/book/jean-loup-chretien/python-s-nulya-ot-novichka-do-sobstvennyh-igr-i-program-69393733/ ...\n",
            "Parsing https://www.litres.ru/book/mark-dzh-prays/c-10-i-net-6-sovremennaya-kross-platformennaya-razrabotka-p-69166252/ ...\n",
            "Parsing https://www.litres.ru/book/roman-gurbanov/programmiruem-na-python-v-minecraft-63469453/ ...\n",
            "Failure to parse. Continue could not convert string to float: '89,90'\n",
            "Parsing https://www.litres.ru/book/tatyana-anatolevna-k/android-studio-poleznye-shpargalki-dlya-nachinauschih-67900008/ ...\n",
            "Parsing https://www.litres.ru/book/evgeniy-senko/programmirovanie-prilozheniy-dlya-mobilnyh-ustroystv-pod-upr-11643376/ ...\n",
            "Failure to parse. Continue 'NoneType' object has no attribute 'text'\n",
            "Parsing https://www.litres.ru/book/igor-kvint/html-xhtml-i-css-na-100-421922/ ...\n",
            "Parsing https://www.litres.ru/book/anna-kozlovceva/put-lidera-69266155/ ...\n",
            "Parsing https://www.litres.ru/book/jeremy-keith-32260106/ustoychivyy-veb-dizayn-68299009/ ...\n",
            "Failure to parse. Continue 'NoneType' object has no attribute 'text'\n",
            "Parsing https://www.litres.ru/book/goyko-adzhich/impact-mapping-kak-povysit-effektivnost-programmnyh-produkto-24723857/ ...\n",
            "Parsing https://www.litres.ru/book/samuel-akopyan/kak-napisat-i-prodat-svoy-php-skript-66670998/ ...\n",
            "Failure to parse. Continue 'NoneType' object has no attribute 'text'\n",
            "Parsing https://www.litres.ru/book/irina-kozlova/programmirovanie-180297/ ...\n",
            "Failure to parse. Continue could not convert string to float: '44,95'\n",
            "Parsing https://www.litres.ru/book/nina-komolova/programmirovanie-na-vba-v-excel-2019-66338106/ ...\n",
            "Parsing https://www.litres.ru/book/konstantin-evgenevich-b/brat-ili-ne-brat-ili-kak-sobesedovat-razrabotchika-40162693/ ...\n",
            "Failure to parse. Continue 'NoneType' object has no attribute 'text'\n",
            "Parsing https://www.litres.ru/audiobook/timur-mashnin-30184546/mashinnoe-obuchenie-i-iskusstvennyy-intellekt-70197472/ ...\n",
            "Skipping audiobook\n",
            "Parsing https://www.litres.ru/book/stretencev-vasilevic/tablichnyy-plk-tablichnoe-programmirovanie-kontroller-69596200/ ...\n",
            "Failure to parse. Continue 'NoneType' object has no attribute 'text'\n",
            "Parsing https://www.litres.ru/book/vitaliy-evgenevich-tkachenko/obratnye-vyzovy-v-c-63642081/ ...\n",
            "Failure to parse. Continue 'NoneType' object has no attribute 'text'\n",
            "Parsing https://www.litres.ru/book/irina-nikulina-32315/nastolnaya-kniga-veb-dizaynera-prakticheskiy-kurs-po-69616813/ ...\n",
            "Parsing https://www.litres.ru/book/viktor-golcman/mysql-5-0-biblioteka-programmista-421862/ ...\n",
            "Parsing https://www.litres.ru/book/arseniy-olegovich-matycin/ya-verstalschik-veb-verstalschik-48508975/ ...\n",
            "Parsing https://www.litres.ru/book/aleksey-gladkiy/veb-samodelkin-kak-samomu-sozdat-sayt-bystro-i-professiona-2857715/ ...\n"
          ]
        },
        {
          "name": "stderr",
          "output_type": "stream",
          "text": [
            " 51%|█████▏    | 20/39 [34:57<29:07, 91.96s/it] "
          ]
        },
        {
          "name": "stdout",
          "output_type": "stream",
          "text": [
            "Failure to parse. Continue could not convert string to float: '59,90'\n",
            "Parsing https://www.litres.ru/audiobook/timur-mashnin-30184546/vvedenie-v-veb-razrabotku-s-html-css-javascript-70135993/ ...\n",
            "Skipping audiobook\n",
            "Parsing https://www.litres.ru/book/konstantin-evgenevic/kak-horoshemu-razrabotchiku-ne-stat-plohim-menedzhero-51337677/ ...\n",
            "Failure to parse. Continue 'NoneType' object has no attribute 'text'\n",
            "Parsing https://www.litres.ru/book/dzheyms-devis-33032713/reshaem-zadachi-python-70652986/ ...\n",
            "Parsing https://www.litres.ru/book/sergey-nikolaevich-talipov/programmirovanie-na-python3-s-pyqt5-65465508/ ...\n",
            "Parsing https://www.litres.ru/book/rod-stivens/algoritmy-teoriya-i-prakticheskoe-primenenie-16901144/ ...\n",
            "Parsing https://www.litres.ru/audiobook/chat-gpt-4/avtobiografiya-neyroseti-69316963/ ...\n",
            "Skipping audiobook\n",
            "Parsing https://www.litres.ru/book/chat-gpt-4/avtobiografiya-neyroseti-69283276/ ...\n",
            "Parsing https://www.litres.ru/book/boris-dmitrievich-ya/silnyy-iskusstvennyy-intellekt-i-ego-oblachnoe-carstv-62999271/ ...\n",
            "Parsing https://www.litres.ru/book/mayk-makgrat/python-programmirovanie-dlya-nachinauschih-14108932/ ...\n",
            "Parsing https://www.litres.ru/book/dzheyd-karter/optimizaciya-v-python-69984919/ ...\n",
            "Parsing https://www.litres.ru/book/timur-mashnin-30184546/web-servisy-java-5326679/ ...\n",
            "Parsing https://www.litres.ru/book/artem-demidenko/mashinnoe-obuchenie-pogruzhenie-v-tehnologiu-69295048/ ...\n",
            "Parsing https://www.litres.ru/book/timur-mashnin-30184546/javafx-2-0-razrabotka-ria-prilozheniy-7061632/ ...\n",
            "Parsing https://www.litres.ru/book/boris-volfson/gibkoe-upravlenie-proektami-i-produktami-8702931/ ...\n",
            "Parsing https://www.litres.ru/book/ervan-lafleriel/fallout-hroniki-sozdaniya-legendarnoy-sagi-69052543/ ...\n",
            "Parsing https://www.litres.ru/book/dmitriy-nikolaevich/professionalnye-kompetencii-razrabotki-programmnogo-o-43677583/ ...\n",
            "Failure to parse. Continue could not convert string to float: '99,90'\n",
            "Parsing https://www.litres.ru/book/freyn/otzyvchivyy-dizayn-na-html5-i-css3-dlya-lubyh-ustroystv-pdf-epub-67195015/ ...\n",
            "Parsing https://www.litres.ru/book/dzheyms-devis-33032713/usilennoe-obuchenie-70772995/ ...\n",
            "Parsing https://www.litres.ru/book/dmitriy-prihodko-31959965/php-razrabotka-modulya-kommentariev-dlya-sayta-67276092/ ...\n",
            "Failure to parse. Continue 'NoneType' object has no attribute 'text'\n",
            "Parsing https://www.litres.ru/book/aleksey-nikolaevich-vasilev/java-dlya-vseh-pdf-epub-48613341/ ...\n",
            "Parsing https://www.litres.ru/book/aleksandr-evgenevich/kak-sozdat-mobilnoe-prilozhenie-i-zarabatyvat-ot-69529729/ ...\n",
            "Parsing https://www.litres.ru/audiobook/maksim-kononenko-32575672/programmirovanie-na-python-s-nulya-69253624/ ...\n",
            "Skipping audiobook\n",
            "Parsing https://www.litres.ru/book/mayk-makgrat/javascript-dlya-nachinauschih-17254044/ ...\n",
            "Parsing https://www.litres.ru/book/vitaliy-aleksandrovic/spravochnik-po-neyronnym-setyam-ot-teorii-k-praktike-68908563/ ...\n"
          ]
        },
        {
          "name": "stderr",
          "output_type": "stream",
          "text": [
            " 54%|█████▍    | 21/39 [36:22<26:59, 89.98s/it]"
          ]
        },
        {
          "name": "stdout",
          "output_type": "stream",
          "text": [
            "Failure to parse. Continue could not convert string to float: '99,90'\n",
            "Parsing https://www.litres.ru/book/alisa-popova/a-ty-gotov-opoznavat-kotov-neyroseti-i-kotiki-detyam-65803178/ ...\n",
            "Failure to parse. Continue could not convert string to float: '99,90'\n",
            "Parsing https://www.litres.ru/book/roman-igorevich-grigorev/zadachnik-po-php-s-resheniyami-30482497/ ...\n",
            "Parsing https://www.litres.ru/book/dmitriy-urevich-usenkov/zanimatelnoe-programmirovanie-igry-s-tekstom-63099338/ ...\n",
            "Failure to parse. Continue could not convert string to float: '99,90'\n",
            "Parsing https://www.litres.ru/book/luis-serrano-32912851/grokaem-mashinnoe-obuchenie-pdf-epub-70290604/ ...\n",
            "Parsing https://www.litres.ru/book/kirill-egerev/etoy-knopke-nuzhen-tekst-o-ux-pisatelstve-korotko-i-ponyatno-63613191/ ...\n",
            "Parsing https://www.litres.ru/book/dzhon-sonmez/karera-v-it-kak-nayti-rabotu-prokachat-navyki-i-stat-krutym-r-69394321/ ...\n",
            "Parsing https://www.litres.ru/book/vitaliy-aleksandrovi/mir-chatgpt-ponimanie-i-primenenie-iskusstvennogo-int-69088657/ ...\n",
            "Failure to parse. Continue could not convert string to float: '99,90'\n",
            "Parsing https://www.litres.ru/book/dzhon-dakett/javascript-i-jquery-interaktivnaya-veb-razrabotka-22964956/ ...\n",
            "Parsing https://www.litres.ru/audiobook/ervan-lafleriel/fallout-hroniki-sozdaniya-legendarnoy-sagi-69088090/ ...\n",
            "Skipping audiobook\n",
            "Parsing https://www.litres.ru/book/igor-savchuk/otyavlennyy-programmist-layfhaking-iz-pervyh-ruk-11283098/ ...\n",
            "Parsing https://www.litres.ru/book/e-u-hrustaleva/sistema-vzaimodeystviya-kommunikacii-v-biznes-prilozheniyah-42078187/ ...\n",
            "Parsing https://www.litres.ru/book/aleksey-pavlovich-bo/osnovy-programmirovaniya-v-scratch-3-0-poshagovoe-res-63804726/ ...\n",
            "Parsing https://www.litres.ru/book/elena-pravdina-25436/govoryat-v-it-mnogo-platyat-kak-postroit-uspeshnuu-ka-65191792/ ...\n",
            "Parsing https://www.litres.ru/book/mayk-makgrat/excel-vba-stan-prodvinutym-polzovatelem-za-nedelu-67092765/ ...\n",
            "Parsing https://www.litres.ru/book/artem-sedov/rabota-s-bazoy-zarabatyvaem-na-baze-praktika-uspeshnyh-onlayn-67853559/ ...\n",
            "Parsing https://www.litres.ru/book/a-v-koryagin/roblox-igray-programmiruy-i-sozdavay-svoi-miry-64069946/ ...\n",
            "Parsing https://www.litres.ru/book/sergey-nikolaevich-tal/vizualnoe-programmirovanie-na-java-swing-v-netbeans-65425013/ ...\n",
            "Parsing https://www.litres.ru/book/m-krivcov/konec-holivara-pascal-vs-c-10243468/ ...\n",
            "Parsing https://www.litres.ru/book/viktor-vladimirovich-zaharo/testirovanie-programmnogo-obespecheniya-osnovy-70315903/ ...\n",
            "Parsing https://www.litres.ru/book/dzheyms-devis-33032713/40-zadach-na-python-70712785/ ...\n",
            "Parsing https://www.litres.ru/book/aleksey-pavlovich-bo/programmirovanie-na-scratchjr-dlya-detey-5-7-let-chas-68282770/ ...\n",
            "Parsing https://www.litres.ru/book/vladimir-dronov/laravel-9-bystraya-razrabotka-veb-saytov-na-php-69283318/ ...\n",
            "Parsing https://www.litres.ru/audiobook/elena-pravdina-25436/govoryat-v-it-mnogo-platyat-kak-postroit-uspeshnuu-ka-65389896/ ...\n",
            "Skipping audiobook\n",
            "Parsing https://www.litres.ru/book/valeriy-zharkov-3244/spravochnik-zharkova-po-proektirovaniu-i-programmirov-68915349/ ...\n"
          ]
        },
        {
          "name": "stderr",
          "output_type": "stream",
          "text": [
            " 56%|█████▋    | 22/39 [37:59<26:02, 91.90s/it]"
          ]
        },
        {
          "name": "stdout",
          "output_type": "stream",
          "text": [
            "Parsing https://www.litres.ru/book/timur-mashnin-30184546/sovremennye-java-tehnologii-na-praktike-2914085/ ...\n",
            "Parsing https://www.litres.ru/book/chris-totten/game-character-creation-with-blender-and-unity-43486101/ ...\n",
            "Failure to parse. Continue could not convert string to float: '4784,15'\n",
            "Parsing https://www.litres.ru/audiobook/vyacheslav-utochkin/hochu-v-geymdev-osnovy-igrovoy-razrabotki-dlya-nachina-68834901/ ...\n",
            "Skipping audiobook\n",
            "Parsing https://www.litres.ru/book/nikita-borisovich-kultin/pascal-next-rukovodstvo-programmista-69530128/ ...\n",
            "Failure to parse. Continue could not convert string to float: '49,90'\n",
            "Parsing https://www.litres.ru/book/andrey-shumin-17006027/kak-ya-delau-multfilmy-70441789/ ...\n",
            "Failure to parse. Continue 'NoneType' object has no attribute 'text'\n",
            "Parsing https://www.litres.ru/book/v-a-gorelik/teoriya-prinyatiya-resheniy-28266645/ ...\n",
            "Failure to parse. Continue 'NoneType' object has no attribute 'text'\n",
            "Parsing https://www.litres.ru/book/aleksandr-chipizhko/pribylnaya-veb-studiya-poshagovoe-rukovodstvo-12490046/ ...\n",
            "Parsing https://www.litres.ru/book/valeriy-zharkov-3244/spravochnik-zharkova-po-proektirovaniu-i-programmirov-68918598/ ...\n",
            "Parsing https://www.litres.ru/book/timur-mashnin-301845/google-app-engine-java-i-google-web-toolkit-razrabotk-7061637/ ...\n",
            "Parsing https://www.litres.ru/book/nilab-nischal/python-eto-prosto-poshagovoe-rukovodstvo-po-programmirovaniu-68998078/ ...\n",
            "Parsing https://www.litres.ru/book/timur-mashnin-301845/sozdanie-nastolnyh-python-prilozheniy-s-graficheskim-65059196/ ...\n",
            "Parsing https://www.litres.ru/book/mihail-semynin/qa-engineer-70826371/ ...\n",
            "Failure to parse. Continue 'NoneType' object has no attribute 'text'\n",
            "Parsing https://www.litres.ru/book/gadel-zagrutdinov/life-coder-69001012/ ...\n",
            "Failure to parse. Continue could not convert string to float: '49,90'\n",
            "Parsing https://www.litres.ru/audiobook/vladimir-shvec-32351/ot-dzhuna-do-senora-kak-stat-vostrebovannym-razrabotc-68635922/ ...\n",
            "Skipping audiobook\n",
            "Parsing https://www.litres.ru/book/semen-leonidovich-uglev/konstruktor-igr-clickteam-fusion-35497888/ ...\n",
            "Parsing https://www.litres.ru/book/beyder-d/chistyy-python-tonkosti-programmirovaniya-dlya-profi-pdf-epub-39123332/ ...\n",
            "Parsing https://www.litres.ru/book/vladimir-dronov/django-4-praktika-sozdaniya-veb-saytov-na-python-70297321/ ...\n",
            "Parsing https://www.litres.ru/book/valeriy-zharkov-3244/spravochnik-zharkova-po-proektirovaniu-i-programmirov-68933844/ ...\n",
            "Parsing https://www.litres.ru/book/valeriy-zharkov-3244/spravochnik-zharkova-po-proektirovaniu-i-programmirov-68926176/ ...\n",
            "Parsing https://www.litres.ru/book/stiv-krug/veb-dizayn-kniga-stiva-kruga-ili-ne-zastavlyayte-menya-dumat-2-e-24499534/ ...\n",
            "Parsing https://www.litres.ru/book/timur-mashnin-30184546/mashinnoe-obuchenie-i-iskusstvennyy-intellekt-68495326/ ...\n",
            "Parsing https://www.litres.ru/book/dirk-henkemans/programmirovanie-na-c-24500254/ ...\n",
            "Parsing https://www.litres.ru/book/valeriy-zharkov-3244/spravochnik-zharkova-po-proektirovaniu-i-programmirov-68931201/ ...\n",
            "Parsing https://www.litres.ru/book/dzheyms-devis-33032713/magiya-python-i-vselennaya-70747456/ ...\n"
          ]
        },
        {
          "name": "stderr",
          "output_type": "stream",
          "text": [
            " 59%|█████▉    | 23/39 [39:17<23:26, 87.92s/it]"
          ]
        },
        {
          "name": "stdout",
          "output_type": "stream",
          "text": [
            "Parsing https://www.litres.ru/book/vitaliy-aleksandrovi/znakomstvo-s-web3-metaverse-i-ii-dorozhnaya-karta-dly-68829702/ ...\n",
            "Parsing https://www.litres.ru/book/tatyana-nikolaevna-moshnikova/izuchaem-paskal-sozdavaya-igry-67299906/ ...\n",
            "Failure to parse. Continue could not convert string to float: '54,99'\n",
            "Parsing https://www.litres.ru/book/andzhel-leonard/java-reshenie-prakticheskih-zadach-67727274/ ...\n",
            "Parsing https://www.litres.ru/book/arsen-gonian/high-arsen-gonian-academy-70093276/ ...\n",
            "Failure to parse. Continue could not convert string to float: '99,90'\n",
            "Parsing https://www.litres.ru/book/sergey-nikolaevich-talipov/programmirovanie-na-delphi-7-65506377/ ...\n",
            "Failure to parse. Continue 'NoneType' object has no attribute 'text'\n",
            "Parsing https://www.litres.ru/book/timur-mashnin-30184546/razrabotka-smart-kontraktov-v-ethereum-67111800/ ...\n",
            "Parsing https://www.litres.ru/book/aleksandr-vasilev/informacionnye-sistemy-uchebnik-dlya-vuzov-174309/ ...\n",
            "Parsing https://www.litres.ru/book/bill-fillips-7879021/android-programmirovanie-dlya-professionalov-pdf-epub-63732137/ ...\n",
            "Parsing https://www.litres.ru/book/vasiliy-usov/swift-osnovy-razrabotki-prilozheniy-pod-ios-ipados-i-macos-pd-24426226/ ...\n",
            "Parsing https://www.litres.ru/audiobook/dzheyms-devis-33032713/reshaem-zadachi-python-70763311/ ...\n",
            "Skipping audiobook\n",
            "Parsing https://www.litres.ru/book/timur-mashnin-301845/sozdanie-chat-botov-s-dialogflow-watson-chatterbot-i-68510481/ ...\n",
            "Parsing https://www.litres.ru/audiobook/dzheyms-devis-330327/programmirovanie-dlya-dopolnitelnoy-i-virtualnoy-real-70763077/ ...\n",
            "Skipping audiobook\n",
            "Parsing https://www.litres.ru/book/migel-morales/grokaem-glubokoe-obuchenie-s-podkrepleniem-pdf-epub-69598546/ ...\n",
            "Parsing https://www.litres.ru/book/anatoliy-postolit/osnovy-iskusstvennogo-intellekta-v-primerah-na-python-67727930/ ...\n",
            "Parsing https://www.litres.ru/book/timur-mashnin-301845/prodvinutoe-ispolzovanie-torgovoy-platformy-metatrade-68635601/ ...\n",
            "Parsing https://www.litres.ru/book/artem-demidenko/layer-2-v-mire-blokcheyna-putevoditel-v-buduschee-decentra-69613702/ ...\n",
            "Parsing https://www.litres.ru/book/artem-demidenko/ethereum-efir-osnovy-i-perspektivy-69659209/ ...\n",
            "Parsing https://www.litres.ru/book/sergey-martynenko/bayki-dlya-oruzhenosca-68761878/ ...\n",
            "Failure to parse. Continue could not convert string to float: '69,90'\n",
            "Parsing https://www.litres.ru/audiobook/a-cvetkova/informatika-i-informacionnye-tehnologii-konspekt-lekciy-70700908/ ...\n",
            "Skipping audiobook\n",
            "Parsing https://www.litres.ru/book/luchano-ramalo/python-k-vershinam-masterstva-22805846/ ...\n",
            "Parsing https://www.litres.ru/book/erik-normand/grokaem-funkcionalnoe-myshlenie-69434473/ ...\n",
            "Parsing https://www.litres.ru/book/evgeniy-zhdan-32557903/mql4-programmirovanie-torgovyy-robot-za-odin-vecher-69176782/ ...\n",
            "Parsing https://www.litres.ru/book/sergey-nikolaevich-talipov/bazy-dannyh-na-delphi-7-65506382/ ...\n",
            "Failure to parse. Continue 'NoneType' object has no attribute 'text'\n",
            "Parsing https://www.litres.ru/book/ti-krauder/novye-vozmozhnosti-javascript-kak-napisat-chistyy-kod-po-vsem-p-69101677/ ...\n"
          ]
        },
        {
          "name": "stderr",
          "output_type": "stream",
          "text": [
            " 62%|██████▏   | 24/39 [40:42<21:42, 86.84s/it]"
          ]
        },
        {
          "name": "stdout",
          "output_type": "stream",
          "text": [
            "Parsing https://www.litres.ru/book/i-a-shilin/komputernaya-algebra-v-zadachah-40591175/ ...\n",
            "Failure to parse. Continue 'NoneType' object has no attribute 'text'\n",
            "Parsing https://www.litres.ru/book/mihail-flenov/c-glazami-hakera-69842359/ ...\n",
            "Parsing https://www.litres.ru/book/vitaliy-aleksandrovich-gulc/ispolzuem-chatgpt-i-midjourney-100-biznes-idey-68962551/ ...\n",
            "Parsing https://www.litres.ru/book/evgeniy-kosticyn/sinhronnaya-muzyka-i-kot-shredingera-70889005/ ...\n",
            "Parsing https://www.litres.ru/book/sergey-nikolaevich-talipov/icpolzovanie-api-na-delphi-7-65506387/ ...\n",
            "Failure to parse. Continue 'NoneType' object has no attribute 'text'\n",
            "Parsing https://www.litres.ru/book/o-e-averchenkov/shemotehnika-apparatura-i-programmy-6654206/ ...\n",
            "Parsing https://www.litres.ru/audiobook/dzheyms-devis-33032713/40-zadach-na-python-70848904/ ...\n",
            "Skipping audiobook\n",
            "Parsing https://www.litres.ru/book/vladislav-urov-21479981/elastix-obschaytes-svobodno-tom-2-49653390/ ...\n",
            "Failure to parse. Continue 'NoneType' object has no attribute 'text'\n",
            "Parsing https://www.litres.ru/audiobook/fin-dert/s-nulya-do-pitonista-69163702/ ...\n",
            "Skipping audiobook\n",
            "Parsing https://www.litres.ru/book/marina-mihaylenko/vremya-byt-agile-66925253/ ...\n",
            "Parsing https://www.litres.ru/book/m-l-soboleva/metodika-obucheniya-informatike-43254563/ ...\n",
            "Failure to parse. Continue could not convert string to float: '69,90'\n",
            "Parsing https://www.litres.ru/audiobook/grigoriy-radovilskiy/kak-sozdautsya-igry-osnovy-razrabotki-dlya-nachinausc-69606343/ ...\n",
            "Skipping audiobook\n",
            "Parsing https://www.litres.ru/book/aleksandra-turabova/geymdizayn-na-praktike-kak-nachat-zarabatyvat-70555216/ ...\n",
            "Parsing https://www.litres.ru/book/yakob-nilsen/veb-dizayn-kniga-yakoba-nilsena-24500630/ ...\n",
            "Parsing https://www.litres.ru/book/s-i-nikishov/programmirovanie-na-vba-v-microsoft-excel-50976779/ ...\n",
            "Parsing https://www.litres.ru/book/aurika-lukovkina/programmirovanie-shpargalka-9094553/ ...\n",
            "Failure to parse. Continue could not convert string to float: '79,99'\n",
            "Parsing https://www.litres.ru/book/wendy-despain/100-principov-geym-dizayna-universalnye-principy-razrabotki-70836553/ ...\n",
            "Parsing https://www.litres.ru/book/timur-mashnin-30184546/vvedenie-v-obektno-orientirovannyy-dizayn-s-java-67289136/ ...\n",
            "Parsing https://www.litres.ru/book/pavel-duglas/karmannyy-gayd-dlya-veb-avtomatizatorov-browser-automation-st-69007012/ ...\n",
            "Parsing https://www.litres.ru/book/roman-chernyshov/veb-razrabotchik-legkiy-vhod-v-professiu-70508662/ ...\n",
            "Parsing https://www.litres.ru/book/roman-viktorovich-du/kvantovye-vychisleniya-i-funkcionalnoe-programmirovan-22842666/ ...\n",
            "Parsing https://www.litres.ru/book/timur-mashnin-30184546/osnovy-seo-vvedenie-v-poiskovuu-optimizaciu-68507833/ ...\n",
            "Parsing https://www.litres.ru/book/konstantin-konstantinovich-berlinskiy/osnovy-neyrosetey-53604467/ ...\n",
            "Parsing https://www.litres.ru/book/aleksandr-vankov/kak-stat-programmistom-s-nulya-55988023/ ...\n"
          ]
        },
        {
          "name": "stderr",
          "output_type": "stream",
          "text": [
            " 64%|██████▍   | 25/39 [41:58<19:30, 83.59s/it]"
          ]
        },
        {
          "name": "stdout",
          "output_type": "stream",
          "text": [
            "Parsing https://www.litres.ru/book/konstantin-vasilevic/spravochnik-programmista-v-stihah-ot-proektirovaniya-69606439/ ...\n",
            "Parsing https://www.litres.ru/book/vladislav-urov/elastix-obschaytes-svobodno-9577580/ ...\n",
            "Parsing https://www.litres.ru/book/jade-carter/neural-networks-beginnings-69505096/ ...\n",
            "Parsing https://www.litres.ru/book/elena-leonidovna-tep/ege-2021-informatika-programmirovanie-kak-reshat-zada-63577897/ ...\n",
            "Parsing https://www.litres.ru/book/ooo-intedzher/professionalnaya-rabota-s-git-70508443/ ...\n",
            "Parsing https://www.litres.ru/book/sap-erp-education/otladchik-debagging-v-sap-erp-s-4hana-dlya-blondinok-65104476/ ...\n",
            "Parsing https://www.litres.ru/book/dzhess-garrett/veb-dizayn-elementy-opyta-vzaimodeystviya-24499670/ ...\n",
            "Parsing https://www.litres.ru/book/a-v-koryagin/python-pogruzhenie-v-matematiku-s-minecraft-69146056/ ...\n",
            "Parsing https://www.litres.ru/book/devid-foster-2767953/generativnoe-glubokoe-obuchenie-tvorcheskiy-potencial-64070281/ ...\n",
            "Parsing https://www.litres.ru/book/shon-makmanus/missiya-python-sozdaem-igry-vmeste-s-detmi-67979877/ ...\n",
            "Parsing https://www.litres.ru/book/el-sveygart/scratch-3-izuchayte-yazyk-programmirovaniya-delaya-krutye-igry-68853453/ ...\n",
            "Parsing https://www.litres.ru/book/keyt-krouford/atlas-iskusstvennogo-intellekta-rukovodstvo-dlya-buduschego-70010044/ ...\n",
            "Parsing https://www.litres.ru/book/aleksey-pushkin-32770927/iz-povara-v-programmisty-69828682/ ...\n",
            "Parsing https://www.litres.ru/book/elena-andreeva-60057/programmirovanie-eto-tak-prosto-programmirovanie-eto-11647619/ ...\n",
            "Parsing https://www.litres.ru/book/adriana-take/programmiruem-s-detmi-sozdayte-50-krutyh-igr-na-python-65923881/ ...\n",
            "Parsing https://www.litres.ru/book/aleksey-nikolaevich-vasilev/programmirovanie-na-php-v-primerah-i-zadachah-66230748/ ...\n",
            "Parsing https://www.litres.ru/book/valeriy-zharkov-3244/spravochnik-zharkova-po-proektirovaniu-i-programmirov-68908707/ ...\n",
            "Parsing https://www.litres.ru/book/valeriy-zharkov-3244/spravochnik-zharkova-po-proektirovaniu-i-programmirov-68897934/ ...\n",
            "Parsing https://www.litres.ru/book/valeriy-zharkov-3244/spravochnik-zharkova-po-proektirovaniu-i-programmirov-68886006/ ...\n",
            "Parsing https://www.litres.ru/book/ilya-kyrchumaru/it-kompas-kak-pravilno-programmirovat-it-kareru-70900405/ ...\n",
            "Parsing https://www.litres.ru/book/b-a-sadovskiy/reshenie-zadach-sredstvami-microsoft-access-i-visual-basic-68018170/ ...\n",
            "Failure to parse. Continue could not convert string to float: '55,70'\n",
            "Parsing https://www.litres.ru/book/deyvid-farli/sovremennaya-programmnaya-inzheneriya-po-v-epohu-edzhayla-i-n-69166237/ ...\n",
            "Parsing https://www.litres.ru/audiobook/dzhon-sonmez/gibkie-navyki-ischerpyvauschee-rukovodstvo-po-prokachke-sebya-69803434/ ...\n",
            "Skipping audiobook\n",
            "Parsing https://www.litres.ru/book/valeriy-zharkov-3244/spravochnik-zharkova-po-proektirovaniu-i-programmirov-68905044/ ...\n"
          ]
        },
        {
          "name": "stderr",
          "output_type": "stream",
          "text": [
            " 67%|██████▋   | 26/39 [43:44<19:33, 90.26s/it]"
          ]
        },
        {
          "name": "stdout",
          "output_type": "stream",
          "text": [
            "Parsing https://www.litres.ru/book/valeriy-zharkov-3244/spravochnik-zharkova-po-proektirovaniu-i-programmirov-68870631/ ...\n",
            "Parsing https://www.litres.ru/book/eugeny-shtoltc/machine-learning-in-practice-from-pytorch-model-to-kubeflow-63595623/ ...\n",
            "Parsing https://www.litres.ru/book/eugeny-shtoltc/from-programmer-to-architects-practical-way-56870818/ ...\n",
            "Parsing https://www.litres.ru/book/anna-bosova/informatika-5-6-klassy-praktikum-po-programmirovaniu-v-srede-s-66644412/ ...\n",
            "Parsing https://www.litres.ru/book/oliver-teobald/mashinnoe-obuchenie-dlya-absolutnyh-novichkov-vvodnyy-kurs-70760362/ ...\n",
            "Parsing https://www.litres.ru/book/konstantin-konstantinovich-berlinskiy/shkola-startapov-1-lichnyy-opyt-68050861/ ...\n",
            "Parsing https://www.litres.ru/book/pavan-vora/shablony-proektirovaniya-veb-prilozheniy-2548155/ ...\n",
            "Parsing https://www.litres.ru/book/oksana-m/python-i-neyroseti-revolucionnyy-podhod-k-izucheniu-programmirova-70574200/ ...\n",
            "Parsing https://www.litres.ru/book/vyacheslav-seyid/poslednee-dokazatelstvo-suschestvovaniya-tvorca-70243198/ ...\n",
            "Parsing https://www.litres.ru/book/denis-vladimirovich/osnovy-statisticheskoy-obrabotki-pedagogicheskoy-info-57427114/ ...\n",
            "Parsing https://www.litres.ru/book/mod-lemer/masshtabiruemyy-refaktoring-vozvraschaem-kontrol-nad-kodom-67749221/ ...\n",
            "Parsing https://www.litres.ru/audiobook/artem-demidenko/mashinnoe-obuchenie-pogruzhenie-v-tehnologiu-69332869/ ...\n",
            "Skipping audiobook\n",
            "Parsing https://www.litres.ru/book/m-o-camsonkin/praktikum-po-analizu-dannyh-na-yazykah-python-i-r-68343542/ ...\n",
            "Parsing https://www.litres.ru/book/nikita-borisovich-kultin/c-dlya-nachinauschih-70711267/ ...\n",
            "Parsing https://www.litres.ru/book/e-a-krukov/yazyk-programmirovaniya-go-rukovodstvo-2016-22173736/ ...\n",
            "Parsing https://www.litres.ru/book/sergey-novikov-32583145/dezhavu-70569319/ ...\n",
            "Parsing https://www.litres.ru/book/stanislava-solnechnaya-24227418/programmirovanie-na-s-s-57209743/ ...\n",
            "Parsing https://www.litres.ru/book/marchello-la-rokka/prodvinutye-algoritmy-i-struktury-dannyh-pdf-epub-70415878/ ...\n",
            "Parsing https://www.litres.ru/audiobook/dzheyd-karter/neyroseti-generaciya-izobrazheniy-69542293/ ...\n",
            "Skipping audiobook\n",
            "Parsing https://www.litres.ru/book/nataliya-sergeevna-miheeva/proektnoe-reshenie-sap-uchet-rezultatov-66072392/ ...\n",
            "Parsing https://www.litres.ru/book/vera-manfazovna-baeva/1c-izuchenie-yazyka-63653096/ ...\n",
            "Parsing https://www.litres.ru/book/ludmila-anelikova/informatika-programmirovanie-na-algoritmicheskom-yazyke-8342552/ ...\n",
            "Parsing https://www.litres.ru/book/dzhennifer-grin-2/izuchaem-c-8479459/ ...\n",
            "Parsing https://www.litres.ru/book/denis-vladimirovich-golikov/scratchjr-dlya-samyh-unyh-programmistov-66338102/ ...\n"
          ]
        },
        {
          "name": "stderr",
          "output_type": "stream",
          "text": [
            " 69%|██████▉   | 27/39 [45:28<18:53, 94.43s/it]"
          ]
        },
        {
          "name": "stdout",
          "output_type": "stream",
          "text": [
            "Parsing https://www.litres.ru/book/raznoe-4340152/sammari-knigi-karera-v-it-kak-nayti-rabotu-prokachat-navyki-70096408/ ...\n",
            "Parsing https://www.litres.ru/book/v-s-evstratov/ispolzovanie-web-tehnologiy-pri-sozdanii-informacionnyh-sist-61829087/ ...\n",
            "Parsing https://www.litres.ru/book/migel-grinberg/razrabotka-veb-prilozheniy-s-ispolzovaniem-flask-na-yazyke-22880162/ ...\n",
            "Parsing https://www.litres.ru/book/brus-smit/assembler-dlya-raspberry-pi-prakticheskoe-rukovodstvo-68995285/ ...\n",
            "Parsing https://www.litres.ru/audiobook/dzhon-sharp-32913136/igry-dizayn-i-igrovoy-opyt-vse-ob-iterativnoy-razrabo-70325947/ ...\n",
            "Skipping audiobook\n",
            "Parsing https://www.litres.ru/book/reto-mayer/android-2-programmirovanie-prilozheniy-dlya-planshetnyh-kompute-2553895/ ...\n",
            "Parsing https://www.litres.ru/book/valeriy-romanchik/java-metody-programmirovaniya-21636575/ ...\n",
            "Parsing https://www.litres.ru/book/v-v-rybalka/mobile-1s-primer-bystroy-razrabotki-mobilnogo-prilozheniya-na-40497871/ ...\n",
            "Parsing https://www.litres.ru/book/aleksandr-chirtik/programmirovanie-v-delphi-truki-i-effekty-432462/ ...\n",
            "Parsing https://www.litres.ru/book/roman-viktorovich-dushkin/praktika-raboty-na-yazyke-haskell-7637766/ ...\n",
            "Parsing https://www.litres.ru/book/m-a-roytberg/informatika-podgotovka-k-ege-v-2014-godu-diagnosticheskie-rab-6133094/ ...\n",
            "Parsing https://www.litres.ru/book/a-p-savchenko/informatika-podgotovka-k-gia-v-2014-godu-diagnosticheskie-ra-6133067/ ...\n",
            "Parsing https://www.litres.ru/audiobook/aleksandr-evgenevich/kak-sozdat-mobilnoe-prilozhenie-i-zarabatyvat-ot-69542188/ ...\n",
            "Skipping audiobook\n",
            "Parsing https://www.litres.ru/book/robert-s-martin/idealnaya-rabota-programmirovanie-bez-prikras-68073511/ ...\n",
            "Parsing https://www.litres.ru/book/treysi-osborn/veb-dizayn-dlya-nedizaynerov-pdf-epub-67891388/ ...\n",
            "Parsing https://www.litres.ru/book/kris-fiayli/sql-rukovodstvo-po-izucheniu-yazyka-434235/ ...\n",
            "Parsing https://www.litres.ru/book/dzhess-veyhler/python-sozday-svou-pervuu-igru-s-nulya-samouchitel-v-primer-70509202/ ...\n",
            "Parsing https://www.litres.ru/audiobook/artem-demidenko/vse-ob-ii-chat-bote-chatgpt-69178660/ ...\n",
            "Skipping audiobook\n",
            "Parsing https://www.litres.ru/book/anna-klementeva/lingvisticheskiy-analizator-preobrazovanie-teksta-v-metaya-48483103/ ...\n",
            "Parsing https://www.litres.ru/book/vitaliy-vaynshteyn/matematicheskaya-logika-i-teoriya-algoritmov-65761174/ ...\n",
            "Parsing https://www.litres.ru/audiobook/dzheyd-karter/oblachnye-tehnologii-prakticheskoe-rukovodstvo-po-sozdaniu-i-70311769/ ...\n",
            "Skipping audiobook\n",
            "Parsing https://www.litres.ru/book/devid-soyer-makfarland/novaya-bolshaya-kniga-css-7065956/ ...\n",
            "Parsing https://www.litres.ru/book/sergey-zubkov-12506716/assembler-dlya-dos-windows-i-unix-27067469/ ...\n",
            "Parsing https://www.litres.ru/book/andrey-garnaev/vba-2900995/ ...\n"
          ]
        },
        {
          "name": "stderr",
          "output_type": "stream",
          "text": [
            " 72%|███████▏  | 28/39 [46:58<17:03, 93.05s/it]"
          ]
        },
        {
          "name": "stdout",
          "output_type": "stream",
          "text": [
            "Parsing https://www.litres.ru/book/aleksandr-bankrashkov/scratch-dlya-unyh-programmistov-24312493/ ...\n",
            "Parsing https://www.litres.ru/book/o-i-guskova/obektno-orientirovannoe-programmirovanie-v-java-40591479/ ...\n",
            "Parsing https://www.litres.ru/book/tatyana-penkova/modeli-i-metody-iskusstvennogo-intellekta-65761613/ ...\n",
            "Parsing https://www.litres.ru/book/rafgarden-t/sovershennyy-algoritm-osnovy-43123747/ ...\n",
            "Parsing https://www.litres.ru/book/oleg-turkin/vba-prakticheskoe-programmirovanie-8339374/ ...\n",
            "Parsing https://www.litres.ru/book/a-a-fercev/realizaciya-neyronnoy-seti-dlya-raspoznavaniya-izobrazheniy-s-p-4977022/ ...\n",
            "Parsing https://www.litres.ru/book/mihalis-cukalos-27713196/golang-dlya-profi-64073297/ ...\n",
            "Parsing https://www.litres.ru/book/robert-s-martin/principy-patterny-i-metodiki-gibkoy-razrabotki-na-yazyke-c-24499766/ ...\n",
            "Parsing https://www.litres.ru/book/stiven-levitan/regulyarnye-vyrazheniya-sbornik-receptov-2-e-izdanie-24499846/ ...\n",
            "Parsing https://www.litres.ru/book/nina-komolova/programmirovanie-na-vba-v-excel-2016-28290280/ ...\n",
            "Parsing https://www.litres.ru/book/antti-salonen/programmirovanie-dlya-neprogrammistov-v-izlozhenii-na-chelov-70413544/ ...\n",
            "Parsing https://www.litres.ru/book/metu-haylend/programmiruem-s-detmi-sozdayte-10-veselyh-igr-na-scratch-64830732/ ...\n",
            "Parsing https://www.litres.ru/book/ildar-habibullin/programmirovanie-na-yazyke-vysokogo-urovnya-c-c-uchebnoe-644875/ ...\n",
            "Parsing https://www.litres.ru/book/evgeniy-perelroyzen/proektiruem-na-vhdl-8337005/ ...\n",
            "Parsing https://www.litres.ru/book/n-komlev/obektno-orientirovannoe-programmirovanie-54761065/ ...\n",
            "Parsing https://www.litres.ru/book/evgeniy-sergeevich-s/mashinnoe-obuchenie-na-praktike-ot-modeli-pytorch-do-63455267/ ...\n",
            "Parsing https://www.litres.ru/book/zhikun-chen/tehnologiya-java-card-dlya-smart-kart-arhitektura-i-rukovodstv-4984830/ ...\n",
            "Parsing https://www.litres.ru/book/ravil-muhamedzyanov/java-servernye-prilozheniya-8333120/ ...\n",
            "Parsing https://www.litres.ru/book/b-s-leschinskiy/osnovy-programmirovaniya-v-microsoft-excel-67250825/ ...\n",
            "Parsing https://www.litres.ru/book/igor-matushkin/modelirovanie-i-vizualizaciya-sredstvami-matlab-fiziki-nano-4981538/ ...\n",
            "Parsing https://www.litres.ru/book/set-veydman/glubokoe-obuchenie-legkaya-razrabotka-proektov-na-python-64082126/ ...\n",
            "Parsing https://www.litres.ru/audiobook/dzheyd-karter/iskusstvennyy-intellekt-osnovnye-ponyatiya-70398661/ ...\n",
            "Skipping audiobook\n",
            "Parsing https://www.litres.ru/book/vladimir-dronov/javascript-dopolnitelnye-uroki-dlya-nachinauschih-67726682/ ...\n",
            "Parsing https://www.litres.ru/book/a-s-alfimova/informacionnye-sistemy-11298151/ ...\n"
          ]
        },
        {
          "name": "stderr",
          "output_type": "stream",
          "text": [
            " 74%|███████▍  | 29/39 [48:52<16:35, 99.52s/it]"
          ]
        },
        {
          "name": "stdout",
          "output_type": "stream",
          "text": [
            "Parsing https://www.litres.ru/book/galina-rasolko/teoriya-i-praktika-programmirovaniya-na-yazyke-pascal-19144032/ ...\n",
            "Parsing https://www.litres.ru/book/d-a-roschin/sposob-primeneniya-komputernogo-zreniya-dlya-povysheniya-tochn-28755880/ ...\n",
            "Parsing https://www.litres.ru/book/pavel-lukyanov/modelirovanie-i-analiz-v-srede-r-s-ispolzovaniem-paketa-shi-69272497/ ...\n",
            "Parsing https://www.litres.ru/book/a-i-dolzhenko/analiz-kachestva-mikroservisov-informacionnoy-sistemy-na-baz-48454636/ ...\n",
            "Parsing https://www.litres.ru/book/a-g-sergienko/ispolzovanie-neyronnyh-setey-dlya-modelirovaniya-prognoza-ko-5025416/ ...\n",
            "Parsing https://www.litres.ru/book/dmitriy-malenko/asp-net-2-0-sekrety-sozdaniya-web-prilozheniy-54166553/ ...\n",
            "Parsing https://www.litres.ru/book/s-i-lukashkin/modelirovanie-processa-razoreniya-strahovoy-kompanii-metodom-5011134/ ...\n",
            "Parsing https://www.litres.ru/book/n-n-prokimnov/modelirovanie-monitoringovyh-processov-4997335/ ...\n",
            "Parsing https://www.litres.ru/book/d-a-borisoglebskiy/vliyanie-modifikacii-metoda-semanticheskogo-opisaniya-k-6538896/ ...\n",
            "Parsing https://www.litres.ru/book/g-v-ross/formirovanie-struktury-predpriyatiya-s-poziciy-kompetenciy-person-5616167/ ...\n",
            "Parsing https://www.litres.ru/book/denis-vladimirovich/kratkiy-spravochnik-po-neyrosetyam-kak-tebya-zamenili-70982710/ ...\n",
            "Failure to parse. Continue 'NoneType' object has no attribute 'text'\n",
            "Parsing https://www.litres.ru/podcast/redbarn/nazhmi-chtoby-nachat-70740847/ ...\n",
            "Failure to parse. Continue 'NoneType' object has no attribute 'text'\n",
            "Parsing https://www.litres.ru/book/oleg-olegovich/mehanika-vychislyauschego-prostranstva-kak-prostranstvo-soz-70845316/ ...\n",
            "Failure to parse. Continue 'NoneType' object has no attribute 'text'\n",
            "Parsing https://www.litres.ru/book/pavel-lukyanov/informacionnye-resheniya-po-avtomatizacii-mnogovariantnyh-s-64241527/ ...\n",
            "Parsing https://www.litres.ru/book/dmitriy-malenko/sql-server-2005-novye-vozmozhnosti-dlya-razrabotchikov-54323945/ ...\n",
            "Parsing https://www.litres.ru/book/s-u-mahov/informacionnye-tehnologii-v-fizicheskoy-kulture-i-sporte-51703480/ ...\n",
            "Parsing https://www.litres.ru/book/a-v-siluyanov/razrabotka-i-vnedrenie-interpretatora-deklarativnogo-yazyka-9463870/ ...\n",
            "Parsing https://www.litres.ru/book/s-d-kulik/ocenka-effektivnosti-poiskovyh-operaciy-9031589/ ...\n",
            "Parsing https://www.litres.ru/book/b-d-mikeladze/razrabotka-informacionnoy-infrastruktury-upravleniya-proekti-8348697/ ...\n",
            "Parsing https://www.litres.ru/book/a-p-novikov/integraciya-rezultatov-issledovaniy-v-nauchnom-napravlenii-isk-6321575/ ...\n",
            "Parsing https://www.litres.ru/book/a-a-emelyanov/tehnologiya-programmnogo-modelirovaniya-i-upravleniya-modely-6321298/ ...\n",
            "Parsing https://www.litres.ru/book/v-v-babenko/vybor-yazykov-programmirovaniya-i-sredstv-proektirovaniya-dlya-6149713/ ...\n",
            "Parsing https://www.litres.ru/book/v-v-dik/primenenie-zadach-lineynogo-programmirovaniya-pri-upravlenii-stoim-6088161/ ...\n",
            "Parsing https://www.litres.ru/book/a-v-pyzhov/informacionnaya-sistema-gosudarstvennogo-ucheta-i-kontrolya-rad-6087865/ ...\n"
          ]
        },
        {
          "name": "stderr",
          "output_type": "stream",
          "text": [
            " 77%|███████▋  | 30/39 [50:34<15:01, 100.21s/it]"
          ]
        },
        {
          "name": "stdout",
          "output_type": "stream",
          "text": [
            "Parsing https://www.litres.ru/book/a-v-mischenko/modelnyy-podhod-k-analizu-celochislennyh-investicionno-finan-5316306/ ...\n",
            "Parsing https://www.litres.ru/book/a-s-mihaylov/iteracionnyy-process-razrabotki-protokolov-informacionnogo-ob-5008128/ ...\n",
            "Parsing https://www.litres.ru/book/pavel-lukyanov/k-voprosu-opisaniya-slozhnogo-programmnogo-produkta-5003640/ ...\n",
            "Parsing https://www.litres.ru/book/a-v-chernov/instrumentalnaya-sreda-vosstanovleniya-ishodnogo-koda-programm-5002533/ ...\n",
            "Parsing https://www.litres.ru/book/e-a-vlasova/adaptivnoe-planirovanie-chislennogo-sostava-kafedr-v-distancio-5000522/ ...\n",
            "Parsing https://www.litres.ru/book/d-e-namiot/ispolzovanie-opencellid-api-v-mobilnyh-servisah-5000516/ ...\n",
            "Parsing https://www.litres.ru/book/t-v-devyatkov/nekotorye-voprosy-sozdaniya-sistem-avtomatizacii-imitacionny-5000515/ ...\n",
            "Parsing https://www.litres.ru/book/l-v-stepanov/modelirovanie-parametrov-konkurentosposobnogo-tovara-v-uslovi-4995534/ ...\n",
            "Parsing https://www.litres.ru/book/evgeniy-umrihin/razrabotka-android-prilozheniy-na-s-s-ispolzovaniem-xamari-67728134/ ...\n",
            "Parsing https://www.litres.ru/book/deyn-hillard-3300699/publikaciya-paketov-python-testirovanie-rasprostranen-70556005/ ...\n",
            "Parsing https://www.litres.ru/audiobook/artem-demidenko/telegram-bot-rukovodstvo-po-sozdaniu-bota-v-messendzhere-t-69179275/ ...\n",
            "Skipping audiobook\n",
            "Parsing https://www.litres.ru/book/elena-oganovskaya/robototehnika-zd-modelirovanie-prototipirovanie-v-dopoln-37676569/ ...\n",
            "Parsing https://www.litres.ru/audiobook/irina-nikulina-32315/nastolnaya-kniga-veb-dizaynera-prakticheskiy-kurs-po-69639868/ ...\n",
            "Skipping audiobook\n",
            "Parsing https://www.litres.ru/book/p-n-bibilo/osnovy-yazyka-vhdl-8333060/ ...\n",
            "Parsing https://www.litres.ru/book/elena-oganovskaya/robototehnika-3d-modelirovanie-i-prototipirovanie-na-uro-37676625/ ...\n",
            "Parsing https://www.litres.ru/book/a-v-zamyatin/intellektualnyy-analiz-dannyh-67267130/ ...\n",
            "Parsing https://www.litres.ru/audiobook/marina-mihaylenko/vremya-byt-agile-67643840/ ...\n",
            "Skipping audiobook\n",
            "Parsing https://www.litres.ru/book/a-goncharov-5992550/programmnoe-upravlenie-tehnologicheskimi-kompleksami-v-19047508/ ...\n",
            "Parsing https://www.litres.ru/book/vsevolod-ivanov-4/prikladnoe-programmirovanie-na-s-s-s-nulya-do-multimediy-8339312/ ...\n",
            "Parsing https://www.litres.ru/book/n-n-pashkov/transportnaya-logistika-lineynoe-programmirovanie-uchebnoe-pos-57232661/ ...\n",
            "Parsing https://www.litres.ru/book/valeriy-aliev/yazyki-basic-8333055/ ...\n",
            "Parsing https://www.litres.ru/book/m-f-garifullin/obrabotka-tekstovoy-i-graficheskoy-informacii-45276389/ ...\n",
            "Parsing https://www.litres.ru/book/a-v-chekanin/effektivnaya-model-upravleniya-obektami-v-zadachah-ortogonaln-24869620/ ...\n",
            "Parsing https://www.litres.ru/book/a-i-volkov/metodologicheskie-i-programmno-tehnologicheskie-aspekty-vnedren-7064406/ ...\n"
          ]
        },
        {
          "name": "stderr",
          "output_type": "stream",
          "text": [
            " 79%|███████▉  | 31/39 [52:12<13:16, 99.54s/it] "
          ]
        },
        {
          "name": "stdout",
          "output_type": "stream",
          "text": [
            "Parsing https://www.litres.ru/book/d-v-borodin/modeli-prognozirovaniya-cen-akciy-s-primeneniem-funkciy-uolsha-5000537/ ...\n",
            "Parsing https://www.litres.ru/book/v-kurnosov/proektirovanie-litevoy-osnastki-s-ispolzovaniem-programmy-solid-17004998/ ...\n",
            "Parsing https://www.litres.ru/book/mihail-buza/arhitektura-komputerov-19163443/ ...\n",
            "Parsing https://www.litres.ru/book/b-s-leschinskiy/zadachi-po-programmirovaniu-v-microsoft-excel-67272173/ ...\n",
            "Parsing https://www.litres.ru/book/a-v-zamyatin/vvedenie-v-intellektualnyy-analiz-dannyh-67269075/ ...\n",
            "Parsing https://www.litres.ru/book/elena-kuchunova/obektno-orientirovannoe-programmirovanie-na-s-65781250/ ...\n",
            "Parsing https://www.litres.ru/book/v-a-sibiryakova/metod-translyacii-na-osnove-polskoy-inversnoy-zapisi-67279461/ ...\n",
            "Parsing https://www.litres.ru/book/a-fomichev/determinirovannyy-haos-i-kodirovanie-informacii-5005498/ ...\n",
            "Parsing https://www.litres.ru/book/m-b-borisov/modeli-ocenki-stoimosti-informacionnyh-sistem-v-metodologiyah-5008137/ ...\n",
            "Parsing https://www.litres.ru/book/s-p-kuldin/geneticheskiy-podhod-k-probleme-ocenki-srokov-i-trudoemkosti-ra-5000527/ ...\n",
            "Parsing https://www.litres.ru/book/v-e-kayman/model-formirovaniya-optimalnoy-struktury-apparata-upravleniya-o-4976813/ ...\n",
            "Parsing https://www.litres.ru/book/v-a-sartakov/opyt-razrabotki-i-testirovaniya-vstraivaemoy-mikroyadernoy-op-4977171/ ...\n",
            "Parsing https://www.litres.ru/book/a-n-chursin/razrabotka-krossplatformennyh-mobilnyh-prilozheniy-perspektivn-67127184/ ...\n",
            "Parsing https://www.litres.ru/book/v-struchenkov/splayn-approksimaciya-kak-osnova-komputernoy-tehnologii-proe-67126335/ ...\n",
            "Parsing https://www.litres.ru/book/d-v-kondratov/matematicheskie-modeli-algoritmy-i-kompleks-programm-dlya-an-55372813/ ...\n",
            "Parsing https://www.litres.ru/book/i-a-bystrakova/razrabotka-interfeysov-prikladnyh-programm-maketirovanie-il-55373731/ ...\n",
            "Parsing https://www.litres.ru/book/e-v-romanova-2/teoreticheskie-i-metodologicheskie-principy-razrabotki-novy-27108061/ ...\n",
            "Parsing https://www.litres.ru/book/a-v-urkov/modul-upravleniya-komandami-gnu-linux-unix-na-yazyke-java-26118452/ ...\n",
            "Parsing https://www.litres.ru/book/i-g-fedorov/adaptaciya-ontologii-bunge-vanda-vebera-k-opisaniu-ispolnyaemy-11844101/ ...\n",
            "Parsing https://www.litres.ru/book/e-a-satukov/ispolzovanie-trehmernogo-modelirovaniya-pri-rassledovanii-doro-5019022/ ...\n",
            "Parsing https://www.litres.ru/book/k-v-kutikova/metodika-proektirovaniya-informacionnyh-sistem-dlya-sfery-gos-9022825/ ...\n",
            "Parsing https://www.litres.ru/book/a-l-gorbunov/treningovaya-sistema-dopolnennoy-realnosti-dlya-aviadispetche-8654196/ ...\n",
            "Parsing https://www.litres.ru/book/a-a-emelyanov/modelirovanie-informacionnyh-tehnologiy-na-gpss-5316346/ ...\n",
            "Parsing https://www.litres.ru/book/a-v-kudinov/razrabotka-xml-standartov-mirovoy-opyt-i-praktika-raboty-v-ban-5551713/ ...\n"
          ]
        },
        {
          "name": "stderr",
          "output_type": "stream",
          "text": [
            " 82%|████████▏ | 32/39 [54:04<12:02, 103.20s/it]"
          ]
        },
        {
          "name": "stdout",
          "output_type": "stream",
          "text": [
            "Parsing https://www.litres.ru/book/a-f-shorikov/razrabotka-programmnogo-kompleksa-optimizacii-upravleniya-inv-5019369/ ...\n",
            "Parsing https://www.litres.ru/book/a-g-marchuk/obrazovatelnoe-znachenie-klassifikacii-komputernyh-yazykov-5005481/ ...\n",
            "Parsing https://www.litres.ru/book/vasiliy-boev/ob-adekvatnosti-sistem-imitacionnogo-modelirovaniya-gpss-worl-4991057/ ...\n",
            "Parsing https://www.litres.ru/book/v-m-rudenko/poisk-skrytoy-periodichnosti-v-finansovyh-vremennyh-ryadah-met-4991130/ ...\n",
            "Parsing https://www.litres.ru/book/a-a-levkov/organizaciya-effektivnyh-polimorfnyh-algoritmov-v-slozhnyh-sist-4977183/ ...\n",
            "Parsing https://www.litres.ru/book/i-a-kazakova/plankalkul-pervyy-vysokourovnevyy-yazyk-programmirovaniya-4971036/ ...\n",
            "Parsing https://www.litres.ru/book/a-v-chekanin/optimizaciya-resheniya-zadachi-ortogonalnoy-upakovki-4970865/ ...\n",
            "Parsing https://www.litres.ru/book/vladimir-volkov/programmirovanie-dlya-karmannyh-komputerov-176381/ ...\n",
            "Parsing https://www.litres.ru/book/e-kovalev-33000151/raspredelennye-bazy-dannyh-laboratornyy-praktikum-70533892/ ...\n",
            "Failure to parse. Continue could not convert string to float: '69,90'\n",
            "Parsing https://www.litres.ru/book/d-v-druzhinin/vysokoproizvoditelnye-vychisleniya-i-oblachnye-tehnologii-67267101/ ...\n",
            "Parsing https://www.litres.ru/book/a-v-kychkin/tehnologiya-programmnoy-implementacii-cifrovogo-dvoynika-v-kon-67125372/ ...\n",
            "Parsing https://www.litres.ru/book/o-v-tihanychev/postanovka-zadachi-obespecheniya-avtomatizacii-polnogo-cikl-67127187/ ...\n",
            "Parsing https://www.litres.ru/book/m-n-barsukova/zadacha-parametricheskogo-programmirovaniya-s-modelyami-prog-67127220/ ...\n",
            "Parsing https://www.litres.ru/book/a-u-novikov/realizaciya-metaupravleniya-pravami-dostupa-v-proekte-blockset-67126368/ ...\n",
            "Parsing https://www.litres.ru/book/vladimir-vasilev-30922677/parallelnye-vychislitelnye-sistemy-65762250/ ...\n",
            "Parsing https://www.litres.ru/book/pavel-lukyanov/razrabotka-i-realizaciya-portalnyh-resheniy-praktikum-57232186/ ...\n",
            "Parsing https://www.litres.ru/book/a-s-novikov/programmnoe-obespechenie-dlya-nastroyki-protokolov-verhnego-ur-57061865/ ...\n",
            "Parsing https://www.litres.ru/book/e-v-sannikov-6922512/kurs-prakticheskogo-programmirovaniya-v-delphi-obektn-54759367/ ...\n",
            "Parsing https://www.litres.ru/book/a-k-abd-elrahim/reshenie-po-multiagentnomu-predstavleniu-subektov-v-zadach-30792022/ ...\n",
            "Parsing https://www.litres.ru/book/v-v-baynev/ierarhicheskie-struktury-i-ih-komputernaya-realizaciya-v-rasche-27109182/ ...\n",
            "Parsing https://www.litres.ru/book/a-v-mischenko/primenenie-komputernyh-sistem-modelirovaniya-transportnogo-o-26117998/ ...\n",
            "Parsing https://www.litres.ru/book/e-v-arhangelskaya/ob-odnom-programmnom-sredstve-multimediynoy-podderzhki-u-26119494/ ...\n",
            "Parsing https://www.litres.ru/book/a-a-gavrishev/modelirovanie-ustroystva-imitozaschity-kontroliruemyh-obekto-26119590/ ...\n",
            "Parsing https://www.litres.ru/book/u-v-golchevskiy/ocenivanie-stoimosti-programmnogo-produkta-pri-razlichnyh-24869566/ ...\n"
          ]
        },
        {
          "name": "stderr",
          "output_type": "stream",
          "text": [
            " 85%|████████▍ | 33/39 [55:51<10:27, 104.57s/it]"
          ]
        },
        {
          "name": "stdout",
          "output_type": "stream",
          "text": [
            "Parsing https://www.litres.ru/book/v-v-baynev/komputernyy-raschet-i-modelirovanie-svetodiodnyh-osvetitelnyh-s-24869573/ ...\n",
            "Parsing https://www.litres.ru/book/a-a-dunaev/ispolzovanie-teorii-grafov-dlya-raspoznavaniya-obrazov-24869581/ ...\n",
            "Parsing https://www.litres.ru/book/raznoe-4340152/metagrafovyy-podhod-dlya-opisaniya-gibridnyh-intellektualny-24869589/ ...\n",
            "Parsing https://www.litres.ru/book/a-f-strahov/osobennosti-primeneniya-informacionnyh-tehnologiy-na-stadiyah-24869597/ ...\n",
            "Parsing https://www.litres.ru/book/s-m-salibekyan/realizaciya-avtomatnoy-paradigmy-vychisleniy-na-obektno-atr-24342104/ ...\n",
            "Parsing https://www.litres.ru/book/v-v-baynev/programmnaya-realizaciya-modeley-opticheskih-sistem-dlya-proekt-24342096/ ...\n",
            "Parsing https://www.litres.ru/book/a-n-malchukov/razrabotka-struktury-bystrodeystvuuschego-dekodera-bchh-koda-24349440/ ...\n",
            "Parsing https://www.litres.ru/book/a-chernyak/matematicheskoe-programmirovanie-algoritmicheskiy-podhod-18887787/ ...\n",
            "Parsing https://www.litres.ru/book/o-m-guschina/ispolzovanie-tehnologii-tablichnogo-modelirovaniya-genetiches-19412885/ ...\n",
            "Parsing https://www.litres.ru/book/sergey-baydachnyy/silverlight-4-sozdanie-nasyschennyh-web-prilozheniy-8341640/ ...\n",
            "Parsing https://www.litres.ru/book/stanislav-goshko/tehnologii-borby-s-komputernymi-virusami-prakticheskoe-po-8341532/ ...\n",
            "Parsing https://www.litres.ru/book/m-n-kapranova/informatika-macromedia-flash-mx-komputernaya-grafika-i-anima-8341645/ ...\n",
            "Parsing https://www.litres.ru/book/a-v-kalutov/vvedenie-v-fotorealisticheskuu-grafiku-17072050/ ...\n",
            "Parsing https://www.litres.ru/book/a-p-novikov/pervichnaya-identifikaciya-v-tehnologii-informacionnogo-poiska-17086406/ ...\n",
            "Parsing https://www.litres.ru/book/e-b-gribanova/processno-orientirovannoe-modelirovanie-sistem-massovogo-obs-17085542/ ...\n",
            "Parsing https://www.litres.ru/book/m-v-tumbinskaya/model-zaschischennoy-informacionnoy-sistemy-internet-banki-12160296/ ...\n",
            "Parsing https://www.litres.ru/book/d-v-oshkalo/sinhronizaciya-modeley-pri-razrabotke-programmnogo-obespecheni-12160301/ ...\n",
            "Parsing https://www.litres.ru/book/sergey-baydachnyy/net-framework-2-0-sekrety-sozdaniya-windows-prilozheniy-8337544/ ...\n",
            "Parsing https://www.litres.ru/book/i-u-vygodchikova/algoritm-ocenki-parametrov-lineynoy-mnozhestvennoy-modeli-11868389/ ...\n",
            "Parsing https://www.litres.ru/book/a-u-artemev/ocenka-vetroenergeticheskogo-potenciala-rayona-sredstvami-komp-11868361/ ...\n",
            "Parsing https://www.litres.ru/book/a-p-novikov/pervichnaya-identifikaciya-v-tehnologii-informacionnogo-poiska-11868420/ ...\n",
            "Parsing https://www.litres.ru/book/n-v-orlova/sravnitelnyy-analiz-saytov-poiska-optovyh-postavschikov-po-krit-11197766/ ...\n",
            "Parsing https://www.litres.ru/book/a-a-vichugova/etapy-metody-i-sredstva-konfigurirovaniya-informacionnyh-sis-11279462/ ...\n",
            "Parsing https://www.litres.ru/book/s-d-kulik/metod-posledovatelnogo-analiza-dlya-testirovaniya-cheloveka-oper-11279471/ ...\n"
          ]
        },
        {
          "name": "stderr",
          "output_type": "stream",
          "text": [
            " 87%|████████▋ | 34/39 [57:52<09:06, 109.22s/it]"
          ]
        },
        {
          "name": "stdout",
          "output_type": "stream",
          "text": [
            "Parsing https://www.litres.ru/book/a-a-emelyanov-2/optimizaciya-proizvodstvennyh-programm-na-osnove-rezultato-11279473/ ...\n",
            "Parsing https://www.litres.ru/book/svetlana-fedotova/sozdanie-windows-prilozheniy-v-srede-delphi-8337246/ ...\n",
            "Parsing https://www.litres.ru/book/a-v-kravchenko/metodika-ocenki-effektivnosti-informacionnyh-sistem-9450832/ ...\n",
            "Parsing https://www.litres.ru/book/a-v-baranov/modelirovanie-ekologo-ekonomicheskoy-sistemy-regiona-na-osnove-9464332/ ...\n",
            "Parsing https://www.litres.ru/book/a-g-madera/komputernoe-modelirovanie-temperaturnyh-poley-tehnicheskih-sist-9464564/ ...\n",
            "Parsing https://www.litres.ru/book/a-v-siluyanov/avtomatizirovannaya-razrabotka-dinamicheskih-web-uzlov-sreds-9031636/ ...\n",
            "Parsing https://www.litres.ru/book/v-d-aleshin/modelirovanie-v-zhiznennom-cikle-avtomatizirovannyh-sistem-upr-9033149/ ...\n",
            "Parsing https://www.litres.ru/book/i-m-salamatin/setevye-tehnologii-v-programmnyh-sistemah-avtomatizacii-spek-8654186/ ...\n",
            "Parsing https://www.litres.ru/book/a-v-ludomir/imitacionnoe-modelirovanie-dinamicheskoy-vozdushnoy-obstanovki-8654201/ ...\n",
            "Parsing https://www.litres.ru/book/a-u-perevaruha/kognitivnoe-modelirovanie-v-analize-strukturnogo-vzaimodeys-8654207/ ...\n",
            "Parsing https://www.litres.ru/book/a-b-dolgiy/podderzhka-prinyatiya-resheniy-pri-proektirovanii-silovyh-trans-7068662/ ...\n",
            "Parsing https://www.litres.ru/book/t-a-kapitonova/neyrosetevoe-modelirovanie-v-raspoznavanii-obrazov-filosofs-7073797/ ...\n",
            "Parsing https://www.litres.ru/book/v-n-volkova/opredelenie-ponyatiya-informatika-dolzhno-bazirovatsya-na-prak-8349499/ ...\n",
            "Parsing https://www.litres.ru/book/v-p-meshalkin/imitacionnaya-mnogoagentnaya-nechetko-logicheskaya-model-pri-8349452/ ...\n",
            "Parsing https://www.litres.ru/book/v-g-chernov/model-podderzhki-prinyatiya-resheniya-pri-planirovanii-proekta-8349459/ ...\n",
            "Parsing https://www.litres.ru/book/i-s-kalinnikov/algoritm-poiska-priblizhennoy-kompozicionnoy-modeli-lipshic-8350027/ ...\n",
            "Parsing https://www.litres.ru/book/a-s-cherkashin/obrabotka-i-vizualizaciya-prostranstvennyh-dannyh-na-gibrid-8350074/ ...\n",
            "Parsing https://www.litres.ru/book/v-v-devyatkov/nekotorye-voprosy-razvitiya-metodologii-imitacionnyh-issledo-8350110/ ...\n",
            "Parsing https://www.litres.ru/book/m-s-sergeev/obnaruzhenie-skrytyh-periodichnostey-metodom-veyvlet-analiza-8350120/ ...\n",
            "Parsing https://www.litres.ru/book/v-v-artuhin/planirovanie-analiticheskogo-issledovaniya-pri-pomoschi-metodo-7065046/ ...\n",
            "Parsing https://www.litres.ru/book/a-g-miheev/primenenie-processnogo-podhoda-k-upravleniu-finansovymi-resursa-7065071/ ...\n",
            "Parsing https://www.litres.ru/book/e-r-moshev/modeli-i-algoritmy-rascheta-ustroystv-dlya-gasheniya-pulsaciy-g-7065072/ ...\n",
            "Parsing https://www.litres.ru/book/v-b-shuvalov/optimizaciya-testirovaniya-slozhnyh-cifrovyh-ustroystv-7065077/ ...\n",
            "Parsing https://www.litres.ru/book/a-a-emelyanov-2/vyyavlenie-prinadlezhnosti-tochek-k-obektam-territoriy-v-i-7065096/ ...\n"
          ]
        },
        {
          "name": "stderr",
          "output_type": "stream",
          "text": [
            " 90%|████████▉ | 35/39 [59:44<07:20, 110.24s/it]"
          ]
        },
        {
          "name": "stdout",
          "output_type": "stream",
          "text": [
            "Parsing https://www.litres.ru/book/v-v-artuhin/planirovanie-analiticheskogo-issledovaniya-pri-pomoschi-metodo-7065046/ ...\n",
            "Parsing https://www.litres.ru/book/a-g-miheev/primenenie-processnogo-podhoda-k-upravleniu-finansovymi-resursa-7065071/ ...\n",
            "Parsing https://www.litres.ru/book/v-f-kornushko/stepen-gotovnosti-sistemy-upravleniya-biznes-processami-k-vn-7065042/ ...\n",
            "Parsing https://www.litres.ru/book/a-v-sokolov/fasetnaya-mnogomernost-i-ambivalentnost-informatiki-k-80-letiu-6686665/ ...\n",
            "Parsing https://www.litres.ru/book/a-p-novikov/organizaciya-mnogonapravlennosti-ierarhicheskogo-podema-spuska-6686661/ ...\n",
            "Parsing https://www.litres.ru/book/v-v-devyatkov/imitacionnaya-ekspertiza-opyt-primeneniya-i-perspektivy-6671839/ ...\n",
            "Parsing https://www.litres.ru/book/a-a-vichugova/metody-i-sredstva-konceptualnogo-proektirovaniya-informacion-6671146/ ...\n",
            "Parsing https://www.litres.ru/book/l-g-komarcova/neyronechetkiy-adaptivnyy-marshrutizator-potokov-cifrovoy-in-6538892/ ...\n",
            "Parsing https://www.litres.ru/book/a-p-dimitriev/modeli-i-algoritmy-v-sistemah-avtomatizirovannogo-perevoda-t-6538889/ ...\n",
            "Parsing https://www.litres.ru/book/l-g-komarcova/primenenie-neyrosetevyh-associativnyh-mashin-dlya-obnaruzhen-6320128/ ...\n",
            "Parsing https://www.litres.ru/book/v-l-abbakumov/kolichestvennoe-ocenivanie-posledstviy-upravlencheskih-reshe-6317558/ ...\n",
            "Parsing https://www.litres.ru/book/a-v-loginova/informacionnye-modeli-i-avtomatizirovannye-procedury-dlya-upr-6319763/ ...\n",
            "Parsing https://www.litres.ru/book/a-i-borodin/ocenivanie-investicionnoy-privlekatelnosti-innovacionnyh-proek-6149689/ ...\n",
            "Parsing https://www.litres.ru/book/a-v-tolok/postroenie-vokselnyh-modeley-geometricheskih-obektov-6149722/ ...\n",
            "Parsing https://www.litres.ru/book/i-m-azhmuhamedov/modelirovanie-ploho-formalizuemyh-processov-v-sociotehnic-6149785/ ...\n",
            "Parsing https://www.litres.ru/book/a-a-emelyanov/tehnologiya-rabot-s-topograficheskoy-informaciey-v-imitacion-6149755/ ...\n",
            "Parsing https://www.litres.ru/book/a-v-maldrik/pyat-shagov-na-puti-k-effektivnoy-informatizacii-predpriyatiya-6087849/ ...\n",
            "Parsing https://www.litres.ru/book/o-v-stoyanova/upravlenie-proektami-nanoindustrii-na-osnove-kompleksnoy-ada-6087852/ ...\n",
            "Parsing https://www.litres.ru/book/a-u-nikiforov/individualizaciya-sredy-podderzhki-obucheniya-6087889/ ...\n",
            "Parsing https://www.litres.ru/book/a-b-borisenko/parallelnyy-algoritm-optimalnogo-vybora-apparaturnogo-oforml-6087963/ ...\n",
            "Parsing https://www.litres.ru/book/a-a-emelyanov/koncepciya-i-vozmozhnosti-aktorno-orientirovannoy-sistemy-im-5000708/ ...\n",
            "Parsing https://www.litres.ru/book/a-a-deryagin/formoobrazovanie-i-animaciya-3d-obektov-na-osnove-tetragonaln-5721320/ ...\n",
            "Parsing https://www.litres.ru/book/a-v-ramenskaya/formirovanie-optimalnoy-strategii-metodami-stohasticheskogo-5000704/ ...\n",
            "Parsing https://www.litres.ru/book/a-a-pisarchuk/strukturno-parametricheskiy-sintez-sistemy-obnaruzheniya-kib-5716229/ ...\n"
          ]
        },
        {
          "name": "stderr",
          "output_type": "stream",
          "text": [
            " 92%|█████████▏| 36/39 [1:01:38<05:34, 111.45s/it]"
          ]
        },
        {
          "name": "stdout",
          "output_type": "stream",
          "text": [
            "Parsing https://www.litres.ru/book/a-v-faraonov/situacionnaya-model-vybora-marshruta-dostavki-5721398/ ...\n",
            "Parsing https://www.litres.ru/book/d-s-habarova/obzor-programmnyh-kompleksov-mnogokriterialnoy-optimizacii-5721347/ ...\n",
            "Parsing https://www.litres.ru/book/a-v-timonin/matematicheskoe-modelirovanie-i-raschet-harakteristik-trehmoda-5715848/ ...\n",
            "Parsing https://www.litres.ru/book/a-b-galaev/logiko-statisticheskiy-algoritm-identifikacii-skvoznyh-por-i-eg-5715945/ ...\n",
            "Parsing https://www.litres.ru/book/v-v-gimarov/konfigurirovanie-informacionnyh-i-transportnyh-setey-v-usloviy-5000692/ ...\n",
            "Parsing https://www.litres.ru/book/a-a-babaev/variativnye-procedury-v-algoritmah-optimizacii-prikladnyh-kombi-5000687/ ...\n",
            "Parsing https://www.litres.ru/book/d-a-borisoglebskiy/usovershenstvovannyy-podhod-k-zadache-vektorizacii-kont-5721246/ ...\n",
            "Parsing https://www.litres.ru/book/a-e-antonov/identifikaciya-tipa-fayla-na-osnove-strukturnogo-analiza-5716475/ ...\n",
            "Parsing https://www.litres.ru/book/a-a-emelyanov/tehnologiya-imitacionnogo-modelirovaniya-v-sisteme-pilgrim-5612088/ ...\n",
            "Parsing https://www.litres.ru/book/i-a-brusakova/sistema-upravleniya-bazami-izmeritelnyh-znaniy-5616104/ ...\n",
            "Parsing https://www.litres.ru/book/l-s-chistyakov/modificirovannaya-hipo-tehnologiya-razrabotki-bolshih-progr-5616317/ ...\n",
            "Parsing https://www.litres.ru/book/a-a-emelyanov/simulyatory-gpss-world-i-actor-pilgrim-ekonomika-i-massovoe-5316318/ ...\n",
            "Parsing https://www.litres.ru/book/a-a-emelyanov/tehnologiya-sozdaniya-komputernyh-modeley-dlya-sistem-podder-5533739/ ...\n",
            "Parsing https://www.litres.ru/book/a-a-shevchenko/upravlenie-vremenem-pri-proektirovanii-imitacionnyh-modeley-5613011/ ...\n",
            "Parsing https://www.litres.ru/book/b-d-shashkov/effektivnost-parallelnoy-realizacii-algoritmov-pomehoustoychi-5613186/ ...\n",
            "Parsing https://www.litres.ru/book/v-n-bugorskiy/principy-matematicheskogo-modelirovaniya-motivacii-k-trudu-5316312/ ...\n",
            "Parsing https://www.litres.ru/book/a-v-klimenko/neyro-nechetkiy-metod-postroeniya-modeley-slozhnyh-obektov-5316309/ ...\n",
            "Parsing https://www.litres.ru/book/d-v-ermoshin/imitacionnaya-model-proizvodstvennogo-processa-kak-element-si-5316336/ ...\n",
            "Parsing https://www.litres.ru/book/m-i-dli/tehnologiya-dinamicheskogo-kontrollinga-v-promyshlennosti-5515019/ ...\n",
            "Parsing https://www.litres.ru/book/a-i-nadeev/razrabotka-multimediynyh-uchebnikov-effektivnost-i-podvodnye-ka-5531664/ ...\n",
            "Parsing https://www.litres.ru/book/a-f-shorikov/metodologiya-modelirovaniya-mnogourovnevyh-sistem-ierarhiya-i-5533977/ ...\n",
            "Parsing https://www.litres.ru/book/a-v-kudinov/sovremennaya-it-industriya-i-yazyk-xml-v-programmnyh-produktah-5530415/ ...\n",
            "Parsing https://www.litres.ru/book/a-v-ledenev/programmirovanie-protiv-proektirovaniya-5316258/ ...\n",
            "Parsing https://www.litres.ru/book/u-rubin/postanovka-zadach-imitacionnogo-modelirovaniya-takticheskih-zaschi-5025686/ ...\n"
          ]
        },
        {
          "name": "stderr",
          "output_type": "stream",
          "text": [
            " 95%|█████████▍| 37/39 [1:03:32<03:44, 112.11s/it]"
          ]
        },
        {
          "name": "stdout",
          "output_type": "stream",
          "text": [
            "Parsing https://www.litres.ru/book/v-p-zayarnyy/vozmozhnost-zaschity-peredavaemoy-cifrovoy-informacii-s-ispol-5025419/ ...\n",
            "Parsing https://www.litres.ru/book/v-n-bugorskiy/modelirovanie-ocenki-stoimosti-virtualnyh-predpriyatiy-5025699/ ...\n",
            "Parsing https://www.litres.ru/book/v-v-artuhin/nekotorye-voprosy-obucheniya-inostrannomu-yazyku-v-neyazykovyh-5025678/ ...\n",
            "Parsing https://www.litres.ru/book/a-v-morozova/modelirovanie-socialno-professionalnoy-konkurentosposobnosti-5019880/ ...\n",
            "Parsing https://www.litres.ru/book/a-a-subacheva/imitacionnoe-modelirovanie-razvitiya-i-tusheniya-pozharov-v-5019871/ ...\n",
            "Parsing https://www.litres.ru/book/m-a-kozhevnikov/paket-sredstv-informacionno-programmnoy-podderzhki-rannego-5019850/ ...\n",
            "Parsing https://www.litres.ru/book/e-a-vlasova/model-upravleniya-zatratami-na-povyshenie-kvalifikacii-prepoda-5019783/ ...\n",
            "Parsing https://www.litres.ru/book/i-s-lebedev/vychislenie-semanticheskoy-sostavlyauschey-tekstovoy-informaci-5019774/ ...\n",
            "Parsing https://www.litres.ru/book/i-i-popov/ispolzovanie-semanticheskih-podhodov-v-ekonomicheskih-modelyah-5019253/ ...\n",
            "Parsing https://www.litres.ru/book/m-andreeva/modeli-upravleniya-finansovymi-i-proizvodstvennymi-resursami-pr-5019016/ ...\n",
            "Parsing https://www.litres.ru/book/a-a-emelyanov/stohasticheskie-setevye-modeli-massovogo-obsluzhivaniya-5008113/ ...\n",
            "Parsing https://www.litres.ru/book/a-a-ostrovskiy/realizaciya-parallelnogo-vypolneniya-algoritma-fcm-klasteri-5018019/ ...\n",
            "Parsing https://www.litres.ru/book/g-v-lapinskaya/bioalgoritmy-kak-osnova-avtomatizacii-sostavleniya-psiholog-5018022/ ...\n",
            "Parsing https://www.litres.ru/book/a-i-seslavin/principy-ravnomernosti-v-zadachah-upravleniya-potokami-passaz-5018023/ ...\n",
            "Parsing https://www.litres.ru/book/v-i-karpov/opredelenie-optimalnogo-srednevzveshennogo-razmera-komissionnog-5005473/ ...\n",
            "Parsing https://www.litres.ru/book/v-e-lihtenshteyn/optimizaciya-zaklucheniya-dogovorov-i-poisk-optimalnyh-pr-5005475/ ...\n",
            "Parsing https://www.litres.ru/book/v-i-batischev/metody-adaptivnogo-formirovaniya-informacionnyh-sistem-anali-5005501/ ...\n",
            "Parsing https://www.litres.ru/book/i-ya-golfand/razrabotka-sppr-na-osnove-upravleniya-stoimostu-predpriyatiya-5008116/ ...\n",
            "Parsing https://www.litres.ru/book/a-v-tolok/graficheskie-obrazy-modeli-v-informacionnyh-tehnologiyah-5011092/ ...\n",
            "Parsing https://www.litres.ru/book/a-i-sorokin/raspoznavanie-prostyh-liniy-na-izobrazhenii-5009775/ ...\n",
            "Parsing https://www.litres.ru/book/a-a-fokin/razrabotka-kompleksnoy-sistemy-prognozirovaniya-prostoya-bankoma-5009024/ ...\n",
            "Parsing https://www.litres.ru/book/a-l-badenko/prikladnaya-metodika-ocenki-resursoemkosti-razrabotki-arm-5008134/ ...\n",
            "Parsing https://www.litres.ru/book/a-a-emelyanov/koncepciya-i-vozmozhnosti-aktorno-orientirovannoy-sistemy-im-5000798/ ...\n",
            "Parsing https://www.litres.ru/book/a-v-kotomin/arhitektura-sistemy-dlya-razrabotki-tehnologiy-organizacii-slo-5005445/ ...\n"
          ]
        },
        {
          "name": "stderr",
          "output_type": "stream",
          "text": [
            " 97%|█████████▋| 38/39 [1:05:31<01:54, 114.24s/it]"
          ]
        },
        {
          "name": "stdout",
          "output_type": "stream",
          "text": [
            "Parsing https://www.litres.ru/book/i-b-kondratenkov/obnaruzhenie-ustoychivyh-izmeneniy-nabludaemoy-sceny-pri-5005434/ ...\n",
            "Parsing https://www.litres.ru/book/g-s-tibilova/proektirovanie-sistem-iniciativnogo-informacionnogo-obsluzhiv-5005376/ ...\n",
            "Parsing https://www.litres.ru/book/s-v-guss/model-karkasa-programmnyh-komponentov-podderzhki-zanyatiy-lingvis-5005313/ ...\n",
            "Parsing https://www.litres.ru/book/b-n-polyakov/optimizaciya-kinematicheskih-parametrov-rychazhnyh-chetyrehzv-5004340/ ...\n",
            "Parsing https://www.litres.ru/book/r-a-sandu/metod-logiko-vychislitelnoy-obrabotki-dannyh-himicheskoy-i-nefte-5005307/ ...\n",
            "Parsing https://www.litres.ru/book/vasiliy-boev/ob-adekvatnosti-sistem-imitacionnogo-modelirovaniya-gpss-worl-4997354/ ...\n",
            "Parsing https://www.litres.ru/book/n-d-moskin/instrumenty-issledovaniya-tekstovyh-kollekciy-na-osnove-teoreti-5003634/ ...\n",
            "Parsing https://www.litres.ru/book/v-v-kitukov/programmnyy-sposob-vychisleniya-topologiy-i-issledovaniya-ih-s-5000744/ ...\n",
            "Parsing https://www.litres.ru/book/o-v-michasova/chislenno-analiticheskoe-issledovanie-modeli-ekonomicheskogo-5000752/ ...\n",
            "Parsing https://www.litres.ru/book/v-v-strizhov/postroenie-ierarhicheskih-tematicheskih-modeley-kollekcii-dok-5000758/ ...\n",
            "Parsing https://www.litres.ru/book/v-v-auev/metod-pozicionirovaniya-agentov-pri-kartirovanii-zakrytyh-pomesch-5000768/ ...\n",
            "Parsing https://www.litres.ru/book/a-s-golubev/osobennosti-raspoznavaniya-metodom-blizhayshego-elementa-v-alg-5000771/ ...\n",
            "Parsing https://www.litres.ru/book/a-a-deryagin/modelirovanie-3d-obektov-i-scen-na-osnove-ispolzovaniya-tetro-5000777/ ...\n",
            "Parsing https://www.litres.ru/book/i-o-alferov/marshruty-s-lokalnymi-ogranicheniyami-algoritmy-i-programmnaya-5000782/ ...\n",
            "Parsing https://www.litres.ru/book/s-e-drobnov/ocenivanie-uskoreniya-vychisleniy-v-raspredelennyh-sistemah-5000788/ ...\n",
            "Parsing https://www.litres.ru/book/m-i-dli/trehurovnevaya-nechetkaya-kognitivnaya-model-dlya-analiza-processo-5000804/ ...\n",
            "Parsing https://www.litres.ru/book/a-a-ilyasov/primenenie-n-orientirovannyh-gipergrafov-i-relyacionnyh-baz-da-5002513/ ...\n",
            "Parsing https://www.litres.ru/book/d-v-sidorov/modifikaciya-algoritma-ssim-5002504/ ...\n",
            "Parsing https://www.litres.ru/book/a-s-genvald/web-predstavitelstvo-regionalnogo-muzeya-5000519/ ...\n",
            "Parsing https://www.litres.ru/book/a-v-tolok/r-funkcii-kak-apparat-v-prilozheniyah-fraktalnoy-geometrii-4998253/ ...\n",
            "Parsing https://www.litres.ru/book/a-v-chernov/vosstanovlenie-upravlyauschih-konstrukciy-obrabotki-isklucheni-4997365/ ...\n",
            "Parsing https://www.litres.ru/book/e-l-kalishenko/podhody-k-prognozirovaniu-trafika-v-besprovodnyh-mesh-setya-4997359/ ...\n",
            "Parsing https://www.litres.ru/book/a-m-chepovskiy/vizualizaciya-svyazey-vydelennogo-mnozhestva-obektov-semant-4997363/ ...\n",
            "Parsing https://www.litres.ru/book/a-g-marchuk/parallelnoe-programmirovanie-sredi-drugih-paradigm-programmiro-4994483/ ...\n"
          ]
        },
        {
          "name": "stderr",
          "output_type": "stream",
          "text": [
            "100%|██████████| 39/39 [1:07:20<00:00, 103.61s/it]\n"
          ]
        }
      ],
      "source": [
        "with open('litres_programming_data.csv','w') as out:\n",
        "    csv_out = csv.writer(out)\n",
        "    csv_out.writerow((\"\", \"name\", \"price\", \"rating_count\", \"rating\", \"review_count\", \"pages_count\", \"age\", \"author\", \"year\", \"link\", \"text_of_reviews\"))\n",
        "    for i, data in enumerate(parse_everything()):\n",
        "      csv_out.writerow((i, *data))"
      ]
    },
    {
      "cell_type": "markdown",
      "metadata": {
        "id": "R4wzhyB5512U"
      },
      "source": [
        "## Часть 2. EDA (30 баллов)\n",
        "\n",
        "1. Выведите первые 5 строк датасета. (0.25). Сколько в нём строк и столбцов (0.25)?\n",
        "2. Есть ли в датасете пропуски? (0.5)\n",
        "3. Проверьте типы данных. Если это необходимо, приведите к типам int и float те столбцы, с которыми понадобится работать как с числами. (1).\n",
        "4. Выведите описательные статистики переменных. Ответьте на следующие вопросы:\n",
        "\n",
        "* Какая медианная цена книги в вашем датасете? (1)  \n",
        "* Какое возрастное ограничение встречается чаще всего? (1)  \n",
        "* Какое среднее число отзывов в книге? (1)  \n",
        "* Сколько книг имеют оценку ниже 4.25? (1)  \n",
        "* В каком году было написано больше всего книг из датасета? (1)  \n",
        "\n",
        "5. Если вы работаете с готовым датасетом, то попробуйте \"достать\" из столбца pages количество страниц. Если у вас не получилось, то далее при определении числа страниц пользуйтесь стольцов pages_count. Если вы парсили датасет сами, то вы получаете балл за этот пункт автоматически (1.5)\n",
        "\n",
        "6. Создайте новое поле is_popular. Значение равно 1, если рейтинг книги не менее 4.6 и при этом у нее не менее 5 отзывов, и 0 в остальных случаях. (1)\n",
        "\n",
        "7. Как отличается среднее число страниц среди популярных и непопулярных книг? (2)\n",
        "\n",
        "8. Выведите топ-10 книг по числу отзывов. (2).\n",
        "\n",
        "9. Найдите среднюю длину отзыва (в символах). (2)\n",
        "\n",
        "10. Постройте таблицу корреляций числовых переменных. (1) Прокомментируйте результаты. (1)\n",
        "\n",
        "11. Постройте диаграмму рассеяния (scatterplot) количества страниц и количества отзывов. Не забудьте подписать график и оси. (1) Прокомментируйте полученные результаты. (1)\n",
        "\n",
        "12. Постройте линейный график: по оси Х год, по оси Y количество книг. (1) Прокомментируйте. (1)\n",
        "\n",
        "12. Постройте еще любые два графика по вашему усмотрению. (2) Прокомментируйте полученные результаты. (1.5)\n",
        "\n",
        "13. Постройте таблицу с авторами книг с именем автора, количество книг в датасете, средней оценкой книг, средним количеством отзывов. (2).\n",
        "\n",
        "14. Что еще интересного можно увидеть в этом датасете? Просмотрите на данные и ответьте на какие-нибудь вопросы, на которые не ответили в предыдущим пункте. Мы никак не ограничиваем вашу фантазию! (3)."
      ]
    },
    {
      "cell_type": "code",
      "execution_count": 2,
      "metadata": {},
      "outputs": [
        {
          "name": "stdout",
          "output_type": "stream",
          "text": [
            "Requirement already satisfied: pandas in /Library/Frameworks/Python.framework/Versions/3.10/lib/python3.10/site-packages (1.3.5)\n",
            "Requirement already satisfied: matplotlib in /Library/Frameworks/Python.framework/Versions/3.10/lib/python3.10/site-packages (3.8.0)\n",
            "Collecting seaborn\n",
            "  Downloading seaborn-0.13.2-py3-none-any.whl.metadata (5.4 kB)\n",
            "Requirement already satisfied: python-dateutil>=2.7.3 in /Library/Frameworks/Python.framework/Versions/3.10/lib/python3.10/site-packages (from pandas) (2.8.2)\n",
            "Requirement already satisfied: pytz>=2017.3 in /Library/Frameworks/Python.framework/Versions/3.10/lib/python3.10/site-packages (from pandas) (2023.3)\n",
            "Requirement already satisfied: numpy>=1.21.0 in /Library/Frameworks/Python.framework/Versions/3.10/lib/python3.10/site-packages (from pandas) (1.26.1)\n",
            "Requirement already satisfied: contourpy>=1.0.1 in /Library/Frameworks/Python.framework/Versions/3.10/lib/python3.10/site-packages (from matplotlib) (1.1.1)\n",
            "Requirement already satisfied: cycler>=0.10 in /Library/Frameworks/Python.framework/Versions/3.10/lib/python3.10/site-packages (from matplotlib) (0.12.0)\n",
            "Requirement already satisfied: fonttools>=4.22.0 in /Library/Frameworks/Python.framework/Versions/3.10/lib/python3.10/site-packages (from matplotlib) (4.43.0)\n",
            "Requirement already satisfied: kiwisolver>=1.0.1 in /Library/Frameworks/Python.framework/Versions/3.10/lib/python3.10/site-packages (from matplotlib) (1.4.5)\n",
            "Requirement already satisfied: packaging>=20.0 in /Library/Frameworks/Python.framework/Versions/3.10/lib/python3.10/site-packages (from matplotlib) (23.1)\n",
            "Requirement already satisfied: pillow>=6.2.0 in /Library/Frameworks/Python.framework/Versions/3.10/lib/python3.10/site-packages (from matplotlib) (10.0.1)\n",
            "Requirement already satisfied: pyparsing>=2.3.1 in /Library/Frameworks/Python.framework/Versions/3.10/lib/python3.10/site-packages (from matplotlib) (3.0.9)\n",
            "Requirement already satisfied: six>=1.5 in /Library/Frameworks/Python.framework/Versions/3.10/lib/python3.10/site-packages (from python-dateutil>=2.7.3->pandas) (1.16.0)\n",
            "Downloading seaborn-0.13.2-py3-none-any.whl (294 kB)\n",
            "Installing collected packages: seaborn\n",
            "Successfully installed seaborn-0.13.2\n"
          ]
        }
      ],
      "source": [
        "!pip install pandas matplotlib seaborn"
      ]
    },
    {
      "cell_type": "code",
      "execution_count": 3,
      "metadata": {
        "id": "gr1mkXGYceKt"
      },
      "outputs": [],
      "source": [
        "import pandas as pd\n",
        "import numpy as np\n",
        "import seaborn as sns"
      ]
    },
    {
      "cell_type": "markdown",
      "metadata": {
        "id": "R4XQD5Kicixp"
      },
      "source": [
        "1. Выведите первые 5 строк датасета. (0.25). Сколько в нём строк и столбцов (0.25)?"
      ]
    },
    {
      "cell_type": "code",
      "execution_count": 4,
      "metadata": {
        "id": "o7L0FcsM6T7N"
      },
      "outputs": [],
      "source": [
        "df = pd.read_csv('litres_programming_data.csv', index_col=0)"
      ]
    },
    {
      "cell_type": "code",
      "execution_count": 5,
      "metadata": {
        "colab": {
          "base_uri": "https://localhost:8080/",
          "height": 451
        },
        "id": "_uueexFdcnbY",
        "outputId": "549b96ed-d8df-4392-887e-3f87c840d60f"
      },
      "outputs": [
        {
          "data": {
            "text/html": [
              "<div>\n",
              "<style scoped>\n",
              "    .dataframe tbody tr th:only-of-type {\n",
              "        vertical-align: middle;\n",
              "    }\n",
              "\n",
              "    .dataframe tbody tr th {\n",
              "        vertical-align: top;\n",
              "    }\n",
              "\n",
              "    .dataframe thead th {\n",
              "        text-align: right;\n",
              "    }\n",
              "</style>\n",
              "<table border=\"1\" class=\"dataframe\">\n",
              "  <thead>\n",
              "    <tr style=\"text-align: right;\">\n",
              "      <th></th>\n",
              "      <th>name</th>\n",
              "      <th>price</th>\n",
              "      <th>rating_count</th>\n",
              "      <th>rating</th>\n",
              "      <th>review_count</th>\n",
              "      <th>pages_count</th>\n",
              "      <th>age</th>\n",
              "      <th>author</th>\n",
              "      <th>year</th>\n",
              "      <th>link</th>\n",
              "      <th>text_of_reviews</th>\n",
              "    </tr>\n",
              "  </thead>\n",
              "  <tbody>\n",
              "    <tr>\n",
              "      <th>0</th>\n",
              "      <td>Начинаем программировать на Python</td>\n",
              "      <td>599.0</td>\n",
              "      <td>16</td>\n",
              "      <td>5.0</td>\n",
              "      <td>6</td>\n",
              "      <td>875</td>\n",
              "      <td>12+</td>\n",
              "      <td>Тони Гэддис</td>\n",
              "      <td>2021.0</td>\n",
              "      <td>https://www.litres.ru/book/toni-geddis-3249116...</td>\n",
              "      <td>['Шикарная книга! Начал изучать Python самосто...</td>\n",
              "    </tr>\n",
              "    <tr>\n",
              "      <th>1</th>\n",
              "      <td>Изучаем DDD – предметно-ориентированное проект...</td>\n",
              "      <td>549.0</td>\n",
              "      <td>0</td>\n",
              "      <td>0.0</td>\n",
              "      <td>1</td>\n",
              "      <td>319</td>\n",
              "      <td>0+</td>\n",
              "      <td>Влад Хононов</td>\n",
              "      <td>2022.0</td>\n",
              "      <td>https://www.litres.ru/book/vlad-hononov/izucha...</td>\n",
              "      <td>['Обязательно вернусь, но позжеЭта книга из то...</td>\n",
              "    </tr>\n",
              "    <tr>\n",
              "      <th>2</th>\n",
              "      <td>System Design. Подготовка к сложному интервью</td>\n",
              "      <td>699.0</td>\n",
              "      <td>17</td>\n",
              "      <td>3.6</td>\n",
              "      <td>9</td>\n",
              "      <td>304</td>\n",
              "      <td>16+</td>\n",
              "      <td>Алекс Сюй</td>\n",
              "      <td>2020.0</td>\n",
              "      <td>https://www.litres.ru/book/aleks-suy/system-de...</td>\n",
              "      <td>['Добротная книга по разработке архитектуры пр...</td>\n",
              "    </tr>\n",
              "    <tr>\n",
              "      <th>3</th>\n",
              "      <td>Высоконагруженные приложения. Программирование...</td>\n",
              "      <td>799.0</td>\n",
              "      <td>51</td>\n",
              "      <td>4.0</td>\n",
              "      <td>11</td>\n",
              "      <td>640</td>\n",
              "      <td>16+</td>\n",
              "      <td>Мартин Клеппман</td>\n",
              "      <td>2017.0</td>\n",
              "      <td>https://www.litres.ru/book/martin-kleppman-173...</td>\n",
              "      <td>['Не могу что-либо про перевод сказать, читал ...</td>\n",
              "    </tr>\n",
              "    <tr>\n",
              "      <th>4</th>\n",
              "      <td>Python Библиотеки</td>\n",
              "      <td>690.0</td>\n",
              "      <td>339</td>\n",
              "      <td>5.0</td>\n",
              "      <td>11</td>\n",
              "      <td>192</td>\n",
              "      <td>12+</td>\n",
              "      <td>Джейд Картер</td>\n",
              "      <td>2024.0</td>\n",
              "      <td>https://www.litres.ru/book/dzheyd-karter/pytho...</td>\n",
              "      <td>['На каждую библиотеку в книге приводится прим...</td>\n",
              "    </tr>\n",
              "  </tbody>\n",
              "</table>\n",
              "</div>"
            ],
            "text/plain": [
              "                                                name  price  rating_count  \\\n",
              "0                 Начинаем программировать на Python  599.0            16   \n",
              "1  Изучаем DDD – предметно-ориентированное проект...  549.0             0   \n",
              "2      System Design. Подготовка к сложному интервью  699.0            17   \n",
              "3  Высоконагруженные приложения. Программирование...  799.0            51   \n",
              "4                                  Python Библиотеки  690.0           339   \n",
              "\n",
              "   rating  review_count  pages_count  age           author    year  \\\n",
              "0     5.0             6          875  12+      Тони Гэддис  2021.0   \n",
              "1     0.0             1          319   0+     Влад Хононов  2022.0   \n",
              "2     3.6             9          304  16+        Алекс Сюй  2020.0   \n",
              "3     4.0            11          640  16+  Мартин Клеппман  2017.0   \n",
              "4     5.0            11          192  12+     Джейд Картер  2024.0   \n",
              "\n",
              "                                                link  \\\n",
              "0  https://www.litres.ru/book/toni-geddis-3249116...   \n",
              "1  https://www.litres.ru/book/vlad-hononov/izucha...   \n",
              "2  https://www.litres.ru/book/aleks-suy/system-de...   \n",
              "3  https://www.litres.ru/book/martin-kleppman-173...   \n",
              "4  https://www.litres.ru/book/dzheyd-karter/pytho...   \n",
              "\n",
              "                                     text_of_reviews  \n",
              "0  ['Шикарная книга! Начал изучать Python самосто...  \n",
              "1  ['Обязательно вернусь, но позжеЭта книга из то...  \n",
              "2  ['Добротная книга по разработке архитектуры пр...  \n",
              "3  ['Не могу что-либо про перевод сказать, читал ...  \n",
              "4  ['На каждую библиотеку в книге приводится прим...  "
            ]
          },
          "execution_count": 5,
          "metadata": {},
          "output_type": "execute_result"
        }
      ],
      "source": [
        "df.head(5)"
      ]
    },
    {
      "cell_type": "code",
      "execution_count": 6,
      "metadata": {
        "colab": {
          "base_uri": "https://localhost:8080/"
        },
        "id": "NrHlFmdNcqdp",
        "outputId": "abae3096-f929-4a66-a08d-e8bb3960280a"
      },
      "outputs": [
        {
          "name": "stdout",
          "output_type": "stream",
          "text": [
            "842 строк, 11 столбцов\n"
          ]
        }
      ],
      "source": [
        "print(f\"{df.shape[0]} строк,\", f\"{df.shape[1]} столбцов\")"
      ]
    },
    {
      "cell_type": "markdown",
      "metadata": {
        "id": "DmuBkhyrc55j"
      },
      "source": [
        "2. Есть ли в датасете пропуски? (0.5)"
      ]
    },
    {
      "cell_type": "code",
      "execution_count": 7,
      "metadata": {
        "colab": {
          "base_uri": "https://localhost:8080/",
          "height": 429
        },
        "id": "hIQ_-0AG7oxE",
        "outputId": "d0ebbda5-9d13-49f1-9c36-1be01b25b289"
      },
      "outputs": [
        {
          "data": {
            "text/plain": [
              "name                0\n",
              "price               0\n",
              "rating_count        0\n",
              "rating              0\n",
              "review_count        0\n",
              "pages_count         0\n",
              "age                 0\n",
              "author             22\n",
              "year               41\n",
              "link                0\n",
              "text_of_reviews     0\n",
              "dtype: int64"
            ]
          },
          "execution_count": 7,
          "metadata": {},
          "output_type": "execute_result"
        }
      ],
      "source": [
        "df.isna().sum()"
      ]
    },
    {
      "cell_type": "markdown",
      "metadata": {
        "id": "9xSVymROdpDd"
      },
      "source": [
        "Пропуски есть, отсеим"
      ]
    },
    {
      "cell_type": "code",
      "execution_count": 8,
      "metadata": {
        "colab": {
          "base_uri": "https://localhost:8080/",
          "height": 429
        },
        "id": "fpuVymSt_-F6",
        "outputId": "8be9cdfd-c794-4dc8-f7ac-7943ef2039bf"
      },
      "outputs": [
        {
          "data": {
            "text/plain": [
              "name               0\n",
              "price              0\n",
              "rating_count       0\n",
              "rating             0\n",
              "review_count       0\n",
              "pages_count        0\n",
              "age                0\n",
              "author             0\n",
              "year               0\n",
              "link               0\n",
              "text_of_reviews    0\n",
              "dtype: int64"
            ]
          },
          "execution_count": 8,
          "metadata": {},
          "output_type": "execute_result"
        }
      ],
      "source": [
        "df = df.dropna()\n",
        "df.isna().sum()"
      ]
    },
    {
      "cell_type": "code",
      "execution_count": 32,
      "metadata": {
        "id": "qLV9zmQ3EDA4"
      },
      "outputs": [],
      "source": [
        "df[\"author\"] = df[\"author\"].apply(lambda name: name.rstrip(\", \"))"
      ]
    },
    {
      "cell_type": "code",
      "execution_count": 33,
      "metadata": {
        "colab": {
          "base_uri": "https://localhost:8080/",
          "height": 860
        },
        "id": "CTtIBVOhEJR7",
        "outputId": "b1f7c812-08c4-458e-dfa5-5f1dd41ae5f7"
      },
      "outputs": [
        {
          "data": {
            "text/html": [
              "<div>\n",
              "<style scoped>\n",
              "    .dataframe tbody tr th:only-of-type {\n",
              "        vertical-align: middle;\n",
              "    }\n",
              "\n",
              "    .dataframe tbody tr th {\n",
              "        vertical-align: top;\n",
              "    }\n",
              "\n",
              "    .dataframe thead th {\n",
              "        text-align: right;\n",
              "    }\n",
              "</style>\n",
              "<table border=\"1\" class=\"dataframe\">\n",
              "  <thead>\n",
              "    <tr style=\"text-align: right;\">\n",
              "      <th></th>\n",
              "      <th>name</th>\n",
              "      <th>price</th>\n",
              "      <th>rating_count</th>\n",
              "      <th>rating</th>\n",
              "      <th>review_count</th>\n",
              "      <th>pages_count</th>\n",
              "      <th>age</th>\n",
              "      <th>author</th>\n",
              "      <th>year</th>\n",
              "      <th>link</th>\n",
              "      <th>text_of_reviews</th>\n",
              "    </tr>\n",
              "  </thead>\n",
              "  <tbody>\n",
              "    <tr>\n",
              "      <th>0</th>\n",
              "      <td>Начинаем программировать на Python</td>\n",
              "      <td>599.0</td>\n",
              "      <td>16</td>\n",
              "      <td>5.0</td>\n",
              "      <td>6</td>\n",
              "      <td>875</td>\n",
              "      <td>12+</td>\n",
              "      <td>Тони Гэддис</td>\n",
              "      <td>2021.0</td>\n",
              "      <td>https://www.litres.ru/book/toni-geddis-3249116...</td>\n",
              "      <td>['Шикарная книга! Начал изучать Python самосто...</td>\n",
              "    </tr>\n",
              "    <tr>\n",
              "      <th>1</th>\n",
              "      <td>Изучаем DDD – предметно-ориентированное проект...</td>\n",
              "      <td>549.0</td>\n",
              "      <td>0</td>\n",
              "      <td>0.0</td>\n",
              "      <td>1</td>\n",
              "      <td>319</td>\n",
              "      <td>0+</td>\n",
              "      <td>Влад Хононов</td>\n",
              "      <td>2022.0</td>\n",
              "      <td>https://www.litres.ru/book/vlad-hononov/izucha...</td>\n",
              "      <td>['Обязательно вернусь, но позжеЭта книга из то...</td>\n",
              "    </tr>\n",
              "    <tr>\n",
              "      <th>2</th>\n",
              "      <td>System Design. Подготовка к сложному интервью</td>\n",
              "      <td>699.0</td>\n",
              "      <td>17</td>\n",
              "      <td>3.6</td>\n",
              "      <td>9</td>\n",
              "      <td>304</td>\n",
              "      <td>16+</td>\n",
              "      <td>Алекс Сюй</td>\n",
              "      <td>2020.0</td>\n",
              "      <td>https://www.litres.ru/book/aleks-suy/system-de...</td>\n",
              "      <td>['Добротная книга по разработке архитектуры пр...</td>\n",
              "    </tr>\n",
              "    <tr>\n",
              "      <th>3</th>\n",
              "      <td>Высоконагруженные приложения. Программирование...</td>\n",
              "      <td>799.0</td>\n",
              "      <td>51</td>\n",
              "      <td>4.0</td>\n",
              "      <td>11</td>\n",
              "      <td>640</td>\n",
              "      <td>16+</td>\n",
              "      <td>Мартин Клеппман</td>\n",
              "      <td>2017.0</td>\n",
              "      <td>https://www.litres.ru/book/martin-kleppman-173...</td>\n",
              "      <td>['Не могу что-либо про перевод сказать, читал ...</td>\n",
              "    </tr>\n",
              "    <tr>\n",
              "      <th>4</th>\n",
              "      <td>Python Библиотеки</td>\n",
              "      <td>690.0</td>\n",
              "      <td>339</td>\n",
              "      <td>5.0</td>\n",
              "      <td>11</td>\n",
              "      <td>192</td>\n",
              "      <td>12+</td>\n",
              "      <td>Джейд Картер</td>\n",
              "      <td>2024.0</td>\n",
              "      <td>https://www.litres.ru/book/dzheyd-karter/pytho...</td>\n",
              "      <td>['На каждую библиотеку в книге приводится прим...</td>\n",
              "    </tr>\n",
              "    <tr>\n",
              "      <th>...</th>\n",
              "      <td>...</td>\n",
              "      <td>...</td>\n",
              "      <td>...</td>\n",
              "      <td>...</td>\n",
              "      <td>...</td>\n",
              "      <td>...</td>\n",
              "      <td>...</td>\n",
              "      <td>...</td>\n",
              "      <td>...</td>\n",
              "      <td>...</td>\n",
              "      <td>...</td>\n",
              "    </tr>\n",
              "    <tr>\n",
              "      <th>837</th>\n",
              "      <td>R-функции как аппарат в приложениях фрактально...</td>\n",
              "      <td>96.0</td>\n",
              "      <td>1</td>\n",
              "      <td>5.0</td>\n",
              "      <td>0</td>\n",
              "      <td>7</td>\n",
              "      <td>0+</td>\n",
              "      <td>А. В. Толок</td>\n",
              "      <td>2010.0</td>\n",
              "      <td>https://www.litres.ru/book/a-v-tolok/r-funkcii...</td>\n",
              "      <td>[]</td>\n",
              "    </tr>\n",
              "    <tr>\n",
              "      <th>838</th>\n",
              "      <td>Восстановление управляющих конструкций обработ...</td>\n",
              "      <td>96.0</td>\n",
              "      <td>0</td>\n",
              "      <td>0.0</td>\n",
              "      <td>0</td>\n",
              "      <td>13</td>\n",
              "      <td>0+</td>\n",
              "      <td>Е. О. Деревенец</td>\n",
              "      <td>2010.0</td>\n",
              "      <td>https://www.litres.ru/book/a-v-chernov/vosstan...</td>\n",
              "      <td>[]</td>\n",
              "    </tr>\n",
              "    <tr>\n",
              "      <th>839</th>\n",
              "      <td>Подходы к прогнозированию трафика в беспроводн...</td>\n",
              "      <td>96.0</td>\n",
              "      <td>0</td>\n",
              "      <td>0.0</td>\n",
              "      <td>0</td>\n",
              "      <td>7</td>\n",
              "      <td>0+</td>\n",
              "      <td>Е. Л. Калишенко</td>\n",
              "      <td>2010.0</td>\n",
              "      <td>https://www.litres.ru/book/e-l-kalishenko/podh...</td>\n",
              "      <td>[]</td>\n",
              "    </tr>\n",
              "    <tr>\n",
              "      <th>840</th>\n",
              "      <td>Визуализация связей выделенного множества объе...</td>\n",
              "      <td>96.0</td>\n",
              "      <td>0</td>\n",
              "      <td>0.0</td>\n",
              "      <td>0</td>\n",
              "      <td>7</td>\n",
              "      <td>0+</td>\n",
              "      <td>А. П. Лахно</td>\n",
              "      <td>2010.0</td>\n",
              "      <td>https://www.litres.ru/book/a-m-chepovskiy/vizu...</td>\n",
              "      <td>[]</td>\n",
              "    </tr>\n",
              "    <tr>\n",
              "      <th>841</th>\n",
              "      <td>Параллельное программирование среди других пар...</td>\n",
              "      <td>96.0</td>\n",
              "      <td>0</td>\n",
              "      <td>0.0</td>\n",
              "      <td>0</td>\n",
              "      <td>10</td>\n",
              "      <td>0+</td>\n",
              "      <td>Н. В. Шилов</td>\n",
              "      <td>2011.0</td>\n",
              "      <td>https://www.litres.ru/book/a-g-marchuk/paralle...</td>\n",
              "      <td>[]</td>\n",
              "    </tr>\n",
              "  </tbody>\n",
              "</table>\n",
              "<p>785 rows × 11 columns</p>\n",
              "</div>"
            ],
            "text/plain": [
              "                                                  name  price  rating_count  \\\n",
              "0                   Начинаем программировать на Python  599.0            16   \n",
              "1    Изучаем DDD – предметно-ориентированное проект...  549.0             0   \n",
              "2        System Design. Подготовка к сложному интервью  699.0            17   \n",
              "3    Высоконагруженные приложения. Программирование...  799.0            51   \n",
              "4                                    Python Библиотеки  690.0           339   \n",
              "..                                                 ...    ...           ...   \n",
              "837  R-функции как аппарат в приложениях фрактально...   96.0             1   \n",
              "838  Восстановление управляющих конструкций обработ...   96.0             0   \n",
              "839  Подходы к прогнозированию трафика в беспроводн...   96.0             0   \n",
              "840  Визуализация связей выделенного множества объе...   96.0             0   \n",
              "841  Параллельное программирование среди других пар...   96.0             0   \n",
              "\n",
              "     rating  review_count  pages_count  age           author    year  \\\n",
              "0       5.0             6          875  12+      Тони Гэддис  2021.0   \n",
              "1       0.0             1          319   0+     Влад Хононов  2022.0   \n",
              "2       3.6             9          304  16+        Алекс Сюй  2020.0   \n",
              "3       4.0            11          640  16+  Мартин Клеппман  2017.0   \n",
              "4       5.0            11          192  12+     Джейд Картер  2024.0   \n",
              "..      ...           ...          ...  ...              ...     ...   \n",
              "837     5.0             0            7   0+      А. В. Толок  2010.0   \n",
              "838     0.0             0           13   0+  Е. О. Деревенец  2010.0   \n",
              "839     0.0             0            7   0+  Е. Л. Калишенко  2010.0   \n",
              "840     0.0             0            7   0+      А. П. Лахно  2010.0   \n",
              "841     0.0             0           10   0+      Н. В. Шилов  2011.0   \n",
              "\n",
              "                                                  link  \\\n",
              "0    https://www.litres.ru/book/toni-geddis-3249116...   \n",
              "1    https://www.litres.ru/book/vlad-hononov/izucha...   \n",
              "2    https://www.litres.ru/book/aleks-suy/system-de...   \n",
              "3    https://www.litres.ru/book/martin-kleppman-173...   \n",
              "4    https://www.litres.ru/book/dzheyd-karter/pytho...   \n",
              "..                                                 ...   \n",
              "837  https://www.litres.ru/book/a-v-tolok/r-funkcii...   \n",
              "838  https://www.litres.ru/book/a-v-chernov/vosstan...   \n",
              "839  https://www.litres.ru/book/e-l-kalishenko/podh...   \n",
              "840  https://www.litres.ru/book/a-m-chepovskiy/vizu...   \n",
              "841  https://www.litres.ru/book/a-g-marchuk/paralle...   \n",
              "\n",
              "                                       text_of_reviews  \n",
              "0    ['Шикарная книга! Начал изучать Python самосто...  \n",
              "1    ['Обязательно вернусь, но позжеЭта книга из то...  \n",
              "2    ['Добротная книга по разработке архитектуры пр...  \n",
              "3    ['Не могу что-либо про перевод сказать, читал ...  \n",
              "4    ['На каждую библиотеку в книге приводится прим...  \n",
              "..                                                 ...  \n",
              "837                                                 []  \n",
              "838                                                 []  \n",
              "839                                                 []  \n",
              "840                                                 []  \n",
              "841                                                 []  \n",
              "\n",
              "[785 rows x 11 columns]"
            ]
          },
          "execution_count": 33,
          "metadata": {},
          "output_type": "execute_result"
        }
      ],
      "source": [
        "df"
      ]
    },
    {
      "cell_type": "markdown",
      "metadata": {
        "id": "-ifg--lUdtuz"
      },
      "source": [
        "3. Проверьте типы данных. Если это необходимо, приведите к типам int и float те столбцы, с которыми понадобится работать как с числами. (1)."
      ]
    },
    {
      "cell_type": "code",
      "execution_count": 11,
      "metadata": {
        "colab": {
          "base_uri": "https://localhost:8080/",
          "height": 429
        },
        "id": "PZUNYDm9dHl_",
        "outputId": "1829ce5f-c789-4b6a-991e-a7ed79120af8"
      },
      "outputs": [
        {
          "data": {
            "text/plain": [
              "name                object\n",
              "price              float64\n",
              "rating_count         int64\n",
              "rating             float64\n",
              "review_count         int64\n",
              "pages_count          int64\n",
              "age                 object\n",
              "author              object\n",
              "year               float64\n",
              "link                object\n",
              "text_of_reviews     object\n",
              "dtype: object"
            ]
          },
          "execution_count": 11,
          "metadata": {},
          "output_type": "execute_result"
        }
      ],
      "source": [
        "df.dtypes"
      ]
    },
    {
      "cell_type": "code",
      "execution_count": 45,
      "metadata": {},
      "outputs": [
        {
          "data": {
            "text/html": [
              "<div>\n",
              "<style scoped>\n",
              "    .dataframe tbody tr th:only-of-type {\n",
              "        vertical-align: middle;\n",
              "    }\n",
              "\n",
              "    .dataframe tbody tr th {\n",
              "        vertical-align: top;\n",
              "    }\n",
              "\n",
              "    .dataframe thead th {\n",
              "        text-align: right;\n",
              "    }\n",
              "</style>\n",
              "<table border=\"1\" class=\"dataframe\">\n",
              "  <thead>\n",
              "    <tr style=\"text-align: right;\">\n",
              "      <th></th>\n",
              "      <th>name</th>\n",
              "      <th>price</th>\n",
              "      <th>rating_count</th>\n",
              "      <th>rating</th>\n",
              "      <th>review_count</th>\n",
              "      <th>pages_count</th>\n",
              "      <th>age</th>\n",
              "      <th>author</th>\n",
              "      <th>year</th>\n",
              "      <th>link</th>\n",
              "      <th>text_of_reviews</th>\n",
              "      <th>is_popular</th>\n",
              "    </tr>\n",
              "  </thead>\n",
              "  <tbody>\n",
              "    <tr>\n",
              "      <th>0</th>\n",
              "      <td>Начинаем программировать на Python</td>\n",
              "      <td>599.0</td>\n",
              "      <td>16</td>\n",
              "      <td>5.0</td>\n",
              "      <td>6</td>\n",
              "      <td>875</td>\n",
              "      <td>12+</td>\n",
              "      <td>Тони Гэддис</td>\n",
              "      <td>2021</td>\n",
              "      <td>https://www.litres.ru/book/toni-geddis-3249116...</td>\n",
              "      <td>['Шикарная книга! Начал изучать Python самосто...</td>\n",
              "      <td>1</td>\n",
              "    </tr>\n",
              "    <tr>\n",
              "      <th>1</th>\n",
              "      <td>Изучаем DDD – предметно-ориентированное проект...</td>\n",
              "      <td>549.0</td>\n",
              "      <td>0</td>\n",
              "      <td>0.0</td>\n",
              "      <td>1</td>\n",
              "      <td>319</td>\n",
              "      <td>0+</td>\n",
              "      <td>Влад Хононов</td>\n",
              "      <td>2022</td>\n",
              "      <td>https://www.litres.ru/book/vlad-hononov/izucha...</td>\n",
              "      <td>['Обязательно вернусь, но позжеЭта книга из то...</td>\n",
              "      <td>0</td>\n",
              "    </tr>\n",
              "    <tr>\n",
              "      <th>2</th>\n",
              "      <td>System Design. Подготовка к сложному интервью</td>\n",
              "      <td>699.0</td>\n",
              "      <td>17</td>\n",
              "      <td>3.6</td>\n",
              "      <td>9</td>\n",
              "      <td>304</td>\n",
              "      <td>16+</td>\n",
              "      <td>Алекс Сюй</td>\n",
              "      <td>2020</td>\n",
              "      <td>https://www.litres.ru/book/aleks-suy/system-de...</td>\n",
              "      <td>['Добротная книга по разработке архитектуры пр...</td>\n",
              "      <td>0</td>\n",
              "    </tr>\n",
              "    <tr>\n",
              "      <th>3</th>\n",
              "      <td>Высоконагруженные приложения. Программирование...</td>\n",
              "      <td>799.0</td>\n",
              "      <td>51</td>\n",
              "      <td>4.0</td>\n",
              "      <td>11</td>\n",
              "      <td>640</td>\n",
              "      <td>16+</td>\n",
              "      <td>Мартин Клеппман</td>\n",
              "      <td>2017</td>\n",
              "      <td>https://www.litres.ru/book/martin-kleppman-173...</td>\n",
              "      <td>['Не могу что-либо про перевод сказать, читал ...</td>\n",
              "      <td>0</td>\n",
              "    </tr>\n",
              "    <tr>\n",
              "      <th>4</th>\n",
              "      <td>Python Библиотеки</td>\n",
              "      <td>690.0</td>\n",
              "      <td>339</td>\n",
              "      <td>5.0</td>\n",
              "      <td>11</td>\n",
              "      <td>192</td>\n",
              "      <td>12+</td>\n",
              "      <td>Джейд Картер</td>\n",
              "      <td>2024</td>\n",
              "      <td>https://www.litres.ru/book/dzheyd-karter/pytho...</td>\n",
              "      <td>['На каждую библиотеку в книге приводится прим...</td>\n",
              "      <td>1</td>\n",
              "    </tr>\n",
              "    <tr>\n",
              "      <th>...</th>\n",
              "      <td>...</td>\n",
              "      <td>...</td>\n",
              "      <td>...</td>\n",
              "      <td>...</td>\n",
              "      <td>...</td>\n",
              "      <td>...</td>\n",
              "      <td>...</td>\n",
              "      <td>...</td>\n",
              "      <td>...</td>\n",
              "      <td>...</td>\n",
              "      <td>...</td>\n",
              "      <td>...</td>\n",
              "    </tr>\n",
              "    <tr>\n",
              "      <th>837</th>\n",
              "      <td>R-функции как аппарат в приложениях фрактально...</td>\n",
              "      <td>96.0</td>\n",
              "      <td>1</td>\n",
              "      <td>5.0</td>\n",
              "      <td>0</td>\n",
              "      <td>7</td>\n",
              "      <td>0+</td>\n",
              "      <td>А. В. Толок</td>\n",
              "      <td>2010</td>\n",
              "      <td>https://www.litres.ru/book/a-v-tolok/r-funkcii...</td>\n",
              "      <td>[]</td>\n",
              "      <td>0</td>\n",
              "    </tr>\n",
              "    <tr>\n",
              "      <th>838</th>\n",
              "      <td>Восстановление управляющих конструкций обработ...</td>\n",
              "      <td>96.0</td>\n",
              "      <td>0</td>\n",
              "      <td>0.0</td>\n",
              "      <td>0</td>\n",
              "      <td>13</td>\n",
              "      <td>0+</td>\n",
              "      <td>Е. О. Деревенец</td>\n",
              "      <td>2010</td>\n",
              "      <td>https://www.litres.ru/book/a-v-chernov/vosstan...</td>\n",
              "      <td>[]</td>\n",
              "      <td>0</td>\n",
              "    </tr>\n",
              "    <tr>\n",
              "      <th>839</th>\n",
              "      <td>Подходы к прогнозированию трафика в беспроводн...</td>\n",
              "      <td>96.0</td>\n",
              "      <td>0</td>\n",
              "      <td>0.0</td>\n",
              "      <td>0</td>\n",
              "      <td>7</td>\n",
              "      <td>0+</td>\n",
              "      <td>Е. Л. Калишенко</td>\n",
              "      <td>2010</td>\n",
              "      <td>https://www.litres.ru/book/e-l-kalishenko/podh...</td>\n",
              "      <td>[]</td>\n",
              "      <td>0</td>\n",
              "    </tr>\n",
              "    <tr>\n",
              "      <th>840</th>\n",
              "      <td>Визуализация связей выделенного множества объе...</td>\n",
              "      <td>96.0</td>\n",
              "      <td>0</td>\n",
              "      <td>0.0</td>\n",
              "      <td>0</td>\n",
              "      <td>7</td>\n",
              "      <td>0+</td>\n",
              "      <td>А. П. Лахно</td>\n",
              "      <td>2010</td>\n",
              "      <td>https://www.litres.ru/book/a-m-chepovskiy/vizu...</td>\n",
              "      <td>[]</td>\n",
              "      <td>0</td>\n",
              "    </tr>\n",
              "    <tr>\n",
              "      <th>841</th>\n",
              "      <td>Параллельное программирование среди других пар...</td>\n",
              "      <td>96.0</td>\n",
              "      <td>0</td>\n",
              "      <td>0.0</td>\n",
              "      <td>0</td>\n",
              "      <td>10</td>\n",
              "      <td>0+</td>\n",
              "      <td>Н. В. Шилов</td>\n",
              "      <td>2011</td>\n",
              "      <td>https://www.litres.ru/book/a-g-marchuk/paralle...</td>\n",
              "      <td>[]</td>\n",
              "      <td>0</td>\n",
              "    </tr>\n",
              "  </tbody>\n",
              "</table>\n",
              "<p>785 rows × 12 columns</p>\n",
              "</div>"
            ],
            "text/plain": [
              "                                                  name  price  rating_count  \\\n",
              "0                   Начинаем программировать на Python  599.0            16   \n",
              "1    Изучаем DDD – предметно-ориентированное проект...  549.0             0   \n",
              "2        System Design. Подготовка к сложному интервью  699.0            17   \n",
              "3    Высоконагруженные приложения. Программирование...  799.0            51   \n",
              "4                                    Python Библиотеки  690.0           339   \n",
              "..                                                 ...    ...           ...   \n",
              "837  R-функции как аппарат в приложениях фрактально...   96.0             1   \n",
              "838  Восстановление управляющих конструкций обработ...   96.0             0   \n",
              "839  Подходы к прогнозированию трафика в беспроводн...   96.0             0   \n",
              "840  Визуализация связей выделенного множества объе...   96.0             0   \n",
              "841  Параллельное программирование среди других пар...   96.0             0   \n",
              "\n",
              "     rating  review_count  pages_count  age           author  year  \\\n",
              "0       5.0             6          875  12+      Тони Гэддис  2021   \n",
              "1       0.0             1          319   0+     Влад Хононов  2022   \n",
              "2       3.6             9          304  16+        Алекс Сюй  2020   \n",
              "3       4.0            11          640  16+  Мартин Клеппман  2017   \n",
              "4       5.0            11          192  12+     Джейд Картер  2024   \n",
              "..      ...           ...          ...  ...              ...   ...   \n",
              "837     5.0             0            7   0+      А. В. Толок  2010   \n",
              "838     0.0             0           13   0+  Е. О. Деревенец  2010   \n",
              "839     0.0             0            7   0+  Е. Л. Калишенко  2010   \n",
              "840     0.0             0            7   0+      А. П. Лахно  2010   \n",
              "841     0.0             0           10   0+      Н. В. Шилов  2011   \n",
              "\n",
              "                                                  link  \\\n",
              "0    https://www.litres.ru/book/toni-geddis-3249116...   \n",
              "1    https://www.litres.ru/book/vlad-hononov/izucha...   \n",
              "2    https://www.litres.ru/book/aleks-suy/system-de...   \n",
              "3    https://www.litres.ru/book/martin-kleppman-173...   \n",
              "4    https://www.litres.ru/book/dzheyd-karter/pytho...   \n",
              "..                                                 ...   \n",
              "837  https://www.litres.ru/book/a-v-tolok/r-funkcii...   \n",
              "838  https://www.litres.ru/book/a-v-chernov/vosstan...   \n",
              "839  https://www.litres.ru/book/e-l-kalishenko/podh...   \n",
              "840  https://www.litres.ru/book/a-m-chepovskiy/vizu...   \n",
              "841  https://www.litres.ru/book/a-g-marchuk/paralle...   \n",
              "\n",
              "                                       text_of_reviews  is_popular  \n",
              "0    ['Шикарная книга! Начал изучать Python самосто...           1  \n",
              "1    ['Обязательно вернусь, но позжеЭта книга из то...           0  \n",
              "2    ['Добротная книга по разработке архитектуры пр...           0  \n",
              "3    ['Не могу что-либо про перевод сказать, читал ...           0  \n",
              "4    ['На каждую библиотеку в книге приводится прим...           1  \n",
              "..                                                 ...         ...  \n",
              "837                                                 []           0  \n",
              "838                                                 []           0  \n",
              "839                                                 []           0  \n",
              "840                                                 []           0  \n",
              "841                                                 []           0  \n",
              "\n",
              "[785 rows x 12 columns]"
            ]
          },
          "execution_count": 45,
          "metadata": {},
          "output_type": "execute_result"
        }
      ],
      "source": [
        "df[\"year\"] = df[\"year\"].apply(int)\n",
        "df"
      ]
    },
    {
      "cell_type": "markdown",
      "metadata": {
        "id": "44NBqRRdeE8s"
      },
      "source": [
        "Считаем, что `age` - категориальный признак."
      ]
    },
    {
      "cell_type": "markdown",
      "metadata": {
        "id": "fSfVqz3KePyA"
      },
      "source": [
        "4. Выведите описательные статистики переменных. Ответьте на следующие вопросы:\n",
        "\n",
        "* Какая медианная цена книги в вашем датасете? (1)  \n",
        "* Какое возрастное ограничение встречается чаще всего? (1)  \n",
        "* Какое среднее число отзывов в книге? (1)  \n",
        "* Сколько книг имеют оценку ниже 4.25? (1)  \n",
        "* В каком году было написано больше всего книг из датасета? (1)  \n"
      ]
    },
    {
      "cell_type": "code",
      "execution_count": 46,
      "metadata": {
        "colab": {
          "base_uri": "https://localhost:8080/"
        },
        "id": "SAlHCMCAeysw",
        "outputId": "15afc64a-2d2b-4161-fa9d-58479e03f6ef"
      },
      "outputs": [
        {
          "name": "stdout",
          "output_type": "stream",
          "text": [
            "Медиана 350.0\n",
            "\n",
            "Чаще всего 0+    443\n",
            "Name: age, dtype: int64\n",
            "\n",
            "Среднее число отзывов 2.3719745222929935\n",
            "\n",
            "Книги с оценкой ниже 4.25 457\n",
            "\n",
            "Самый популярный 2021    89\n",
            "Name: year, dtype: int64\n"
          ]
        }
      ],
      "source": [
        "print(\n",
        "    f\"Медиана {df.price.median()}\",\n",
        "    f\"Чаще всего {df.age.value_counts().nlargest(1)}\",\n",
        "    f\"Среднее число отзывов {df.review_count.mean()}\",\n",
        "    f\"Книги с оценкой ниже 4.25 {df[df.rating < 4.25].shape[0]}\",\n",
        "    f\"Самый популярный {df.year.value_counts().nlargest(1)}\",\n",
        "    sep='\\n\\n'\n",
        ")"
      ]
    },
    {
      "cell_type": "markdown",
      "metadata": {
        "id": "2nory4LkeZKn"
      },
      "source": [
        "\n",
        "5. Если вы работаете с готовым датасетом, то попробуйте \"достать\" из столбца pages количество страниц. Если у вас не получилось, то далее при определении числа страниц пользуйтесь стольцов pages_count. Если вы парсили датасет сами, то вы получаете балл за этот пункт автоматически (1.5)\n"
      ]
    },
    {
      "cell_type": "code",
      "execution_count": 47,
      "metadata": {
        "id": "g2HQQSEVhItK"
      },
      "outputs": [],
      "source": [
        "if \"pages\" in df:\n",
        "  df.pages = df.pages.map(lambda it: int(it.split(\" стр.\")[0]))"
      ]
    },
    {
      "cell_type": "markdown",
      "metadata": {
        "id": "evtmpSoweauS"
      },
      "source": [
        "\n",
        "6. Создайте новое поле is_popular. Значение равно 1, если рейтинг книги не менее 4.6 и при этом у нее не менее 5 отзывов, и 0 в остальных случаях. (1)\n"
      ]
    },
    {
      "cell_type": "code",
      "execution_count": 48,
      "metadata": {
        "colab": {
          "base_uri": "https://localhost:8080/",
          "height": 860
        },
        "id": "t6iKbcWphedD",
        "outputId": "e79a7744-03f9-4426-cbc3-b721f8c3d6f2"
      },
      "outputs": [
        {
          "data": {
            "text/html": [
              "<div>\n",
              "<style scoped>\n",
              "    .dataframe tbody tr th:only-of-type {\n",
              "        vertical-align: middle;\n",
              "    }\n",
              "\n",
              "    .dataframe tbody tr th {\n",
              "        vertical-align: top;\n",
              "    }\n",
              "\n",
              "    .dataframe thead th {\n",
              "        text-align: right;\n",
              "    }\n",
              "</style>\n",
              "<table border=\"1\" class=\"dataframe\">\n",
              "  <thead>\n",
              "    <tr style=\"text-align: right;\">\n",
              "      <th></th>\n",
              "      <th>name</th>\n",
              "      <th>price</th>\n",
              "      <th>rating_count</th>\n",
              "      <th>rating</th>\n",
              "      <th>review_count</th>\n",
              "      <th>pages_count</th>\n",
              "      <th>age</th>\n",
              "      <th>author</th>\n",
              "      <th>year</th>\n",
              "      <th>link</th>\n",
              "      <th>text_of_reviews</th>\n",
              "      <th>is_popular</th>\n",
              "    </tr>\n",
              "  </thead>\n",
              "  <tbody>\n",
              "    <tr>\n",
              "      <th>0</th>\n",
              "      <td>Начинаем программировать на Python</td>\n",
              "      <td>599.0</td>\n",
              "      <td>16</td>\n",
              "      <td>5.0</td>\n",
              "      <td>6</td>\n",
              "      <td>875</td>\n",
              "      <td>12+</td>\n",
              "      <td>Тони Гэддис</td>\n",
              "      <td>2021</td>\n",
              "      <td>https://www.litres.ru/book/toni-geddis-3249116...</td>\n",
              "      <td>['Шикарная книга! Начал изучать Python самосто...</td>\n",
              "      <td>1</td>\n",
              "    </tr>\n",
              "    <tr>\n",
              "      <th>1</th>\n",
              "      <td>Изучаем DDD – предметно-ориентированное проект...</td>\n",
              "      <td>549.0</td>\n",
              "      <td>0</td>\n",
              "      <td>0.0</td>\n",
              "      <td>1</td>\n",
              "      <td>319</td>\n",
              "      <td>0+</td>\n",
              "      <td>Влад Хононов</td>\n",
              "      <td>2022</td>\n",
              "      <td>https://www.litres.ru/book/vlad-hononov/izucha...</td>\n",
              "      <td>['Обязательно вернусь, но позжеЭта книга из то...</td>\n",
              "      <td>0</td>\n",
              "    </tr>\n",
              "    <tr>\n",
              "      <th>2</th>\n",
              "      <td>System Design. Подготовка к сложному интервью</td>\n",
              "      <td>699.0</td>\n",
              "      <td>17</td>\n",
              "      <td>3.6</td>\n",
              "      <td>9</td>\n",
              "      <td>304</td>\n",
              "      <td>16+</td>\n",
              "      <td>Алекс Сюй</td>\n",
              "      <td>2020</td>\n",
              "      <td>https://www.litres.ru/book/aleks-suy/system-de...</td>\n",
              "      <td>['Добротная книга по разработке архитектуры пр...</td>\n",
              "      <td>0</td>\n",
              "    </tr>\n",
              "    <tr>\n",
              "      <th>3</th>\n",
              "      <td>Высоконагруженные приложения. Программирование...</td>\n",
              "      <td>799.0</td>\n",
              "      <td>51</td>\n",
              "      <td>4.0</td>\n",
              "      <td>11</td>\n",
              "      <td>640</td>\n",
              "      <td>16+</td>\n",
              "      <td>Мартин Клеппман</td>\n",
              "      <td>2017</td>\n",
              "      <td>https://www.litres.ru/book/martin-kleppman-173...</td>\n",
              "      <td>['Не могу что-либо про перевод сказать, читал ...</td>\n",
              "      <td>0</td>\n",
              "    </tr>\n",
              "    <tr>\n",
              "      <th>4</th>\n",
              "      <td>Python Библиотеки</td>\n",
              "      <td>690.0</td>\n",
              "      <td>339</td>\n",
              "      <td>5.0</td>\n",
              "      <td>11</td>\n",
              "      <td>192</td>\n",
              "      <td>12+</td>\n",
              "      <td>Джейд Картер</td>\n",
              "      <td>2024</td>\n",
              "      <td>https://www.litres.ru/book/dzheyd-karter/pytho...</td>\n",
              "      <td>['На каждую библиотеку в книге приводится прим...</td>\n",
              "      <td>1</td>\n",
              "    </tr>\n",
              "    <tr>\n",
              "      <th>...</th>\n",
              "      <td>...</td>\n",
              "      <td>...</td>\n",
              "      <td>...</td>\n",
              "      <td>...</td>\n",
              "      <td>...</td>\n",
              "      <td>...</td>\n",
              "      <td>...</td>\n",
              "      <td>...</td>\n",
              "      <td>...</td>\n",
              "      <td>...</td>\n",
              "      <td>...</td>\n",
              "      <td>...</td>\n",
              "    </tr>\n",
              "    <tr>\n",
              "      <th>837</th>\n",
              "      <td>R-функции как аппарат в приложениях фрактально...</td>\n",
              "      <td>96.0</td>\n",
              "      <td>1</td>\n",
              "      <td>5.0</td>\n",
              "      <td>0</td>\n",
              "      <td>7</td>\n",
              "      <td>0+</td>\n",
              "      <td>А. В. Толок</td>\n",
              "      <td>2010</td>\n",
              "      <td>https://www.litres.ru/book/a-v-tolok/r-funkcii...</td>\n",
              "      <td>[]</td>\n",
              "      <td>0</td>\n",
              "    </tr>\n",
              "    <tr>\n",
              "      <th>838</th>\n",
              "      <td>Восстановление управляющих конструкций обработ...</td>\n",
              "      <td>96.0</td>\n",
              "      <td>0</td>\n",
              "      <td>0.0</td>\n",
              "      <td>0</td>\n",
              "      <td>13</td>\n",
              "      <td>0+</td>\n",
              "      <td>Е. О. Деревенец</td>\n",
              "      <td>2010</td>\n",
              "      <td>https://www.litres.ru/book/a-v-chernov/vosstan...</td>\n",
              "      <td>[]</td>\n",
              "      <td>0</td>\n",
              "    </tr>\n",
              "    <tr>\n",
              "      <th>839</th>\n",
              "      <td>Подходы к прогнозированию трафика в беспроводн...</td>\n",
              "      <td>96.0</td>\n",
              "      <td>0</td>\n",
              "      <td>0.0</td>\n",
              "      <td>0</td>\n",
              "      <td>7</td>\n",
              "      <td>0+</td>\n",
              "      <td>Е. Л. Калишенко</td>\n",
              "      <td>2010</td>\n",
              "      <td>https://www.litres.ru/book/e-l-kalishenko/podh...</td>\n",
              "      <td>[]</td>\n",
              "      <td>0</td>\n",
              "    </tr>\n",
              "    <tr>\n",
              "      <th>840</th>\n",
              "      <td>Визуализация связей выделенного множества объе...</td>\n",
              "      <td>96.0</td>\n",
              "      <td>0</td>\n",
              "      <td>0.0</td>\n",
              "      <td>0</td>\n",
              "      <td>7</td>\n",
              "      <td>0+</td>\n",
              "      <td>А. П. Лахно</td>\n",
              "      <td>2010</td>\n",
              "      <td>https://www.litres.ru/book/a-m-chepovskiy/vizu...</td>\n",
              "      <td>[]</td>\n",
              "      <td>0</td>\n",
              "    </tr>\n",
              "    <tr>\n",
              "      <th>841</th>\n",
              "      <td>Параллельное программирование среди других пар...</td>\n",
              "      <td>96.0</td>\n",
              "      <td>0</td>\n",
              "      <td>0.0</td>\n",
              "      <td>0</td>\n",
              "      <td>10</td>\n",
              "      <td>0+</td>\n",
              "      <td>Н. В. Шилов</td>\n",
              "      <td>2011</td>\n",
              "      <td>https://www.litres.ru/book/a-g-marchuk/paralle...</td>\n",
              "      <td>[]</td>\n",
              "      <td>0</td>\n",
              "    </tr>\n",
              "  </tbody>\n",
              "</table>\n",
              "<p>785 rows × 12 columns</p>\n",
              "</div>"
            ],
            "text/plain": [
              "                                                  name  price  rating_count  \\\n",
              "0                   Начинаем программировать на Python  599.0            16   \n",
              "1    Изучаем DDD – предметно-ориентированное проект...  549.0             0   \n",
              "2        System Design. Подготовка к сложному интервью  699.0            17   \n",
              "3    Высоконагруженные приложения. Программирование...  799.0            51   \n",
              "4                                    Python Библиотеки  690.0           339   \n",
              "..                                                 ...    ...           ...   \n",
              "837  R-функции как аппарат в приложениях фрактально...   96.0             1   \n",
              "838  Восстановление управляющих конструкций обработ...   96.0             0   \n",
              "839  Подходы к прогнозированию трафика в беспроводн...   96.0             0   \n",
              "840  Визуализация связей выделенного множества объе...   96.0             0   \n",
              "841  Параллельное программирование среди других пар...   96.0             0   \n",
              "\n",
              "     rating  review_count  pages_count  age           author  year  \\\n",
              "0       5.0             6          875  12+      Тони Гэддис  2021   \n",
              "1       0.0             1          319   0+     Влад Хононов  2022   \n",
              "2       3.6             9          304  16+        Алекс Сюй  2020   \n",
              "3       4.0            11          640  16+  Мартин Клеппман  2017   \n",
              "4       5.0            11          192  12+     Джейд Картер  2024   \n",
              "..      ...           ...          ...  ...              ...   ...   \n",
              "837     5.0             0            7   0+      А. В. Толок  2010   \n",
              "838     0.0             0           13   0+  Е. О. Деревенец  2010   \n",
              "839     0.0             0            7   0+  Е. Л. Калишенко  2010   \n",
              "840     0.0             0            7   0+      А. П. Лахно  2010   \n",
              "841     0.0             0           10   0+      Н. В. Шилов  2011   \n",
              "\n",
              "                                                  link  \\\n",
              "0    https://www.litres.ru/book/toni-geddis-3249116...   \n",
              "1    https://www.litres.ru/book/vlad-hononov/izucha...   \n",
              "2    https://www.litres.ru/book/aleks-suy/system-de...   \n",
              "3    https://www.litres.ru/book/martin-kleppman-173...   \n",
              "4    https://www.litres.ru/book/dzheyd-karter/pytho...   \n",
              "..                                                 ...   \n",
              "837  https://www.litres.ru/book/a-v-tolok/r-funkcii...   \n",
              "838  https://www.litres.ru/book/a-v-chernov/vosstan...   \n",
              "839  https://www.litres.ru/book/e-l-kalishenko/podh...   \n",
              "840  https://www.litres.ru/book/a-m-chepovskiy/vizu...   \n",
              "841  https://www.litres.ru/book/a-g-marchuk/paralle...   \n",
              "\n",
              "                                       text_of_reviews  is_popular  \n",
              "0    ['Шикарная книга! Начал изучать Python самосто...           1  \n",
              "1    ['Обязательно вернусь, но позжеЭта книга из то...           0  \n",
              "2    ['Добротная книга по разработке архитектуры пр...           0  \n",
              "3    ['Не могу что-либо про перевод сказать, читал ...           0  \n",
              "4    ['На каждую библиотеку в книге приводится прим...           1  \n",
              "..                                                 ...         ...  \n",
              "837                                                 []           0  \n",
              "838                                                 []           0  \n",
              "839                                                 []           0  \n",
              "840                                                 []           0  \n",
              "841                                                 []           0  \n",
              "\n",
              "[785 rows x 12 columns]"
            ]
          },
          "execution_count": 48,
          "metadata": {},
          "output_type": "execute_result"
        }
      ],
      "source": [
        "def determine_popular(df_row):\n",
        "  if df_row.rating >= 4.6 and df_row.review_count >= 5:\n",
        "    return 1\n",
        "  return 0\n",
        "\n",
        "df[\"is_popular\"] = df.apply(determine_popular, axis=1)\n",
        "df"
      ]
    },
    {
      "cell_type": "markdown",
      "metadata": {
        "id": "IYlF5rfPeb1t"
      },
      "source": [
        "\n",
        "7. Как отличается среднее число страниц среди популярных и непопулярных книг? (2)\n"
      ]
    },
    {
      "cell_type": "code",
      "execution_count": 49,
      "metadata": {
        "colab": {
          "base_uri": "https://localhost:8080/"
        },
        "id": "c026T6L4icAK",
        "outputId": "87c34dab-6a50-4854-e889-ff782db6107d"
      },
      "outputs": [
        {
          "data": {
            "text/plain": [
              "-106.36291371585492"
            ]
          },
          "execution_count": 49,
          "metadata": {},
          "output_type": "execute_result"
        }
      ],
      "source": [
        "df[df.is_popular == 0].pages_count.mean() - df[df.is_popular == 1].pages_count.mean()"
      ]
    },
    {
      "cell_type": "markdown",
      "metadata": {
        "id": "pPAUluHOedA0"
      },
      "source": [
        "\n",
        "8. Выведите топ-10 книг по числу отзывов. (2).\n"
      ]
    },
    {
      "cell_type": "code",
      "execution_count": 50,
      "metadata": {
        "colab": {
          "base_uri": "https://localhost:8080/",
          "height": 816
        },
        "id": "OctM0bl6jGpG",
        "outputId": "f89834c7-4938-4240-a5ea-09a74a1897c3"
      },
      "outputs": [
        {
          "data": {
            "text/html": [
              "<div>\n",
              "<style scoped>\n",
              "    .dataframe tbody tr th:only-of-type {\n",
              "        vertical-align: middle;\n",
              "    }\n",
              "\n",
              "    .dataframe tbody tr th {\n",
              "        vertical-align: top;\n",
              "    }\n",
              "\n",
              "    .dataframe thead th {\n",
              "        text-align: right;\n",
              "    }\n",
              "</style>\n",
              "<table border=\"1\" class=\"dataframe\">\n",
              "  <thead>\n",
              "    <tr style=\"text-align: right;\">\n",
              "      <th></th>\n",
              "      <th>name</th>\n",
              "      <th>price</th>\n",
              "      <th>rating_count</th>\n",
              "      <th>rating</th>\n",
              "      <th>review_count</th>\n",
              "      <th>pages_count</th>\n",
              "      <th>age</th>\n",
              "      <th>author</th>\n",
              "      <th>year</th>\n",
              "      <th>link</th>\n",
              "      <th>text_of_reviews</th>\n",
              "      <th>is_popular</th>\n",
              "    </tr>\n",
              "  </thead>\n",
              "  <tbody>\n",
              "    <tr>\n",
              "      <th>444</th>\n",
              "      <td>Оптимизация в Python</td>\n",
              "      <td>690.0</td>\n",
              "      <td>305</td>\n",
              "      <td>5.0</td>\n",
              "      <td>41</td>\n",
              "      <td>252</td>\n",
              "      <td>12+</td>\n",
              "      <td>Джейд Картер</td>\n",
              "      <td>2023</td>\n",
              "      <td>https://www.litres.ru/book/dzheyd-karter/optim...</td>\n",
              "      <td>['Много интересных путей оптимизации показано....</td>\n",
              "      <td>1</td>\n",
              "    </tr>\n",
              "    <tr>\n",
              "      <th>5</th>\n",
              "      <td>Нейросети начало</td>\n",
              "      <td>690.0</td>\n",
              "      <td>433</td>\n",
              "      <td>4.9</td>\n",
              "      <td>37</td>\n",
              "      <td>102</td>\n",
              "      <td>12+</td>\n",
              "      <td>Джейд Картер</td>\n",
              "      <td>2023</td>\n",
              "      <td>https://www.litres.ru/book/dzheyd-karter/neyro...</td>\n",
              "      <td>['Книга отличная. Давно хотела понять как все ...</td>\n",
              "      <td>1</td>\n",
              "    </tr>\n",
              "    <tr>\n",
              "      <th>123</th>\n",
              "      <td>Психбольница в руках пациентов. Алан Купер об ...</td>\n",
              "      <td>599.0</td>\n",
              "      <td>64</td>\n",
              "      <td>4.0</td>\n",
              "      <td>30</td>\n",
              "      <td>502</td>\n",
              "      <td>16+</td>\n",
              "      <td>Алан Купер</td>\n",
              "      <td>2004</td>\n",
              "      <td>https://www.litres.ru/book/alan-kuper/psihboln...</td>\n",
              "      <td>['хорошая книжка, но уже немного подотстает от...</td>\n",
              "      <td>0</td>\n",
              "    </tr>\n",
              "    <tr>\n",
              "      <th>120</th>\n",
              "      <td>Теоретический минимум по Computer Science. Все...</td>\n",
              "      <td>599.0</td>\n",
              "      <td>94</td>\n",
              "      <td>3.9</td>\n",
              "      <td>28</td>\n",
              "      <td>224</td>\n",
              "      <td>16+</td>\n",
              "      <td>Владстон Феррейра Фило</td>\n",
              "      <td>2017</td>\n",
              "      <td>https://www.litres.ru/book/vladston-ferreyra-f...</td>\n",
              "      <td>['Прекрасная книга. Рекомендовал и старшим шко...</td>\n",
              "      <td>0</td>\n",
              "    </tr>\n",
              "    <tr>\n",
              "      <th>333</th>\n",
              "      <td>Идеальный программист. Как стать профессионало...</td>\n",
              "      <td>449.0</td>\n",
              "      <td>191</td>\n",
              "      <td>4.6</td>\n",
              "      <td>27</td>\n",
              "      <td>247</td>\n",
              "      <td>12+</td>\n",
              "      <td>Роберт Мартин</td>\n",
              "      <td>2011</td>\n",
              "      <td>https://www.litres.ru/book/robert-s-martin/ide...</td>\n",
              "      <td>['Хорошо но малоКнига – истинный кладезь прему...</td>\n",
              "      <td>1</td>\n",
              "    </tr>\n",
              "    <tr>\n",
              "      <th>463</th>\n",
              "      <td>Говорят, в IT много платят. Как построить успе...</td>\n",
              "      <td>379.0</td>\n",
              "      <td>66</td>\n",
              "      <td>4.3</td>\n",
              "      <td>27</td>\n",
              "      <td>291</td>\n",
              "      <td>16+</td>\n",
              "      <td>Елена Правдина</td>\n",
              "      <td>2021</td>\n",
              "      <td>https://www.litres.ru/book/elena-pravdina-2543...</td>\n",
              "      <td>['Книга написана профессиональным специалистом...</td>\n",
              "      <td>0</td>\n",
              "    </tr>\n",
              "    <tr>\n",
              "      <th>148</th>\n",
              "      <td>#Сам себе программист. Как научиться программи...</td>\n",
              "      <td>299.0</td>\n",
              "      <td>128</td>\n",
              "      <td>4.2</td>\n",
              "      <td>25</td>\n",
              "      <td>210</td>\n",
              "      <td>12+</td>\n",
              "      <td>Кори Альтхофф</td>\n",
              "      <td>2017</td>\n",
              "      <td>https://www.litres.ru/book/kori-althoff/sam-se...</td>\n",
              "      <td>['Отличная книга чтобы начать программировать,...</td>\n",
              "      <td>0</td>\n",
              "    </tr>\n",
              "    <tr>\n",
              "      <th>26</th>\n",
              "      <td>Сделай видеоигру один и не свихнись</td>\n",
              "      <td>499.0</td>\n",
              "      <td>85</td>\n",
              "      <td>4.8</td>\n",
              "      <td>24</td>\n",
              "      <td>242</td>\n",
              "      <td>12+</td>\n",
              "      <td>Слава Грис</td>\n",
              "      <td>2023</td>\n",
              "      <td>https://www.litres.ru/book/slava-gris/sdelay-v...</td>\n",
              "      <td>['Отличная книга для инди-разработчиков! Must ...</td>\n",
              "      <td>1</td>\n",
              "    </tr>\n",
              "    <tr>\n",
              "      <th>121</th>\n",
              "      <td>Как пасти котов. Наставление для программистов...</td>\n",
              "      <td>599.0</td>\n",
              "      <td>63</td>\n",
              "      <td>3.4</td>\n",
              "      <td>23</td>\n",
              "      <td>434</td>\n",
              "      <td>12+</td>\n",
              "      <td>Дж. Ханк Рейнвотер</td>\n",
              "      <td>2002</td>\n",
              "      <td>https://www.litres.ru/book/dzh-hank-reynvoter/...</td>\n",
              "      <td>['Набор банальных рекомендаций по всем направл...</td>\n",
              "      <td>0</td>\n",
              "    </tr>\n",
              "    <tr>\n",
              "      <th>73</th>\n",
              "      <td>Экстремальное программирование. Разработка чер...</td>\n",
              "      <td>599.0</td>\n",
              "      <td>65</td>\n",
              "      <td>4.4</td>\n",
              "      <td>19</td>\n",
              "      <td>251</td>\n",
              "      <td>12+</td>\n",
              "      <td>Кент Бек</td>\n",
              "      <td>2003</td>\n",
              "      <td>https://www.litres.ru/book/kent-bek/ekstremaln...</td>\n",
              "      <td>['Отличное введение в TDD от автора методологи...</td>\n",
              "      <td>0</td>\n",
              "    </tr>\n",
              "  </tbody>\n",
              "</table>\n",
              "</div>"
            ],
            "text/plain": [
              "                                                  name  price  rating_count  \\\n",
              "444                               Оптимизация в Python  690.0           305   \n",
              "5                                     Нейросети начало  690.0           433   \n",
              "123  Психбольница в руках пациентов. Алан Купер об ...  599.0            64   \n",
              "120  Теоретический минимум по Computer Science. Все...  599.0            94   \n",
              "333  Идеальный программист. Как стать профессионало...  449.0           191   \n",
              "463  Говорят, в IT много платят. Как построить успе...  379.0            66   \n",
              "148  #Сам себе программист. Как научиться программи...  299.0           128   \n",
              "26                 Сделай видеоигру один и не свихнись  499.0            85   \n",
              "121  Как пасти котов. Наставление для программистов...  599.0            63   \n",
              "73   Экстремальное программирование. Разработка чер...  599.0            65   \n",
              "\n",
              "     rating  review_count  pages_count  age                  author  year  \\\n",
              "444     5.0            41          252  12+            Джейд Картер  2023   \n",
              "5       4.9            37          102  12+            Джейд Картер  2023   \n",
              "123     4.0            30          502  16+              Алан Купер  2004   \n",
              "120     3.9            28          224  16+  Владстон Феррейра Фило  2017   \n",
              "333     4.6            27          247  12+           Роберт Мартин  2011   \n",
              "463     4.3            27          291  16+          Елена Правдина  2021   \n",
              "148     4.2            25          210  12+           Кори Альтхофф  2017   \n",
              "26      4.8            24          242  12+              Слава Грис  2023   \n",
              "121     3.4            23          434  12+      Дж. Ханк Рейнвотер  2002   \n",
              "73      4.4            19          251  12+                Кент Бек  2003   \n",
              "\n",
              "                                                  link  \\\n",
              "444  https://www.litres.ru/book/dzheyd-karter/optim...   \n",
              "5    https://www.litres.ru/book/dzheyd-karter/neyro...   \n",
              "123  https://www.litres.ru/book/alan-kuper/psihboln...   \n",
              "120  https://www.litres.ru/book/vladston-ferreyra-f...   \n",
              "333  https://www.litres.ru/book/robert-s-martin/ide...   \n",
              "463  https://www.litres.ru/book/elena-pravdina-2543...   \n",
              "148  https://www.litres.ru/book/kori-althoff/sam-se...   \n",
              "26   https://www.litres.ru/book/slava-gris/sdelay-v...   \n",
              "121  https://www.litres.ru/book/dzh-hank-reynvoter/...   \n",
              "73   https://www.litres.ru/book/kent-bek/ekstremaln...   \n",
              "\n",
              "                                       text_of_reviews  is_popular  \n",
              "444  ['Много интересных путей оптимизации показано....           1  \n",
              "5    ['Книга отличная. Давно хотела понять как все ...           1  \n",
              "123  ['хорошая книжка, но уже немного подотстает от...           0  \n",
              "120  ['Прекрасная книга. Рекомендовал и старшим шко...           0  \n",
              "333  ['Хорошо но малоКнига – истинный кладезь прему...           1  \n",
              "463  ['Книга написана профессиональным специалистом...           0  \n",
              "148  ['Отличная книга чтобы начать программировать,...           0  \n",
              "26   ['Отличная книга для инди-разработчиков! Must ...           1  \n",
              "121  ['Набор банальных рекомендаций по всем направл...           0  \n",
              "73   ['Отличное введение в TDD от автора методологи...           0  "
            ]
          },
          "execution_count": 50,
          "metadata": {},
          "output_type": "execute_result"
        }
      ],
      "source": [
        "df.loc[df.review_count.nlargest(10).index]"
      ]
    },
    {
      "cell_type": "markdown",
      "metadata": {
        "id": "E92bM5UDeeG6"
      },
      "source": [
        "\n",
        "9. Найдите среднюю длину отзыва (в символах). (2)\n"
      ]
    },
    {
      "cell_type": "code",
      "execution_count": 51,
      "metadata": {
        "colab": {
          "base_uri": "https://localhost:8080/"
        },
        "id": "YzQ2xFvskLTm",
        "outputId": "bc7bb8d2-859a-4370-cc33-9db71748c5d1"
      },
      "outputs": [
        {
          "data": {
            "text/plain": [
              "367.477621091355"
            ]
          },
          "execution_count": 51,
          "metadata": {},
          "output_type": "execute_result"
        }
      ],
      "source": [
        "import ast\n",
        "\n",
        "# Чтобы превратить \"['Abacaba, daba', '...']\" в [\"Abacaba, daba\", \"...\"]\n",
        "review_texts = df.text_of_reviews.map(ast.literal_eval)\n",
        "np.char.str_len(np.hstack(review_texts)).mean()"
      ]
    },
    {
      "cell_type": "markdown",
      "metadata": {
        "id": "3hYJEJBGefXX"
      },
      "source": [
        "\n",
        "10. Постройте таблицу корреляций числовых переменных. (1) Прокомментируйте результаты. (1)\n"
      ]
    },
    {
      "cell_type": "code",
      "execution_count": 52,
      "metadata": {
        "colab": {
          "base_uri": "https://localhost:8080/",
          "height": 237
        },
        "id": "sVEy7UXhsZrY",
        "outputId": "2f40b75b-79dd-49fb-f4b0-a655ef092ac5"
      },
      "outputs": [
        {
          "data": {
            "text/html": [
              "<div>\n",
              "<style scoped>\n",
              "    .dataframe tbody tr th:only-of-type {\n",
              "        vertical-align: middle;\n",
              "    }\n",
              "\n",
              "    .dataframe tbody tr th {\n",
              "        vertical-align: top;\n",
              "    }\n",
              "\n",
              "    .dataframe thead th {\n",
              "        text-align: right;\n",
              "    }\n",
              "</style>\n",
              "<table border=\"1\" class=\"dataframe\">\n",
              "  <thead>\n",
              "    <tr style=\"text-align: right;\">\n",
              "      <th></th>\n",
              "      <th>rating</th>\n",
              "      <th>rating_count</th>\n",
              "      <th>review_count</th>\n",
              "      <th>price</th>\n",
              "      <th>pages_count</th>\n",
              "      <th>year</th>\n",
              "    </tr>\n",
              "  </thead>\n",
              "  <tbody>\n",
              "    <tr>\n",
              "      <th>rating</th>\n",
              "      <td>1.000000</td>\n",
              "      <td>0.603521</td>\n",
              "      <td>0.471275</td>\n",
              "      <td>0.409327</td>\n",
              "      <td>0.441696</td>\n",
              "      <td>0.298118</td>\n",
              "    </tr>\n",
              "    <tr>\n",
              "      <th>rating_count</th>\n",
              "      <td>0.603521</td>\n",
              "      <td>1.000000</td>\n",
              "      <td>0.856148</td>\n",
              "      <td>0.451485</td>\n",
              "      <td>0.527648</td>\n",
              "      <td>0.186535</td>\n",
              "    </tr>\n",
              "    <tr>\n",
              "      <th>review_count</th>\n",
              "      <td>0.471275</td>\n",
              "      <td>0.856148</td>\n",
              "      <td>1.000000</td>\n",
              "      <td>0.447355</td>\n",
              "      <td>0.497161</td>\n",
              "      <td>0.185912</td>\n",
              "    </tr>\n",
              "    <tr>\n",
              "      <th>price</th>\n",
              "      <td>0.409327</td>\n",
              "      <td>0.451485</td>\n",
              "      <td>0.447355</td>\n",
              "      <td>1.000000</td>\n",
              "      <td>0.694115</td>\n",
              "      <td>0.531170</td>\n",
              "    </tr>\n",
              "    <tr>\n",
              "      <th>pages_count</th>\n",
              "      <td>0.441696</td>\n",
              "      <td>0.527648</td>\n",
              "      <td>0.497161</td>\n",
              "      <td>0.694115</td>\n",
              "      <td>1.000000</td>\n",
              "      <td>0.243539</td>\n",
              "    </tr>\n",
              "    <tr>\n",
              "      <th>year</th>\n",
              "      <td>0.298118</td>\n",
              "      <td>0.186535</td>\n",
              "      <td>0.185912</td>\n",
              "      <td>0.531170</td>\n",
              "      <td>0.243539</td>\n",
              "      <td>1.000000</td>\n",
              "    </tr>\n",
              "  </tbody>\n",
              "</table>\n",
              "</div>"
            ],
            "text/plain": [
              "                rating  rating_count  review_count     price  pages_count  \\\n",
              "rating        1.000000      0.603521      0.471275  0.409327     0.441696   \n",
              "rating_count  0.603521      1.000000      0.856148  0.451485     0.527648   \n",
              "review_count  0.471275      0.856148      1.000000  0.447355     0.497161   \n",
              "price         0.409327      0.451485      0.447355  1.000000     0.694115   \n",
              "pages_count   0.441696      0.527648      0.497161  0.694115     1.000000   \n",
              "year          0.298118      0.186535      0.185912  0.531170     0.243539   \n",
              "\n",
              "                  year  \n",
              "rating        0.298118  \n",
              "rating_count  0.186535  \n",
              "review_count  0.185912  \n",
              "price         0.531170  \n",
              "pages_count   0.243539  \n",
              "year          1.000000  "
            ]
          },
          "execution_count": 52,
          "metadata": {},
          "output_type": "execute_result"
        }
      ],
      "source": [
        "corr = df[[\"rating\", \"rating_count\", \"review_count\", \"price\", \"pages_count\", \"year\"]].corr(method='spearman')\n",
        "corr"
      ]
    },
    {
      "cell_type": "code",
      "execution_count": 53,
      "metadata": {
        "colab": {
          "base_uri": "https://localhost:8080/",
          "height": 530
        },
        "id": "6-qLoL0QtfH9",
        "outputId": "50751474-750b-43b0-f7ad-1d1ba1a12d45"
      },
      "outputs": [
        {
          "data": {
            "text/plain": [
              "<Axes: >"
            ]
          },
          "execution_count": 53,
          "metadata": {},
          "output_type": "execute_result"
        },
        {
          "data": {
            "image/png": "[encoded data removed]",
            "text/plain": [
              "<Figure size 640x480 with 2 Axes>"
            ]
          },
          "metadata": {},
          "output_type": "display_data"
        }
      ],
      "source": [
        "sns.heatmap(corr)"
      ]
    },
    {
      "cell_type": "markdown",
      "metadata": {
        "id": "GwG4YLaot0XW"
      },
      "source": [
        "Видно корелляцию между pages/price, review/rating.\n",
        "\n",
        "Можно предложить гипотезы: чем больше насписано страниц (вложено сил?) тем дороже продаются книги? оценить книгу почти так же просто (сложно) как и написать отзыв?\n",
        "\n",
        "Аналогично противоположные гипотезы можно сформулировать и для пар признаков с малой корреляцией\n"
      ]
    },
    {
      "cell_type": "markdown",
      "metadata": {
        "id": "FfG4D17Ueg3D"
      },
      "source": [
        "\n",
        "11. Постройте диаграмму рассеяния (scatterplot) количества страниц и количества отзывов. Не забудьте подписать график и оси. (1) Прокомментируйте полученные результаты. (1)\n"
      ]
    },
    {
      "cell_type": "code",
      "execution_count": 54,
      "metadata": {
        "colab": {
          "base_uri": "https://localhost:8080/",
          "height": 489
        },
        "id": "Pvi1OMULuZFL",
        "outputId": "361d720e-dda4-4bc5-8761-58b804486714"
      },
      "outputs": [
        {
          "data": {
            "text/plain": [
              "Text(0.5, 1.0, 'Scatterplot pages_count/review_count')"
            ]
          },
          "execution_count": 54,
          "metadata": {},
          "output_type": "execute_result"
        },
        {
          "data": {
            "image/png": "[encoded data removed]",
            "text/plain": [
              "<Figure size 640x480 with 1 Axes>"
            ]
          },
          "metadata": {},
          "output_type": "display_data"
        }
      ],
      "source": [
        "g = sns.scatterplot(data=df, x=\"pages_count\", y=\"review_count\")\n",
        "g.set_title(\"Scatterplot pages_count/review_count\")"
      ]
    },
    {
      "cell_type": "markdown",
      "metadata": {
        "id": "05DZEeUqw4Bs"
      },
      "source": [
        "Явной связи между страницами и количеством отзывов не видно (разве что под влиянием того, что книг <600 страниц большинство, поэтому видно \"кучкование\")"
      ]
    },
    {
      "cell_type": "markdown",
      "metadata": {
        "id": "giP-w02ReiLd"
      },
      "source": [
        "\n",
        "12. Постройте линейный график: по оси Х год, по оси Y количество книг. (1) Прокомментируйте. (1)\n"
      ]
    },
    {
      "cell_type": "code",
      "execution_count": 65,
      "metadata": {
        "colab": {
          "base_uri": "https://localhost:8080/",
          "height": 489
        },
        "id": "tMjdFQouxMFU",
        "outputId": "06a12d43-0bcc-491d-f489-869025b3c14b"
      },
      "outputs": [
        {
          "data": {
            "text/plain": [
              "Text(0.5, 1.0, 'Count of books per year')"
            ]
          },
          "execution_count": 65,
          "metadata": {},
          "output_type": "execute_result"
        },
        {
          "data": {
            "image/png": "[encoded data removed]",
            "text/plain": [
              "<Figure size 640x480 with 1 Axes>"
            ]
          },
          "metadata": {},
          "output_type": "display_data"
        }
      ],
      "source": [
        "g = sns.lineplot(data=df.year.value_counts().rename_axis(\"year\").to_frame(\"count\"), x=\"year\", y=\"count\")\n",
        "g.set_title(\"Count of books per year\")"
      ]
    },
    {
      "cell_type": "markdown",
      "metadata": {
        "id": "o9FsZ39vyg83"
      },
      "source": [
        "Видно что книг с 2000-2005 годов больше в представленном датасете, что можно объяснить тем, что более новые книги легче оцифровывать или ищут новые книги скорее в интернете - от года к году.\n"
      ]
    },
    {
      "cell_type": "markdown",
      "metadata": {
        "id": "uWOStv_6esF6"
      },
      "source": [
        "\n",
        "13. Постройте еще любые два графика по вашему усмотрению. (2) Прокомментируйте полученные результаты. (1.5)"
      ]
    },
    {
      "cell_type": "code",
      "execution_count": 66,
      "metadata": {
        "colab": {
          "base_uri": "https://localhost:8080/",
          "height": 489
        },
        "id": "3YzLDR6AzHrB",
        "outputId": "e5b89f34-7e86-4657-a7ed-29aef8d20838"
      },
      "outputs": [
        {
          "data": {
            "text/plain": [
              "Text(0.5, 1.0, 'Rating distribution')"
            ]
          },
          "execution_count": 66,
          "metadata": {},
          "output_type": "execute_result"
        },
        {
          "data": {
            "image/png": "[encoded data removed]",
            "text/plain": [
              "<Figure size 640x480 with 1 Axes>"
            ]
          },
          "metadata": {},
          "output_type": "display_data"
        }
      ],
      "source": [
        "g = sns.histplot(data=df, x=\"rating\")\n",
        "g.set_title(\"Rating distribution\")"
      ]
    },
    {
      "cell_type": "markdown",
      "metadata": {
        "id": "68_LPA3gBtUm"
      },
      "source": [
        "Много книг с отсутствующим или очень хорошим рейтингом"
      ]
    },
    {
      "cell_type": "code",
      "execution_count": 67,
      "metadata": {
        "colab": {
          "base_uri": "https://localhost:8080/",
          "height": 489
        },
        "id": "-AzY8M6JBL4t",
        "outputId": "ccae0332-268d-40a4-a010-6c95b944cfb8"
      },
      "outputs": [
        {
          "data": {
            "text/plain": [
              "Text(0.5, 1.0, 'Price distribution')"
            ]
          },
          "execution_count": 67,
          "metadata": {},
          "output_type": "execute_result"
        },
        {
          "data": {
            "image/png": "[encoded data removed]",
            "text/plain": [
              "<Figure size 640x480 with 1 Axes>"
            ]
          },
          "metadata": {},
          "output_type": "display_data"
        }
      ],
      "source": [
        "g = sns.histplot(data=df, x=\"price\")\n",
        "g.set_title(\"Price distribution\")"
      ]
    },
    {
      "cell_type": "markdown",
      "metadata": {
        "id": "lIQWdhXpBQwJ"
      },
      "source": [
        "Очень много книг имеют низкую цену.\n",
        "Остальные же держатся до 1000"
      ]
    },
    {
      "cell_type": "code",
      "execution_count": 80,
      "metadata": {
        "colab": {
          "base_uri": "https://localhost:8080/"
        },
        "id": "7ntUSNUWBUre",
        "outputId": "0ceb1d63-0e92-44e2-c6ff-22cc338bb876"
      },
      "outputs": [
        {
          "data": {
            "text/plain": [
              "0.07133757961783439"
            ]
          },
          "execution_count": 80,
          "metadata": {},
          "output_type": "execute_result"
        }
      ],
      "source": [
        "df[df.price >= 700.0].size / df.size"
      ]
    },
    {
      "cell_type": "markdown",
      "metadata": {
        "id": "Oz0eF_7CeutE"
      },
      "source": [
        "\n",
        "14. Постройте таблицу с авторами книг с именем автора, количество книг в датасете, средней оценкой книг, средним количеством отзывов. (2).\n"
      ]
    },
    {
      "cell_type": "code",
      "execution_count": 81,
      "metadata": {
        "colab": {
          "base_uri": "https://localhost:8080/",
          "height": 455
        },
        "id": "bLvs8LlXAtL2",
        "outputId": "5c135954-3c28-4de8-a72c-44030982b195"
      },
      "outputs": [
        {
          "data": {
            "text/html": [
              "<div>\n",
              "<style scoped>\n",
              "    .dataframe tbody tr th:only-of-type {\n",
              "        vertical-align: middle;\n",
              "    }\n",
              "\n",
              "    .dataframe tbody tr th {\n",
              "        vertical-align: top;\n",
              "    }\n",
              "\n",
              "    .dataframe thead th {\n",
              "        text-align: right;\n",
              "    }\n",
              "</style>\n",
              "<table border=\"1\" class=\"dataframe\">\n",
              "  <thead>\n",
              "    <tr style=\"text-align: right;\">\n",
              "      <th></th>\n",
              "      <th>name</th>\n",
              "      <th>rating</th>\n",
              "      <th>review_count</th>\n",
              "    </tr>\n",
              "    <tr>\n",
              "      <th>author</th>\n",
              "      <th></th>\n",
              "      <th></th>\n",
              "      <th></th>\n",
              "    </tr>\n",
              "  </thead>\n",
              "  <tbody>\n",
              "    <tr>\n",
              "      <th>C. И. Никишов</th>\n",
              "      <td>1</td>\n",
              "      <td>4.7</td>\n",
              "      <td>3.0</td>\n",
              "    </tr>\n",
              "    <tr>\n",
              "      <th>ChatGPT-4</th>\n",
              "      <td>1</td>\n",
              "      <td>3.9</td>\n",
              "      <td>12.0</td>\n",
              "    </tr>\n",
              "    <tr>\n",
              "      <th>Eugeny Shtoltc</th>\n",
              "      <td>2</td>\n",
              "      <td>2.5</td>\n",
              "      <td>0.0</td>\n",
              "    </tr>\n",
              "    <tr>\n",
              "      <th>Jade Carter</th>\n",
              "      <td>1</td>\n",
              "      <td>0.0</td>\n",
              "      <td>0.0</td>\n",
              "    </tr>\n",
              "    <tr>\n",
              "      <th>Jean-Loup Chrétien</th>\n",
              "      <td>1</td>\n",
              "      <td>4.3</td>\n",
              "      <td>3.0</td>\n",
              "    </tr>\n",
              "    <tr>\n",
              "      <th>...</th>\n",
              "      <td>...</td>\n",
              "      <td>...</td>\n",
              "      <td>...</td>\n",
              "    </tr>\n",
              "    <tr>\n",
              "      <th>Я. А. Хетагуров</th>\n",
              "      <td>1</td>\n",
              "      <td>4.9</td>\n",
              "      <td>0.0</td>\n",
              "    </tr>\n",
              "    <tr>\n",
              "      <th>Я. М. Иваньо</th>\n",
              "      <td>1</td>\n",
              "      <td>0.0</td>\n",
              "      <td>0.0</td>\n",
              "    </tr>\n",
              "    <tr>\n",
              "      <th>Я. Н. Зайдельман</th>\n",
              "      <td>1</td>\n",
              "      <td>0.0</td>\n",
              "      <td>2.0</td>\n",
              "    </tr>\n",
              "    <tr>\n",
              "      <th>Ян Пойнтер</th>\n",
              "      <td>1</td>\n",
              "      <td>3.6</td>\n",
              "      <td>2.0</td>\n",
              "    </tr>\n",
              "    <tr>\n",
              "      <th>Ярон Мински</th>\n",
              "      <td>1</td>\n",
              "      <td>5.0</td>\n",
              "      <td>2.0</td>\n",
              "    </tr>\n",
              "  </tbody>\n",
              "</table>\n",
              "<p>585 rows × 3 columns</p>\n",
              "</div>"
            ],
            "text/plain": [
              "                    name  rating  review_count\n",
              "author                                        \n",
              "C. И. Никишов          1     4.7           3.0\n",
              "ChatGPT-4              1     3.9          12.0\n",
              "Eugeny Shtoltc         2     2.5           0.0\n",
              "Jade Carter            1     0.0           0.0\n",
              "Jean-Loup Chrétien     1     4.3           3.0\n",
              "...                  ...     ...           ...\n",
              "Я. А. Хетагуров        1     4.9           0.0\n",
              "Я. М. Иваньо           1     0.0           0.0\n",
              "Я. Н. Зайдельман       1     0.0           2.0\n",
              "Ян Пойнтер             1     3.6           2.0\n",
              "Ярон Мински            1     5.0           2.0\n",
              "\n",
              "[585 rows x 3 columns]"
            ]
          },
          "execution_count": 81,
          "metadata": {},
          "output_type": "execute_result"
        }
      ],
      "source": [
        "df.groupby('author').agg({'name': 'count', 'rating': 'mean', 'review_count': 'mean'})"
      ]
    },
    {
      "cell_type": "markdown",
      "metadata": {
        "id": "62EV3CMXx8AN"
      },
      "source": [
        "15. Что еще интересного можно увидеть в этом датасете? Просмотрите на данные и ответьте на какие-нибудь вопросы, на которые не ответили в предыдущим пункте. Мы никак не ограничиваем вашу фантазию! (3)."
      ]
    },
    {
      "cell_type": "code",
      "execution_count": 82,
      "metadata": {
        "colab": {
          "base_uri": "https://localhost:8080/",
          "height": 489
        },
        "id": "w9ZEPDvPCF_4",
        "outputId": "d2b97f57-de2b-4026-c47e-dc0148c26ba2"
      },
      "outputs": [
        {
          "data": {
            "text/plain": [
              "Text(0.5, 0, 'count of books')"
            ]
          },
          "execution_count": 82,
          "metadata": {},
          "output_type": "execute_result"
        },
        {
          "data": {
            "image/png": "[encoded data removed]",
            "text/plain": [
              "<Figure size 640x480 with 1 Axes>"
            ]
          },
          "metadata": {},
          "output_type": "display_data"
        }
      ],
      "source": [
        "# @title Распределение ограничений по возрасту\n",
        "\n",
        "from matplotlib import pyplot as plt\n",
        "import seaborn as sns\n",
        "g = df.groupby('age').size().plot(kind='barh', color=sns.palettes.mpl_palette('Dark2'))\n",
        "plt.gca().spines[['top', 'right',]].set_visible(False)\n",
        "g.set_title(\"Age restrictions distribution\")\n",
        "plt.xlabel(\"count of books\")"
      ]
    },
    {
      "cell_type": "markdown",
      "metadata": {
        "id": "jCtymHBfFSX5"
      },
      "source": [
        "Практически совсем отсутствуют 18+ и 6+.\n",
        "\n",
        "Вряд ли книги по программированию подойдут детям до 6, т.к. есть большой пласт знаний оторванный от реального физического мира.\n",
        "\n",
        "Соответственно, 18+ категория также не сильно совместима с программированием."
      ]
    },
    {
      "cell_type": "markdown",
      "metadata": {},
      "source": []
    }
  ],
  "metadata": {
    "colab": {
      "provenance": []
    },
    "kernelspec": {
      "display_name": "Python 3",
      "name": "python3"
    },
    "language_info": {
      "codemirror_mode": {
        "name": "ipython",
        "version": 3
      },
      "file_extension": ".py",
      "mimetype": "text/x-python",
      "name": "python",
      "nbconvert_exporter": "python",
      "pygments_lexer": "ipython3",
      "version": "3.10.11"
    }
  },
  "nbformat": 4,
  "nbformat_minor": 0
}
